{
 "cells": [
  {
   "cell_type": "markdown",
   "id": "37e5ef05-1f58-4ec4-8d7d-c08d2c433438",
   "metadata": {},
   "source": [
    "# Detección de barras en galaxias - Modelos Alternativos\n",
    "## Proyecto integrador MNA\n",
    "\n",
    "### Integrantes\n",
    "- Jonathan Jesús Marmolejo Hernández - A01795195\n",
    "- Isaid Posadas Oropeza - A01795015\n",
    "- Luis Daniel Ortega Muñoz - A01795197"
   ]
  },
  {
   "cell_type": "markdown",
   "id": "3f38511a-2e58-4f28-ac31-86e1273b73f3",
   "metadata": {},
   "source": [
    "# Tabla comparativa de modelos de clasificación de Galaxias Barradas\n",
    "\n",
    "| Modelo                  | Precisión (Barrada) | Precisión (No Barrada) | Recall (Barrada) | Recall (No Barrada) | F1-Score (Barrada) | F1-Score (No Barrada) | Accuracy | Notebook |\n",
    "|-------------------------|---------------------|-------------------------|-------------------|----------------------|---------------------|------------------------|----------|----------|\n",
    "| XGBoost                 | 0.56                | 0.70                    | 0.42              | 0.80                 | 0.48                | 0.74                   | 0.66     | [Ver notebook](https://github.com/ludanortmun/itesm-mna-barred-galaxies/blob/main/notebooks/XGBoost_vs_RandomForest.ipynb) |\n",
    "| Random Forest           | 0.57                | 0.72                    | 0.50              | 0.77                 | 0.53                | 0.74                   | 0.67     | [Ver notebook](https://github.com/ludanortmun/itesm-mna-barred-galaxies/blob/main/notebooks/XGBoost_vs_RandomForest.ipynb) |\n",
    "| CNN - MobileNetV3       | 0.56                | 0.80                    | 0.73              | 0.65                 | 0.63                | 0.72                   | 0.68     | [Ver notebook](https://github.com/ludanortmun/itesm-mna-barred-galaxies/blob/main/notebooks/ModelosCNNAlternativos_MobileNet_EfficientNet.ipynb) |\n",
    "| CNN - EfficientNet      | 0.56                | 0.79                    | 0.71              | 0.66                 | 0.63                | 0.72                   | 0.68     | [Ver notebook](https://github.com/ludanortmun/itesm-mna-barred-galaxies/blob/main/notebooks/ModelosCNNAlternativos_MobileNet_EfficientNet.ipynb) |\n",
    "| YOLOv5m                 | 0.64                | -                       | 0.77              | -                    | 0.70                | -                      | -        | [Ver notebook](https://github.com/ludanortmun/itesm-mna-barred-galaxies/blob/main/notebooks/Yolov5m_Sample.ipynb) \n",
    "[Ver rendimiento](https://github.com/ludanortmun/itesm-mna-barred-galaxies/blob/main/notebooks/Yolov5m_vs_Yolov8m.ipynb) |\n",
    "| YOLOv8m                 | 0.54                | -                       | 0.93              | -                    | 0.68                | -                      | -        | [Ver notebook](https://github.com/ludanortmun/itesm-mna-barred-galaxies/blob/main/notebooks/Yolov8m_Sample.ipynb) \n",
    "[Ver rendimiento](https://github.com/ludanortmun/itesm-mna-barred-galaxies/blob/main/notebooks/Yolov5m_vs_Yolov8m.ipynb)  |\n"
   ]
  },
  {
   "cell_type": "markdown",
   "id": "4afd8ab8-12d3-40d8-ae43-6a67be3bed3c",
   "metadata": {},
   "source": [
    "## Conclusiones\n",
    "\n",
    "### 1. Mejor desempeño balanceado\n",
    "Los modelos basados en redes neuronales convolucionales, específicamente **MobileNetV3** y **EfficientNet**, ofrecen el mejor equilibrio entre precisión y recall para ambas clases. Ambos alcanzan un **accuracy de 0.68**, lo que indica un rendimiento sólido en la detección tanto de galaxias barradas como no barradas.\n",
    "\n",
    "---\n",
    "\n",
    "### 2. Rendimiento de modelos clásicos\n",
    "Los modelos tradicionales como **XGBoost** y **Random Forest** también muestran un rendimiento aceptable. Sin embargo, su **bajo recall en la clase barrada** representa una limitación importante cuando el objetivo es no pasar por alto ninguna galaxia con barra.\n",
    "\n",
    "---\n",
    "\n",
    "### 3. YOLOv5m destaca por su recall\n",
    "**YOLOv5m** presenta una **alta sensibilidad (recall 0.77)** para la clase barrada, lo que lo convierte en una buena opción cuando se busca minimizar falsos negativos. Sin embargo, no se reportan métricas para la clase sin barra ni el accuracy global, lo que dificulta una comparación completa frente a los demás modelos.\n",
    "\n",
    "---\n",
    "\n",
    "### 4. YOLOv8m sobresale en sensibilidad\n",
    "**YOLOv8m** logra el **mayor recall (0.93)** para galaxias barradas, lo que lo posiciona como el modelo más sensible en la tarea de detección. No obstante, al igual que YOLOv5m, **no se han reportado métricas para la clase no barrada ni el accuracy**, por lo que su desempeño general requiere una evaluación complementaria.\n",
    "\n",
    "---\n",
    "\n",
    "### 5. ¿Por qué faltan métricas en YOLOv5m y YOLOv8m?\n",
    "A diferencia de los clasificadores tradicionales, **YOLO es un modelo de detección de objetos**, no un clasificador binario. Detecta únicamente la presencia de las clases entrenadas (en este caso, *barras*), y **no genera una predicción explícita para “sin barra”**.  \n",
    "Por lo tanto, si el modelo no detecta ninguna instancia de la clase barrada en una imagen, se asume que esta no tiene barra. Sin embargo, esta interpretación **no está representada directamente en las salidas del modelo**, lo que complica el cálculo de métricas como precisión o recall para la clase no barrada, a menos que se haga un procesamiento adicional fuera del framework.\n",
    "\n",
    "---\n",
    "\n",
    "### 6. Recomendaciones según el objetivo\n",
    "\n",
    "Dado que el objetivo principal es **detectar todas las galaxias con barra (maximizar el recall)** y al mismo tiempo **mantener una precisión razonable para reducir falsos positivos**, las recomendaciones son las siguientes:\n",
    "\n",
    "- **YOLOv8m** es la mejor opción actual si se prioriza no omitir ninguna galaxia con barra, ya que alcanza el mayor recall (0.93) entre todos los modelos evaluados. Esto lo convierte en la opción más adecuada cuando los falsos negativos deben minimizarse al máximo.\n",
    "\n",
    "- Aunque YOLOv8m puede generar una mayor cantidad de falsos positivos, es posible mitigar esto ajustando el umbral de confianza (`--conf`) para mejorar la precisión sin reducir significativamente el recall.\n",
    "\n",
    "- **YOLOv5m** también representa una alternativa válida. Tiene un recall de 0.77 y una mejor precisión que YOLOv8m (0.64 vs 0.54), por lo que podría ser útil si se busca reducir ligeramente los falsos positivos a cambio de un leve descenso en sensibilidad.\n",
    "\n",
    "- Los modelos tradicionales como **Random Forest** y **XGBoost** no son adecuados para este objetivo, ya que su bajo recall en la clase barrada indica que podrían pasar por alto una proporción considerable de galaxias con barra.\n",
    "\n",
    "- Los modelos **CNN (MobileNetV3 y EfficientNet)** ofrecen un rendimiento balanceado y aceptable en ambas clases, pero no alcanzan el nivel de sensibilidad que proporcionan los modelos YOLO.\n",
    "\n",
    "En conclusión, **YOLOv8m** es la opción más efectiva si el objetivo es capturar la mayor cantidad posible de galaxias barradas, incluso si eso implica aceptar algunas falsas detecciones.\n",
    "\n",
    "\n",
    "---\n",
    "\n",
    "### 7. Consideración de variantes más grandes de YOLO\n",
    "Existen versiones más potentes como **YOLOv5l**, **YOLOv5x**, **YOLOv8l** o **YOLOv8x**, que cuentan con arquitecturas más profundas y mayor capacidad de representación. Estos modelos podrían ofrecer **mejores métricas de precisión y recall**, pero requieren **mayor tiempo de entrenamiento y más recursos computacionales**. Su evaluación es recomendable si se busca un rendimiento superior y se dispone del hardware adecuado.\n"
   ]
  },
  {
   "cell_type": "code",
   "execution_count": null,
   "id": "2fb29a18-4a8f-4de4-96dd-d9c2fc58be79",
   "metadata": {},
   "outputs": [],
   "source": []
  }
 ],
 "metadata": {
  "kernelspec": {
   "display_name": "Python 3 (ipykernel)",
   "language": "python",
   "name": "python3"
  },
  "language_info": {
   "codemirror_mode": {
    "name": "ipython",
    "version": 3
   },
   "file_extension": ".py",
   "mimetype": "text/x-python",
   "name": "python",
   "nbconvert_exporter": "python",
   "pygments_lexer": "ipython3",
   "version": "3.12.2"
  }
 },
 "nbformat": 4,
 "nbformat_minor": 5
}
