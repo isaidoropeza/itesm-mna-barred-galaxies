{
 "cells": [
  {
   "metadata": {},
   "cell_type": "markdown",
   "source": [
    "# Detección de barras en galaxias - Modelo \"Baseline\"\n",
    "## Proyecto integrador MNA\n",
    "\n",
    "### Integrantes\n",
    "- Jonathan Jesús Marmolejo Hernández - A01795195\n",
    "- Isaid Posadas Oropeza - A01795015\n",
    "- Luis Daniel Ortega Muñoz - A01795197"
   ],
   "id": "83c1172cf0612932"
  },
  {
   "cell_type": "code",
   "execution_count": null,
   "id": "initial_id",
   "metadata": {
    "collapsed": true
   },
   "outputs": [],
   "source": [
    ""
   ]
  }
 ],
 "metadata": {
  "kernelspec": {
   "display_name": "Python 3",
   "language": "python",
   "name": "python3"
  },
  "language_info": {
   "codemirror_mode": {
    "name": "ipython",
    "version": 2
   },
   "file_extension": ".py",
   "mimetype": "text/x-python",
   "name": "python",
   "nbconvert_exporter": "python",
   "pygments_lexer": "ipython2",
   "version": "2.7.6"
  }
 },
 "nbformat": 4,
 "nbformat_minor": 5
}
