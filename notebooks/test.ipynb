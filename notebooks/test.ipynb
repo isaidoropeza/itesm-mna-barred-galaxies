{
 "cells": [
  {
   "cell_type": "code",
   "id": "initial_id",
   "metadata": {
    "collapsed": true
   },
   "source": [
    "from collections import OrderedDict\n",
    "\n",
    "import torch\n",
    "\n",
    "from bargal.classifier import GalaxyClassifier\n",
    "from bargal.images.client import GalaxyImageClient\n",
    "from bargal.preprocessing import GRLOG_GR_DIFF\n",
    "from bargal.dataset.load import load_dataset"
   ],
   "outputs": [],
   "execution_count": null
  },
  {
   "metadata": {},
   "cell_type": "code",
   "source": [
    "state_dict = torch.load('../models/model.pth', weights_only=True, map_location='cpu')\n",
    "img_client = GalaxyImageClient(storage_path=r'D:\\datasets\\bargal\\images')"
   ],
   "id": "5ae17c525678fe54",
   "outputs": [],
   "execution_count": null
  },
  {
   "metadata": {},
   "cell_type": "code",
   "source": [
    "n_state_dict = OrderedDict()\n",
    "\n",
    "for (k, v) in state_dict.items():\n",
    "    n_state_dict[k[10:]]=v"
   ],
   "id": "925ba6537f0a33a1",
   "outputs": [],
   "execution_count": null
  },
  {
   "metadata": {},
   "cell_type": "code",
   "source": "classifier = GalaxyClassifier(img_client=img_client, state_dict=n_state_dict, img_preprocessor=GRLOG_GR_DIFF)",
   "id": "8023081e4f0bb64",
   "outputs": [],
   "execution_count": null
  },
  {
   "metadata": {},
   "cell_type": "code",
   "source": "df = load_dataset('../data/dataset.csv')",
   "id": "f164e631c6cbfb27",
   "outputs": [],
   "execution_count": null
  },
  {
   "metadata": {},
   "cell_type": "code",
   "source": [
    "def get_random_galaxy(label=None):\n",
    "    if label is None:\n",
    "        return df.sample(1).to_dict(orient='records')[0]\n",
    "\n",
    "    return df[df.Bars == label].sample(1).to_dict(orient='records')[0]"
   ],
   "id": "f70fa1939d0cf2e6",
   "outputs": [],
   "execution_count": null
  },
  {
   "metadata": {},
   "cell_type": "code",
   "source": [
    "barred = df[df['Bars'] == 1].reset_index(drop=True)\n",
    "\n",
    "barred.info()"
   ],
   "id": "88f3198d5c753d0c",
   "outputs": [],
   "execution_count": null
  },
  {
   "metadata": {},
   "cell_type": "code",
   "source": [
    "for i in range(len(barred)):\n",
    "    g = barred.iloc[i].to_dict()\n",
    "    print(classifier.classify(g))"
   ],
   "id": "aad17c6ab1c768bb",
   "outputs": [],
   "execution_count": null
  }
 ],
 "metadata": {
  "kernelspec": {
   "display_name": "Python 3",
   "language": "python",
   "name": "python3"
  },
  "language_info": {
   "codemirror_mode": {
    "name": "ipython",
    "version": 2
   },
   "file_extension": ".py",
   "mimetype": "text/x-python",
   "name": "python",
   "nbconvert_exporter": "python",
   "pygments_lexer": "ipython2",
   "version": "2.7.6"
  }
 },
 "nbformat": 4,
 "nbformat_minor": 5
}
