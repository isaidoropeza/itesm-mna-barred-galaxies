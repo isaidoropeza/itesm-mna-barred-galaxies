{
 "cells": [
  {
   "cell_type": "code",
   "id": "initial_id",
   "metadata": {
    "collapsed": true,
    "ExecuteTime": {
     "end_time": "2025-05-19T02:20:50.772260Z",
     "start_time": "2025-05-19T02:20:47.950987Z"
    }
   },
   "source": [
    "from collections import OrderedDict\n",
    "\n",
    "import torch\n",
    "\n",
    "from bargal.predictors.baseline.predictor import MLPBaselinePredictor\n",
    "from bargal.images.client import GalaxyImageClient\n",
    "from bargal.preprocessing import GRLOG_GR_DIFF\n",
    "from bargal.dataset.load import load_dataset"
   ],
   "outputs": [],
   "execution_count": 1
  },
  {
   "metadata": {
    "ExecuteTime": {
     "end_time": "2025-05-19T02:20:50.990903Z",
     "start_time": "2025-05-19T02:20:50.976464Z"
    }
   },
   "cell_type": "code",
   "source": "img_client = GalaxyImageClient(storage_path=r'D:\\datasets\\bargal\\images')",
   "id": "5ae17c525678fe54",
   "outputs": [],
   "execution_count": 2
  },
  {
   "metadata": {
    "ExecuteTime": {
     "end_time": "2025-05-19T02:20:51.523009Z",
     "start_time": "2025-05-19T02:20:51.008576Z"
    }
   },
   "cell_type": "code",
   "source": "classifier = MLPBaselinePredictor(img_client=img_client)",
   "id": "8023081e4f0bb64",
   "outputs": [],
   "execution_count": 3
  },
  {
   "metadata": {
    "ExecuteTime": {
     "end_time": "2025-05-19T02:20:51.554218Z",
     "start_time": "2025-05-19T02:20:51.540426Z"
    }
   },
   "cell_type": "code",
   "source": "df = load_dataset('../data/dataset.csv')",
   "id": "f164e631c6cbfb27",
   "outputs": [],
   "execution_count": 4
  },
  {
   "metadata": {
    "ExecuteTime": {
     "end_time": "2025-05-19T02:20:51.586760Z",
     "start_time": "2025-05-19T02:20:51.571850Z"
    }
   },
   "cell_type": "code",
   "source": [
    "def get_random_galaxy(label=None):\n",
    "    if label is None:\n",
    "        return df.sample(1).to_dict(orient='records')[0]\n",
    "\n",
    "    return df[df.Bars == label].sample(1).to_dict(orient='records')[0]"
   ],
   "id": "f70fa1939d0cf2e6",
   "outputs": [],
   "execution_count": 5
  },
  {
   "metadata": {
    "ExecuteTime": {
     "end_time": "2025-05-19T02:20:51.680694Z",
     "start_time": "2025-05-19T02:20:51.604776Z"
    }
   },
   "cell_type": "code",
   "source": [
    "g = get_random_galaxy(1)\n",
    "\n",
    "display(g)\n",
    "\n",
    "display(f\"result= {classifier.classify(g)}\")"
   ],
   "id": "aad17c6ab1c768bb",
   "outputs": [
    {
     "data": {
      "text/plain": [
       "{'name': 'manga-8315-12703',\n",
       " 'objra': 236.2674028,\n",
       " 'objdec': 39.8598311064,\n",
       " 'Bars': 1.0}"
      ]
     },
     "metadata": {},
     "output_type": "display_data"
    },
    {
     "data": {
      "text/plain": [
       "'result= True'"
      ]
     },
     "metadata": {},
     "output_type": "display_data"
    }
   ],
   "execution_count": 6
  },
  {
   "metadata": {
    "ExecuteTime": {
     "end_time": "2025-05-19T02:20:51.794994Z",
     "start_time": "2025-05-19T02:20:51.713851Z"
    }
   },
   "cell_type": "code",
   "source": [
    "g = get_random_galaxy(0)\n",
    "\n",
    "display(g)\n",
    "\n",
    "display(f\"result= {classifier.classify(g)}\")"
   ],
   "id": "d96121da29a4f4d8",
   "outputs": [
    {
     "data": {
      "text/plain": [
       "{'name': 'manga-10519-9102',\n",
       " 'objra': 155.401392135,\n",
       " 'objdec': 6.0259470289,\n",
       " 'Bars': 0.0}"
      ]
     },
     "metadata": {},
     "output_type": "display_data"
    },
    {
     "data": {
      "text/plain": [
       "'result= True'"
      ]
     },
     "metadata": {},
     "output_type": "display_data"
    }
   ],
   "execution_count": 7
  },
  {
   "metadata": {
    "ExecuteTime": {
     "end_time": "2025-05-19T02:20:51.906572Z",
     "start_time": "2025-05-19T02:20:51.828132Z"
    }
   },
   "cell_type": "code",
   "source": [
    "g = get_random_galaxy(0.75)\n",
    "\n",
    "display(g)\n",
    "\n",
    "display(f\"result= {classifier.classify(g)}\")"
   ],
   "id": "77b071dd0c45e7f8",
   "outputs": [
    {
     "data": {
      "text/plain": [
       "{'name': 'manga-9086-6103',\n",
       " 'objra': 241.856164707,\n",
       " 'objdec': 25.4436218452,\n",
       " 'Bars': 0.75}"
      ]
     },
     "metadata": {},
     "output_type": "display_data"
    },
    {
     "data": {
      "text/plain": [
       "'result= True'"
      ]
     },
     "metadata": {},
     "output_type": "display_data"
    }
   ],
   "execution_count": 8
  }
 ],
 "metadata": {
  "kernelspec": {
   "display_name": "Python 3",
   "language": "python",
   "name": "python3"
  },
  "language_info": {
   "codemirror_mode": {
    "name": "ipython",
    "version": 2
   },
   "file_extension": ".py",
   "mimetype": "text/x-python",
   "name": "python",
   "nbconvert_exporter": "python",
   "pygments_lexer": "ipython2",
   "version": "2.7.6"
  }
 },
 "nbformat": 4,
 "nbformat_minor": 5
}
