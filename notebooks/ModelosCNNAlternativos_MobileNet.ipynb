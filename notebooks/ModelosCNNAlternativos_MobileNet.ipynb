{
  "cells": [
    {
      "metadata": {
        "id": "bdf15e0bc131cf62"
      },
      "cell_type": "markdown",
      "source": [
        "# Modelos alternativos - CNNs - MobileNetV3"
      ],
      "id": "bdf15e0bc131cf62"
    },
    {
      "cell_type": "code",
      "id": "initial_id",
      "metadata": {
        "collapsed": true,
        "ExecuteTime": {
          "end_time": "2025-05-25T06:58:44.577702Z",
          "start_time": "2025-05-25T06:58:44.567971Z"
        },
        "id": "initial_id",
        "outputId": "40661ae4-752a-45b8-c449-b64a4ad5ec68",
        "colab": {
          "base_uri": "https://localhost:8080/"
        }
      },
      "source": [
        "from google.colab import drive\n",
        "drive.mount('/content/drive')"
      ],
      "outputs": [
        {
          "output_type": "stream",
          "name": "stdout",
          "text": [
            "Mounted at /content/drive\n"
          ]
        }
      ],
      "execution_count": 1
    },
    {
      "metadata": {
        "ExecuteTime": {
          "end_time": "2025-05-25T06:58:44.609355Z",
          "start_time": "2025-05-25T06:58:44.594710Z"
        },
        "id": "81f90f24670aa01f",
        "collapsed": true
      },
      "cell_type": "code",
      "source": [
        "!unzip -qq '/content/drive/MyDrive/datasets/bargal/dataset.processed.GRLogDiff.zip' -d './data/processed'"
      ],
      "id": "81f90f24670aa01f",
      "outputs": [],
      "execution_count": 5
    },
    {
      "metadata": {
        "ExecuteTime": {
          "end_time": "2025-05-25T06:58:44.628223Z",
          "start_time": "2025-05-25T06:58:44.616830Z"
        },
        "id": "ff629b73bf10675e",
        "outputId": "b8920b52-2bc0-4d4c-9a26-08a377a3cbca",
        "colab": {
          "base_uri": "https://localhost:8080/"
        },
        "collapsed": true
      },
      "cell_type": "code",
      "source": [
        "# Uncomment this if running in Google Colab. It will install the bargal package from GitHub.\n",
        "!pip install git+https://github.com/ludanortmun/itesm-mna-barred-galaxies.git -q"
      ],
      "id": "ff629b73bf10675e",
      "outputs": [
        {
          "output_type": "stream",
          "name": "stdout",
          "text": [
            "  Preparing metadata (setup.py) ... \u001b[?25l\u001b[?25hdone\n",
            "\u001b[2K     \u001b[90m━━━━━━━━━━━━━━━━━━━━━━━━━━━━━━━━━━━━━━━━\u001b[0m \u001b[32m89.9/89.9 kB\u001b[0m \u001b[31m2.6 MB/s\u001b[0m eta \u001b[36m0:00:00\u001b[0m\n",
            "\u001b[2K   \u001b[90m━━━━━━━━━━━━━━━━━━━━━━━━━━━━━━━━━━━━━━━━\u001b[0m \u001b[32m10.2/10.2 MB\u001b[0m \u001b[31m79.0 MB/s\u001b[0m eta \u001b[36m0:00:00\u001b[0m\n",
            "\u001b[2K   \u001b[90m━━━━━━━━━━━━━━━━━━━━━━━━━━━━━━━━━━━━━━━━\u001b[0m \u001b[32m298.0/298.0 kB\u001b[0m \u001b[31m29.5 MB/s\u001b[0m eta \u001b[36m0:00:00\u001b[0m\n",
            "\u001b[2K   \u001b[90m━━━━━━━━━━━━━━━━━━━━━━━━━━━━━━━━━━━━━━━━\u001b[0m \u001b[32m13.1/13.1 MB\u001b[0m \u001b[31m126.9 MB/s\u001b[0m eta \u001b[36m0:00:00\u001b[0m\n",
            "\u001b[2K   \u001b[90m━━━━━━━━━━━━━━━━━━━━━━━━━━━━━━━━━━━━━━━━\u001b[0m \u001b[32m863.4/863.4 kB\u001b[0m \u001b[31m60.7 MB/s\u001b[0m eta \u001b[36m0:00:00\u001b[0m\n",
            "\u001b[?25h  Building wheel for bargal (setup.py) ... \u001b[?25l\u001b[?25hdone\n",
            "\u001b[31mERROR: pip's dependency resolver does not currently take into account all the packages that are installed. This behaviour is the source of the following dependency conflicts.\n",
            "ipython 7.34.0 requires jedi>=0.16, which is not installed.\n",
            "google-colab 1.0.0 requires pandas==2.2.2, but you have pandas 2.2.3 which is incompatible.\u001b[0m\u001b[31m\n",
            "\u001b[0m"
          ]
        }
      ],
      "execution_count": 6
    },
    {
      "metadata": {
        "ExecuteTime": {
          "end_time": "2025-05-25T06:58:50.663173Z",
          "start_time": "2025-05-25T06:58:45.262351Z"
        },
        "id": "1f4070312937a51e"
      },
      "cell_type": "code",
      "source": [
        "import torch.nn as nn\n",
        "import pandas as pd\n",
        "from sklearn.model_selection import train_test_split\n",
        "from sklearn.metrics import confusion_matrix, classification_report, recall_score, f1_score, accuracy_score, \\\n",
        "    precision_score\n",
        "import torch\n",
        "from torch.optim import Adam\n",
        "from torch.utils.data import Dataset, DataLoader\n",
        "from torchvision import transforms\n",
        "import matplotlib.pyplot as plt\n",
        "import numpy as np\n",
        "import seaborn as sns\n",
        "\n",
        "from PIL import Image\n",
        "\n",
        "from bargal.dataset.load import load_dataset"
      ],
      "id": "1f4070312937a51e",
      "outputs": [],
      "execution_count": 1
    },
    {
      "metadata": {
        "ExecuteTime": {
          "end_time": "2025-05-25T06:58:50.698756Z",
          "start_time": "2025-05-25T06:58:50.684637Z"
        },
        "id": "6f26a3a5e0e5a829",
        "outputId": "73ea1ae6-3759-49e0-ad1c-8f3402aba990",
        "colab": {
          "base_uri": "https://localhost:8080/"
        }
      },
      "cell_type": "code",
      "source": [
        "device = torch.device('cuda' if torch.cuda.is_available() else 'cpu')\n",
        "print(f'Using device: {device}')"
      ],
      "id": "6f26a3a5e0e5a829",
      "outputs": [
        {
          "output_type": "stream",
          "name": "stdout",
          "text": [
            "Using device: cuda\n"
          ]
        }
      ],
      "execution_count": 2
    },
    {
      "metadata": {
        "id": "42846aa2074f14ce"
      },
      "cell_type": "markdown",
      "source": [
        "# Preparando el conjunto de datos"
      ],
      "id": "42846aa2074f14ce"
    },
    {
      "metadata": {
        "id": "b9a5419ddf461590"
      },
      "cell_type": "markdown",
      "source": [
        "El primer paso consiste en cargar nuestro conjunto de datos y dividirlo en conjunto de entrenamiento, validación y prueba."
      ],
      "id": "b9a5419ddf461590"
    },
    {
      "metadata": {
        "ExecuteTime": {
          "end_time": "2025-05-25T06:58:50.793437Z",
          "start_time": "2025-05-25T06:58:50.755374Z"
        },
        "id": "11fbeb4d7d057fb8",
        "outputId": "b62110d7-e947-43f4-e8a4-77d5869f0237",
        "colab": {
          "base_uri": "https://localhost:8080/"
        }
      },
      "cell_type": "code",
      "source": [
        "dataset_path = './data/dataset.csv'\n",
        "\n",
        "df = load_dataset(dataset_path)\n",
        "\n",
        "train_df, val_test_df = train_test_split(df, test_size=0.3, random_state=42, stratify=df['Bars'])\n",
        "valid_df, test_df = train_test_split(val_test_df, test_size=0.5, random_state=42, stratify=val_test_df['Bars'])\n",
        "\n",
        "print(f'Train size: {len(train_df)}')\n",
        "print(f'Validation size: {len(valid_df)}')\n",
        "print(f'Test size: {len(test_df)}')"
      ],
      "id": "11fbeb4d7d057fb8",
      "outputs": [
        {
          "output_type": "stream",
          "name": "stdout",
          "text": [
            "Train size: 7088\n",
            "Validation size: 1519\n",
            "Test size: 1519\n"
          ]
        }
      ],
      "execution_count": 3
    },
    {
      "metadata": {
        "id": "3e5a96a2d054209"
      },
      "cell_type": "markdown",
      "source": [
        "Ahora creamos nuestra clase para representar el conjunto de datos, heredando de Dataset de PyTorch. El dataset a utilizar para nuestra red neuronal consiste en imágenes de galaxias y su respectiva etiqueta, que indica si la galaxia tiene o no una barra.\n",
        "\n",
        "La etiqueta es un tensor de tamaño 1, donde 1 indica que la galaxia tiene una barra y 0 indica que no. Sin embargo, el conjunto de datos original no tiene etiquetas binarias, sino múltiples categorías indicando el tipo de barra que tiene la galaxia. Por lo tanto, convertimos cualquier etiqueta que represente la presencia de una barra (independientemente de sus características) a 1 y cualquier etiqueta que represente la ausencia de una barra a 0. También debemos filtrar elementos con la etiqueta -0.5, la cual simboliza que la categoria de la galaxia es desconocida. Estas transformaciones fueron exploradas previamente en el entregable [Avance1.Equipo22.ipynb](https://github.com/ludanortmun/itesm-mna-barred-galaxies/tree/main/notebooks/Avance1.Equipo22.ipynb), donde se creó la columna `has_bar` derivada de `Bars` y se filtraron los elementos sin clasificación.\n",
        "\n",
        "En cuanto a la carga de imágenes, este conjunto de datos consiste en las imágenes de galaxias sin procesamiento, en formato JPG a color. El preprocesamiento consiste, principalmente, en la sustracción de las bandas G y R para enfatizar las estructuras de barras. Las imágenes resultantes tienen dimensiones de 400x400 píxeles y están en escala de grises. Sin embargo, debido a que esta red neuronal espera imágenes con 3 canales de entrada, la imagen es convertida a representación RGB. Estas imágenes son cargadas utilizando la librería PIL y convertidas a tensores.\n",
        "\n",
        "El script de preprocesamiento puede ser consultado en este enlace: [bargal/commands/preprocess.py](https://github.com/ludanortmun/itesm-mna-barred-galaxies/blob/297f69b278ea6bc5099ef23a0d539602995bc55e/bargal/commands/preprocess.py)\n",
        "\n",
        "El conjunto de imágenes pre procesadas puede descargarse con el siguiente enlace: [dataset.processed.GRLogDiff](https://tecmx-my.sharepoint.com/:u:/g/personal/a01795197_tec_mx/EexaLnqaLLdCt1JNxLib8VYBeOHJo95vuOr-Pfxv-55Iww?e=0gfeuq)\n"
      ],
      "id": "3e5a96a2d054209"
    },
    {
      "metadata": {
        "ExecuteTime": {
          "end_time": "2025-05-25T06:58:50.861638Z",
          "start_time": "2025-05-25T06:58:50.848014Z"
        },
        "id": "bbed19f118f23aa7"
      },
      "cell_type": "code",
      "source": [
        "class GalaxiesDataset(Dataset):\n",
        "    def __init__(self, galaxies_df: pd.DataFrame, img_dir: str):\n",
        "        self.filtered_df = galaxies_df[galaxies_df['Bars'] >= 0].reset_index(drop=True)\n",
        "        self.img_dir = img_dir\n",
        "\n",
        "    def __len__(self):\n",
        "        return len(self.filtered_df)\n",
        "\n",
        "    def __getitem__(self, idx):\n",
        "        row = self.filtered_df.iloc[idx]\n",
        "        label = 1.0 if row['Bars'] != 0 else 0.0\n",
        "        img_path = f\"{self.img_dir}/{row['name']}.png\"\n",
        "\n",
        "        # Load image and convert to tensor\n",
        "        with Image.open(img_path) as img:\n",
        "            # Convert grayscale to RGB\n",
        "            image = transforms.ToTensor()(img.convert('RGB'))\n",
        "\n",
        "        return image.to(device), torch.tensor([label], dtype=torch.float32).to(device)"
      ],
      "id": "bbed19f118f23aa7",
      "outputs": [],
      "execution_count": 4
    },
    {
      "metadata": {
        "ExecuteTime": {
          "end_time": "2025-05-25T07:21:30.209803Z",
          "start_time": "2025-05-25T07:21:30.195280Z"
        },
        "id": "59e235dcdf6ae7a3"
      },
      "cell_type": "code",
      "source": [
        "n = 32\n",
        "processed_images_path = './data/processed'\n",
        "\n",
        "train_data = GalaxiesDataset(train_df, processed_images_path)\n",
        "train_loader = DataLoader(train_data, batch_size=n, shuffle=True)\n",
        "train_N = len(train_loader.dataset)\n",
        "\n",
        "valid_data = GalaxiesDataset(valid_df, processed_images_path)\n",
        "valid_loader = DataLoader(valid_data, batch_size=n)\n",
        "valid_N = len(valid_loader.dataset)\n",
        "\n",
        "test_data = GalaxiesDataset(test_df, processed_images_path)\n",
        "test_loader = DataLoader(test_data, batch_size=n)\n",
        "test_N = len(test_loader.dataset)"
      ],
      "id": "59e235dcdf6ae7a3",
      "outputs": [],
      "execution_count": 5
    },
    {
      "cell_type": "markdown",
      "source": [
        "# Modelo 1: MobileNetV3"
      ],
      "metadata": {
        "id": "JogiT6ragfWt"
      },
      "id": "JogiT6ragfWt"
    },
    {
      "metadata": {
        "id": "2e1f9c30296d49b3"
      },
      "cell_type": "markdown",
      "source": [
        "## Definiendo el modelo"
      ],
      "id": "2e1f9c30296d49b3"
    },
    {
      "metadata": {
        "id": "e722ee56ecf3e277"
      },
      "cell_type": "markdown",
      "source": [
        "### Modelo pre-entrenado base"
      ],
      "id": "e722ee56ecf3e277"
    },
    {
      "metadata": {
        "id": "4474e71b944072a8"
      },
      "cell_type": "markdown",
      "source": [
        "Para este modelo, se utilizará la arquitectura MobileNet V3 en su variante Large pre-entrenada con el conjunto de datos de ImageNet."
      ],
      "id": "4474e71b944072a8"
    },
    {
      "metadata": {
        "ExecuteTime": {
          "end_time": "2025-05-25T06:58:51.929Z",
          "start_time": "2025-05-25T06:58:50.940981Z"
        },
        "id": "e7041595665e0212",
        "outputId": "aa0d393f-d11a-426a-b298-c9f8a8129ccf",
        "colab": {
          "base_uri": "https://localhost:8080/"
        }
      },
      "cell_type": "code",
      "source": [
        "from torchvision.models.mobilenet import mobilenet_v3_large\n",
        "from torchvision.models import MobileNet_V3_Large_Weights\n",
        "\n",
        "weights = MobileNet_V3_Large_Weights.DEFAULT\n",
        "mobilenet_base_model = mobilenet_v3_large(weights=weights)"
      ],
      "id": "e7041595665e0212",
      "outputs": [
        {
          "output_type": "stream",
          "name": "stderr",
          "text": [
            "Downloading: \"https://download.pytorch.org/models/mobilenet_v3_large-5c1a4163.pth\" to /root/.cache/torch/hub/checkpoints/mobilenet_v3_large-5c1a4163.pth\n",
            "100%|██████████| 21.1M/21.1M [00:00<00:00, 142MB/s] \n"
          ]
        }
      ],
      "execution_count": 6
    },
    {
      "metadata": {
        "ExecuteTime": {
          "end_time": "2025-05-25T06:58:51.975322Z",
          "start_time": "2025-05-25T06:58:51.955063Z"
        },
        "id": "584f2fd358c8e359",
        "outputId": "83518402-5d67-452c-8aef-b061b133f939",
        "colab": {
          "base_uri": "https://localhost:8080/"
        },
        "collapsed": true
      },
      "cell_type": "code",
      "source": [
        "mobilenet_base_model.to(device)\n",
        "mobilenet_base_model.requires_grad_(False)"
      ],
      "id": "584f2fd358c8e359",
      "outputs": [
        {
          "output_type": "execute_result",
          "data": {
            "text/plain": [
              "MobileNetV3(\n",
              "  (features): Sequential(\n",
              "    (0): Conv2dNormActivation(\n",
              "      (0): Conv2d(3, 16, kernel_size=(3, 3), stride=(2, 2), padding=(1, 1), bias=False)\n",
              "      (1): BatchNorm2d(16, eps=0.001, momentum=0.01, affine=True, track_running_stats=True)\n",
              "      (2): Hardswish()\n",
              "    )\n",
              "    (1): InvertedResidual(\n",
              "      (block): Sequential(\n",
              "        (0): Conv2dNormActivation(\n",
              "          (0): Conv2d(16, 16, kernel_size=(3, 3), stride=(1, 1), padding=(1, 1), groups=16, bias=False)\n",
              "          (1): BatchNorm2d(16, eps=0.001, momentum=0.01, affine=True, track_running_stats=True)\n",
              "          (2): ReLU(inplace=True)\n",
              "        )\n",
              "        (1): Conv2dNormActivation(\n",
              "          (0): Conv2d(16, 16, kernel_size=(1, 1), stride=(1, 1), bias=False)\n",
              "          (1): BatchNorm2d(16, eps=0.001, momentum=0.01, affine=True, track_running_stats=True)\n",
              "        )\n",
              "      )\n",
              "    )\n",
              "    (2): InvertedResidual(\n",
              "      (block): Sequential(\n",
              "        (0): Conv2dNormActivation(\n",
              "          (0): Conv2d(16, 64, kernel_size=(1, 1), stride=(1, 1), bias=False)\n",
              "          (1): BatchNorm2d(64, eps=0.001, momentum=0.01, affine=True, track_running_stats=True)\n",
              "          (2): ReLU(inplace=True)\n",
              "        )\n",
              "        (1): Conv2dNormActivation(\n",
              "          (0): Conv2d(64, 64, kernel_size=(3, 3), stride=(2, 2), padding=(1, 1), groups=64, bias=False)\n",
              "          (1): BatchNorm2d(64, eps=0.001, momentum=0.01, affine=True, track_running_stats=True)\n",
              "          (2): ReLU(inplace=True)\n",
              "        )\n",
              "        (2): Conv2dNormActivation(\n",
              "          (0): Conv2d(64, 24, kernel_size=(1, 1), stride=(1, 1), bias=False)\n",
              "          (1): BatchNorm2d(24, eps=0.001, momentum=0.01, affine=True, track_running_stats=True)\n",
              "        )\n",
              "      )\n",
              "    )\n",
              "    (3): InvertedResidual(\n",
              "      (block): Sequential(\n",
              "        (0): Conv2dNormActivation(\n",
              "          (0): Conv2d(24, 72, kernel_size=(1, 1), stride=(1, 1), bias=False)\n",
              "          (1): BatchNorm2d(72, eps=0.001, momentum=0.01, affine=True, track_running_stats=True)\n",
              "          (2): ReLU(inplace=True)\n",
              "        )\n",
              "        (1): Conv2dNormActivation(\n",
              "          (0): Conv2d(72, 72, kernel_size=(3, 3), stride=(1, 1), padding=(1, 1), groups=72, bias=False)\n",
              "          (1): BatchNorm2d(72, eps=0.001, momentum=0.01, affine=True, track_running_stats=True)\n",
              "          (2): ReLU(inplace=True)\n",
              "        )\n",
              "        (2): Conv2dNormActivation(\n",
              "          (0): Conv2d(72, 24, kernel_size=(1, 1), stride=(1, 1), bias=False)\n",
              "          (1): BatchNorm2d(24, eps=0.001, momentum=0.01, affine=True, track_running_stats=True)\n",
              "        )\n",
              "      )\n",
              "    )\n",
              "    (4): InvertedResidual(\n",
              "      (block): Sequential(\n",
              "        (0): Conv2dNormActivation(\n",
              "          (0): Conv2d(24, 72, kernel_size=(1, 1), stride=(1, 1), bias=False)\n",
              "          (1): BatchNorm2d(72, eps=0.001, momentum=0.01, affine=True, track_running_stats=True)\n",
              "          (2): ReLU(inplace=True)\n",
              "        )\n",
              "        (1): Conv2dNormActivation(\n",
              "          (0): Conv2d(72, 72, kernel_size=(5, 5), stride=(2, 2), padding=(2, 2), groups=72, bias=False)\n",
              "          (1): BatchNorm2d(72, eps=0.001, momentum=0.01, affine=True, track_running_stats=True)\n",
              "          (2): ReLU(inplace=True)\n",
              "        )\n",
              "        (2): SqueezeExcitation(\n",
              "          (avgpool): AdaptiveAvgPool2d(output_size=1)\n",
              "          (fc1): Conv2d(72, 24, kernel_size=(1, 1), stride=(1, 1))\n",
              "          (fc2): Conv2d(24, 72, kernel_size=(1, 1), stride=(1, 1))\n",
              "          (activation): ReLU()\n",
              "          (scale_activation): Hardsigmoid()\n",
              "        )\n",
              "        (3): Conv2dNormActivation(\n",
              "          (0): Conv2d(72, 40, kernel_size=(1, 1), stride=(1, 1), bias=False)\n",
              "          (1): BatchNorm2d(40, eps=0.001, momentum=0.01, affine=True, track_running_stats=True)\n",
              "        )\n",
              "      )\n",
              "    )\n",
              "    (5): InvertedResidual(\n",
              "      (block): Sequential(\n",
              "        (0): Conv2dNormActivation(\n",
              "          (0): Conv2d(40, 120, kernel_size=(1, 1), stride=(1, 1), bias=False)\n",
              "          (1): BatchNorm2d(120, eps=0.001, momentum=0.01, affine=True, track_running_stats=True)\n",
              "          (2): ReLU(inplace=True)\n",
              "        )\n",
              "        (1): Conv2dNormActivation(\n",
              "          (0): Conv2d(120, 120, kernel_size=(5, 5), stride=(1, 1), padding=(2, 2), groups=120, bias=False)\n",
              "          (1): BatchNorm2d(120, eps=0.001, momentum=0.01, affine=True, track_running_stats=True)\n",
              "          (2): ReLU(inplace=True)\n",
              "        )\n",
              "        (2): SqueezeExcitation(\n",
              "          (avgpool): AdaptiveAvgPool2d(output_size=1)\n",
              "          (fc1): Conv2d(120, 32, kernel_size=(1, 1), stride=(1, 1))\n",
              "          (fc2): Conv2d(32, 120, kernel_size=(1, 1), stride=(1, 1))\n",
              "          (activation): ReLU()\n",
              "          (scale_activation): Hardsigmoid()\n",
              "        )\n",
              "        (3): Conv2dNormActivation(\n",
              "          (0): Conv2d(120, 40, kernel_size=(1, 1), stride=(1, 1), bias=False)\n",
              "          (1): BatchNorm2d(40, eps=0.001, momentum=0.01, affine=True, track_running_stats=True)\n",
              "        )\n",
              "      )\n",
              "    )\n",
              "    (6): InvertedResidual(\n",
              "      (block): Sequential(\n",
              "        (0): Conv2dNormActivation(\n",
              "          (0): Conv2d(40, 120, kernel_size=(1, 1), stride=(1, 1), bias=False)\n",
              "          (1): BatchNorm2d(120, eps=0.001, momentum=0.01, affine=True, track_running_stats=True)\n",
              "          (2): ReLU(inplace=True)\n",
              "        )\n",
              "        (1): Conv2dNormActivation(\n",
              "          (0): Conv2d(120, 120, kernel_size=(5, 5), stride=(1, 1), padding=(2, 2), groups=120, bias=False)\n",
              "          (1): BatchNorm2d(120, eps=0.001, momentum=0.01, affine=True, track_running_stats=True)\n",
              "          (2): ReLU(inplace=True)\n",
              "        )\n",
              "        (2): SqueezeExcitation(\n",
              "          (avgpool): AdaptiveAvgPool2d(output_size=1)\n",
              "          (fc1): Conv2d(120, 32, kernel_size=(1, 1), stride=(1, 1))\n",
              "          (fc2): Conv2d(32, 120, kernel_size=(1, 1), stride=(1, 1))\n",
              "          (activation): ReLU()\n",
              "          (scale_activation): Hardsigmoid()\n",
              "        )\n",
              "        (3): Conv2dNormActivation(\n",
              "          (0): Conv2d(120, 40, kernel_size=(1, 1), stride=(1, 1), bias=False)\n",
              "          (1): BatchNorm2d(40, eps=0.001, momentum=0.01, affine=True, track_running_stats=True)\n",
              "        )\n",
              "      )\n",
              "    )\n",
              "    (7): InvertedResidual(\n",
              "      (block): Sequential(\n",
              "        (0): Conv2dNormActivation(\n",
              "          (0): Conv2d(40, 240, kernel_size=(1, 1), stride=(1, 1), bias=False)\n",
              "          (1): BatchNorm2d(240, eps=0.001, momentum=0.01, affine=True, track_running_stats=True)\n",
              "          (2): Hardswish()\n",
              "        )\n",
              "        (1): Conv2dNormActivation(\n",
              "          (0): Conv2d(240, 240, kernel_size=(3, 3), stride=(2, 2), padding=(1, 1), groups=240, bias=False)\n",
              "          (1): BatchNorm2d(240, eps=0.001, momentum=0.01, affine=True, track_running_stats=True)\n",
              "          (2): Hardswish()\n",
              "        )\n",
              "        (2): Conv2dNormActivation(\n",
              "          (0): Conv2d(240, 80, kernel_size=(1, 1), stride=(1, 1), bias=False)\n",
              "          (1): BatchNorm2d(80, eps=0.001, momentum=0.01, affine=True, track_running_stats=True)\n",
              "        )\n",
              "      )\n",
              "    )\n",
              "    (8): InvertedResidual(\n",
              "      (block): Sequential(\n",
              "        (0): Conv2dNormActivation(\n",
              "          (0): Conv2d(80, 200, kernel_size=(1, 1), stride=(1, 1), bias=False)\n",
              "          (1): BatchNorm2d(200, eps=0.001, momentum=0.01, affine=True, track_running_stats=True)\n",
              "          (2): Hardswish()\n",
              "        )\n",
              "        (1): Conv2dNormActivation(\n",
              "          (0): Conv2d(200, 200, kernel_size=(3, 3), stride=(1, 1), padding=(1, 1), groups=200, bias=False)\n",
              "          (1): BatchNorm2d(200, eps=0.001, momentum=0.01, affine=True, track_running_stats=True)\n",
              "          (2): Hardswish()\n",
              "        )\n",
              "        (2): Conv2dNormActivation(\n",
              "          (0): Conv2d(200, 80, kernel_size=(1, 1), stride=(1, 1), bias=False)\n",
              "          (1): BatchNorm2d(80, eps=0.001, momentum=0.01, affine=True, track_running_stats=True)\n",
              "        )\n",
              "      )\n",
              "    )\n",
              "    (9): InvertedResidual(\n",
              "      (block): Sequential(\n",
              "        (0): Conv2dNormActivation(\n",
              "          (0): Conv2d(80, 184, kernel_size=(1, 1), stride=(1, 1), bias=False)\n",
              "          (1): BatchNorm2d(184, eps=0.001, momentum=0.01, affine=True, track_running_stats=True)\n",
              "          (2): Hardswish()\n",
              "        )\n",
              "        (1): Conv2dNormActivation(\n",
              "          (0): Conv2d(184, 184, kernel_size=(3, 3), stride=(1, 1), padding=(1, 1), groups=184, bias=False)\n",
              "          (1): BatchNorm2d(184, eps=0.001, momentum=0.01, affine=True, track_running_stats=True)\n",
              "          (2): Hardswish()\n",
              "        )\n",
              "        (2): Conv2dNormActivation(\n",
              "          (0): Conv2d(184, 80, kernel_size=(1, 1), stride=(1, 1), bias=False)\n",
              "          (1): BatchNorm2d(80, eps=0.001, momentum=0.01, affine=True, track_running_stats=True)\n",
              "        )\n",
              "      )\n",
              "    )\n",
              "    (10): InvertedResidual(\n",
              "      (block): Sequential(\n",
              "        (0): Conv2dNormActivation(\n",
              "          (0): Conv2d(80, 184, kernel_size=(1, 1), stride=(1, 1), bias=False)\n",
              "          (1): BatchNorm2d(184, eps=0.001, momentum=0.01, affine=True, track_running_stats=True)\n",
              "          (2): Hardswish()\n",
              "        )\n",
              "        (1): Conv2dNormActivation(\n",
              "          (0): Conv2d(184, 184, kernel_size=(3, 3), stride=(1, 1), padding=(1, 1), groups=184, bias=False)\n",
              "          (1): BatchNorm2d(184, eps=0.001, momentum=0.01, affine=True, track_running_stats=True)\n",
              "          (2): Hardswish()\n",
              "        )\n",
              "        (2): Conv2dNormActivation(\n",
              "          (0): Conv2d(184, 80, kernel_size=(1, 1), stride=(1, 1), bias=False)\n",
              "          (1): BatchNorm2d(80, eps=0.001, momentum=0.01, affine=True, track_running_stats=True)\n",
              "        )\n",
              "      )\n",
              "    )\n",
              "    (11): InvertedResidual(\n",
              "      (block): Sequential(\n",
              "        (0): Conv2dNormActivation(\n",
              "          (0): Conv2d(80, 480, kernel_size=(1, 1), stride=(1, 1), bias=False)\n",
              "          (1): BatchNorm2d(480, eps=0.001, momentum=0.01, affine=True, track_running_stats=True)\n",
              "          (2): Hardswish()\n",
              "        )\n",
              "        (1): Conv2dNormActivation(\n",
              "          (0): Conv2d(480, 480, kernel_size=(3, 3), stride=(1, 1), padding=(1, 1), groups=480, bias=False)\n",
              "          (1): BatchNorm2d(480, eps=0.001, momentum=0.01, affine=True, track_running_stats=True)\n",
              "          (2): Hardswish()\n",
              "        )\n",
              "        (2): SqueezeExcitation(\n",
              "          (avgpool): AdaptiveAvgPool2d(output_size=1)\n",
              "          (fc1): Conv2d(480, 120, kernel_size=(1, 1), stride=(1, 1))\n",
              "          (fc2): Conv2d(120, 480, kernel_size=(1, 1), stride=(1, 1))\n",
              "          (activation): ReLU()\n",
              "          (scale_activation): Hardsigmoid()\n",
              "        )\n",
              "        (3): Conv2dNormActivation(\n",
              "          (0): Conv2d(480, 112, kernel_size=(1, 1), stride=(1, 1), bias=False)\n",
              "          (1): BatchNorm2d(112, eps=0.001, momentum=0.01, affine=True, track_running_stats=True)\n",
              "        )\n",
              "      )\n",
              "    )\n",
              "    (12): InvertedResidual(\n",
              "      (block): Sequential(\n",
              "        (0): Conv2dNormActivation(\n",
              "          (0): Conv2d(112, 672, kernel_size=(1, 1), stride=(1, 1), bias=False)\n",
              "          (1): BatchNorm2d(672, eps=0.001, momentum=0.01, affine=True, track_running_stats=True)\n",
              "          (2): Hardswish()\n",
              "        )\n",
              "        (1): Conv2dNormActivation(\n",
              "          (0): Conv2d(672, 672, kernel_size=(3, 3), stride=(1, 1), padding=(1, 1), groups=672, bias=False)\n",
              "          (1): BatchNorm2d(672, eps=0.001, momentum=0.01, affine=True, track_running_stats=True)\n",
              "          (2): Hardswish()\n",
              "        )\n",
              "        (2): SqueezeExcitation(\n",
              "          (avgpool): AdaptiveAvgPool2d(output_size=1)\n",
              "          (fc1): Conv2d(672, 168, kernel_size=(1, 1), stride=(1, 1))\n",
              "          (fc2): Conv2d(168, 672, kernel_size=(1, 1), stride=(1, 1))\n",
              "          (activation): ReLU()\n",
              "          (scale_activation): Hardsigmoid()\n",
              "        )\n",
              "        (3): Conv2dNormActivation(\n",
              "          (0): Conv2d(672, 112, kernel_size=(1, 1), stride=(1, 1), bias=False)\n",
              "          (1): BatchNorm2d(112, eps=0.001, momentum=0.01, affine=True, track_running_stats=True)\n",
              "        )\n",
              "      )\n",
              "    )\n",
              "    (13): InvertedResidual(\n",
              "      (block): Sequential(\n",
              "        (0): Conv2dNormActivation(\n",
              "          (0): Conv2d(112, 672, kernel_size=(1, 1), stride=(1, 1), bias=False)\n",
              "          (1): BatchNorm2d(672, eps=0.001, momentum=0.01, affine=True, track_running_stats=True)\n",
              "          (2): Hardswish()\n",
              "        )\n",
              "        (1): Conv2dNormActivation(\n",
              "          (0): Conv2d(672, 672, kernel_size=(5, 5), stride=(2, 2), padding=(2, 2), groups=672, bias=False)\n",
              "          (1): BatchNorm2d(672, eps=0.001, momentum=0.01, affine=True, track_running_stats=True)\n",
              "          (2): Hardswish()\n",
              "        )\n",
              "        (2): SqueezeExcitation(\n",
              "          (avgpool): AdaptiveAvgPool2d(output_size=1)\n",
              "          (fc1): Conv2d(672, 168, kernel_size=(1, 1), stride=(1, 1))\n",
              "          (fc2): Conv2d(168, 672, kernel_size=(1, 1), stride=(1, 1))\n",
              "          (activation): ReLU()\n",
              "          (scale_activation): Hardsigmoid()\n",
              "        )\n",
              "        (3): Conv2dNormActivation(\n",
              "          (0): Conv2d(672, 160, kernel_size=(1, 1), stride=(1, 1), bias=False)\n",
              "          (1): BatchNorm2d(160, eps=0.001, momentum=0.01, affine=True, track_running_stats=True)\n",
              "        )\n",
              "      )\n",
              "    )\n",
              "    (14): InvertedResidual(\n",
              "      (block): Sequential(\n",
              "        (0): Conv2dNormActivation(\n",
              "          (0): Conv2d(160, 960, kernel_size=(1, 1), stride=(1, 1), bias=False)\n",
              "          (1): BatchNorm2d(960, eps=0.001, momentum=0.01, affine=True, track_running_stats=True)\n",
              "          (2): Hardswish()\n",
              "        )\n",
              "        (1): Conv2dNormActivation(\n",
              "          (0): Conv2d(960, 960, kernel_size=(5, 5), stride=(1, 1), padding=(2, 2), groups=960, bias=False)\n",
              "          (1): BatchNorm2d(960, eps=0.001, momentum=0.01, affine=True, track_running_stats=True)\n",
              "          (2): Hardswish()\n",
              "        )\n",
              "        (2): SqueezeExcitation(\n",
              "          (avgpool): AdaptiveAvgPool2d(output_size=1)\n",
              "          (fc1): Conv2d(960, 240, kernel_size=(1, 1), stride=(1, 1))\n",
              "          (fc2): Conv2d(240, 960, kernel_size=(1, 1), stride=(1, 1))\n",
              "          (activation): ReLU()\n",
              "          (scale_activation): Hardsigmoid()\n",
              "        )\n",
              "        (3): Conv2dNormActivation(\n",
              "          (0): Conv2d(960, 160, kernel_size=(1, 1), stride=(1, 1), bias=False)\n",
              "          (1): BatchNorm2d(160, eps=0.001, momentum=0.01, affine=True, track_running_stats=True)\n",
              "        )\n",
              "      )\n",
              "    )\n",
              "    (15): InvertedResidual(\n",
              "      (block): Sequential(\n",
              "        (0): Conv2dNormActivation(\n",
              "          (0): Conv2d(160, 960, kernel_size=(1, 1), stride=(1, 1), bias=False)\n",
              "          (1): BatchNorm2d(960, eps=0.001, momentum=0.01, affine=True, track_running_stats=True)\n",
              "          (2): Hardswish()\n",
              "        )\n",
              "        (1): Conv2dNormActivation(\n",
              "          (0): Conv2d(960, 960, kernel_size=(5, 5), stride=(1, 1), padding=(2, 2), groups=960, bias=False)\n",
              "          (1): BatchNorm2d(960, eps=0.001, momentum=0.01, affine=True, track_running_stats=True)\n",
              "          (2): Hardswish()\n",
              "        )\n",
              "        (2): SqueezeExcitation(\n",
              "          (avgpool): AdaptiveAvgPool2d(output_size=1)\n",
              "          (fc1): Conv2d(960, 240, kernel_size=(1, 1), stride=(1, 1))\n",
              "          (fc2): Conv2d(240, 960, kernel_size=(1, 1), stride=(1, 1))\n",
              "          (activation): ReLU()\n",
              "          (scale_activation): Hardsigmoid()\n",
              "        )\n",
              "        (3): Conv2dNormActivation(\n",
              "          (0): Conv2d(960, 160, kernel_size=(1, 1), stride=(1, 1), bias=False)\n",
              "          (1): BatchNorm2d(160, eps=0.001, momentum=0.01, affine=True, track_running_stats=True)\n",
              "        )\n",
              "      )\n",
              "    )\n",
              "    (16): Conv2dNormActivation(\n",
              "      (0): Conv2d(160, 960, kernel_size=(1, 1), stride=(1, 1), bias=False)\n",
              "      (1): BatchNorm2d(960, eps=0.001, momentum=0.01, affine=True, track_running_stats=True)\n",
              "      (2): Hardswish()\n",
              "    )\n",
              "  )\n",
              "  (avgpool): AdaptiveAvgPool2d(output_size=1)\n",
              "  (classifier): Sequential(\n",
              "    (0): Linear(in_features=960, out_features=1280, bias=True)\n",
              "    (1): Hardswish()\n",
              "    (2): Dropout(p=0.2, inplace=True)\n",
              "    (3): Linear(in_features=1280, out_features=1000, bias=True)\n",
              "  )\n",
              ")"
            ]
          },
          "metadata": {},
          "execution_count": 7
        }
      ],
      "execution_count": 7
    },
    {
      "metadata": {
        "id": "e28336eb5a6af59b"
      },
      "cell_type": "markdown",
      "source": [
        "### Adaptando el modelo"
      ],
      "id": "e28336eb5a6af59b"
    },
    {
      "metadata": {
        "id": "2ac82ff06fb0d913"
      },
      "cell_type": "markdown",
      "source": [
        "Agregamos una capa lineal al final de la red neuronal. Esta capa sólo tiene 1 neurona de salida, puesto que estamos trabajando con un problema de clasificación binaria."
      ],
      "id": "2ac82ff06fb0d913"
    },
    {
      "metadata": {
        "ExecuteTime": {
          "end_time": "2025-05-25T06:59:37.287605Z",
          "start_time": "2025-05-25T06:59:37.275478Z"
        },
        "id": "bb4a1a957fb0dc05"
      },
      "cell_type": "code",
      "source": [
        "model_mobilenet = nn.Sequential(\n",
        "    mobilenet_base_model,\n",
        "    nn.Linear(1000, 1)\n",
        ")"
      ],
      "id": "bb4a1a957fb0dc05",
      "outputs": [],
      "execution_count": 8
    },
    {
      "metadata": {
        "id": "7a123fa4dd6388f6"
      },
      "cell_type": "markdown",
      "source": [
        "### Preparando función de pérdida y optimizador"
      ],
      "id": "7a123fa4dd6388f6"
    },
    {
      "metadata": {
        "id": "62493af1d8e03061"
      },
      "cell_type": "markdown",
      "source": [
        "Debido a que estamos trabajando con un problema de clasificación binaria, utilizaremos la función de pérdida BCEWithLogitsLoss. El optimizador a utilizar es Adam.\n",
        "\n",
        "Debido a que nuestro problema es no balanceado y además nos interesa optimizar la métrica de recall, podemos configurar el argumento `pos_weight` de la función de pérdida para darle mayor peso a la clase positiva. Este argumento lo calculamos diviendo la cantidad de elementos de la clase negativa entre la cantidad de elementos de la clase positiva, lo cual deberá resultar en un valor mayor a 1."
      ],
      "id": "62493af1d8e03061"
    },
    {
      "cell_type": "code",
      "source": [
        "pos_weight = train_data.filtered_df['Bars'][train_data.filtered_df['Bars'] == 0].count() / train_data.filtered_df['Bars'][train_data.filtered_df['Bars'] != 0].count()\n",
        "print(f'Using pos_weight={pos_weight}')"
      ],
      "metadata": {
        "id": "XLJtn3WV5noH",
        "outputId": "73befeac-99c0-476d-a434-bbcead6d6ef2",
        "colab": {
          "base_uri": "https://localhost:8080/"
        }
      },
      "id": "XLJtn3WV5noH",
      "execution_count": 9,
      "outputs": [
        {
          "output_type": "stream",
          "name": "stdout",
          "text": [
            "Using pos_weight=1.6551984877126653\n"
          ]
        }
      ]
    },
    {
      "metadata": {
        "id": "cd5cb84aeec21dff"
      },
      "cell_type": "code",
      "outputs": [],
      "execution_count": 10,
      "source": [
        "mobilenet_loss_fn = nn.BCEWithLogitsLoss(pos_weight=torch.tensor([pos_weight]).to(device))\n",
        "mobilenet_optimizer = Adam(model_mobilenet.parameters())\n",
        "model_mobilenet = model_mobilenet.to(device)"
      ],
      "id": "cd5cb84aeec21dff"
    },
    {
      "metadata": {
        "id": "9f6fa9f7108353a4"
      },
      "cell_type": "markdown",
      "source": [
        "## Entrenamiento"
      ],
      "id": "9f6fa9f7108353a4"
    },
    {
      "metadata": {
        "id": "a8c020a5dfa1210c"
      },
      "cell_type": "markdown",
      "source": [
        "### Definiendo funciones de entrenamiento"
      ],
      "id": "a8c020a5dfa1210c"
    },
    {
      "metadata": {
        "id": "d197d41bb725dc46"
      },
      "cell_type": "code",
      "outputs": [],
      "execution_count": 11,
      "source": [
        "def get_classification_metrics(y_pred, y_true):\n",
        "    return {\n",
        "        'accuracy': accuracy_score(y_true=y_true, y_pred=y_pred),\n",
        "        'recall': recall_score(y_true=y_true, y_pred=y_pred),\n",
        "        'f1': f1_score(y_true=y_true, y_pred=y_pred),\n",
        "        'precision': precision_score(y_true=y_true, y_pred=y_pred),\n",
        "    }"
      ],
      "id": "d197d41bb725dc46"
    },
    {
      "metadata": {
        "id": "6a4fb7f50f781fb3"
      },
      "cell_type": "code",
      "outputs": [],
      "execution_count": 12,
      "source": [
        "def train(model, optimizer, loss_fn) -> dict[str, float]:\n",
        "    loss = 0\n",
        "    y_pred = []\n",
        "    y_train = []\n",
        "\n",
        "    model.train()\n",
        "    for x, y in train_loader:\n",
        "        output = model(x)\n",
        "        mobilenet_optimizer.zero_grad()\n",
        "        batch_loss = loss_fn(output, y)\n",
        "        batch_loss.backward()\n",
        "        optimizer.step()\n",
        "\n",
        "        y_train += [int(y[i]) for i in range(len(y))]\n",
        "        predictions = torch.gt(output, torch.tensor([0]).to(device))\n",
        "        y_pred += [int(predictions[i]) for i in range(len(y))]\n",
        "\n",
        "        loss += batch_loss.item()\n",
        "\n",
        "    return {\n",
        "        'loss': loss,\n",
        "        **get_classification_metrics(y_pred, y_train),\n",
        "    }"
      ],
      "id": "6a4fb7f50f781fb3"
    },
    {
      "metadata": {
        "id": "fdb06ee10784d19b"
      },
      "cell_type": "code",
      "outputs": [],
      "execution_count": 13,
      "source": [
        "def validate(model, loss_fn) -> dict[str, float]:\n",
        "    loss = 0\n",
        "    y_pred = []\n",
        "    y_val = []\n",
        "\n",
        "    model.eval()\n",
        "    with torch.no_grad():\n",
        "        for x, y in valid_loader:\n",
        "            output = model(x)\n",
        "\n",
        "            loss += loss_fn(output, y).item()\n",
        "\n",
        "            y_val += [int(y[i]) for i in range(len(y))]\n",
        "            predictions = torch.gt(output, torch.tensor([0]).to(device))\n",
        "            y_pred += [int(predictions[i]) for i in range(len(y))]\n",
        "\n",
        "    return {\n",
        "        'loss': loss,\n",
        "        **get_classification_metrics(y_pred, y_val),\n",
        "    }"
      ],
      "id": "fdb06ee10784d19b"
    },
    {
      "metadata": {
        "id": "f38f88a59f27c3f9"
      },
      "cell_type": "markdown",
      "source": [
        "### Ejecución del entrenamiento"
      ],
      "id": "f38f88a59f27c3f9"
    },
    {
      "metadata": {
        "id": "de82df30c173f2f9",
        "colab": {
          "base_uri": "https://localhost:8080/"
        },
        "outputId": "4bd50c84-2c8c-409c-81da-226fcb6d7e5d"
      },
      "cell_type": "code",
      "outputs": [
        {
          "output_type": "stream",
          "name": "stdout",
          "text": [
            "Epoch 0\n",
            "Train accuracy: 0.6147 | Train recall: 0.6450 | Train precision: 0.4912 | Train F1: 0.5577 | Train loss: 179.4190\n",
            "Valid accuracy: 0.5196 | Valid recall: 0.8554 | Valid precision: 0.4307 | Valid F1: 0.5729 | Valid loss: 40.2308\n",
            "Epoch 1\n",
            "Train accuracy: 0.6383 | Train recall: 0.6423 | Train precision: 0.5159 | Train F1: 0.5722 | Train loss: 173.4621\n",
            "Valid accuracy: 0.4950 | Valid recall: 0.8818 | Valid precision: 0.4191 | Valid F1: 0.5682 | Valid loss: 40.5306\n",
            "Epoch 2\n",
            "Train accuracy: 0.6547 | Train recall: 0.6544 | Train precision: 0.5339 | Train F1: 0.5881 | Train loss: 170.5903\n",
            "Valid accuracy: 0.6233 | Valid recall: 0.6684 | Valid precision: 0.5000 | Valid F1: 0.5721 | Valid loss: 38.4020\n",
            "Epoch 3\n",
            "Train accuracy: 0.6657 | Train recall: 0.6779 | Train precision: 0.5452 | Train F1: 0.6043 | Train loss: 168.7412\n",
            "Valid accuracy: 0.6399 | Valid recall: 0.6384 | Valid precision: 0.5179 | Valid F1: 0.5719 | Valid loss: 37.8828\n",
            "Epoch 4\n",
            "Train accuracy: 0.6699 | Train recall: 0.6828 | Train precision: 0.5498 | Train F1: 0.6091 | Train loss: 167.9282\n",
            "Valid accuracy: 0.6505 | Valid recall: 0.7055 | Valid precision: 0.5270 | Valid F1: 0.6033 | Valid loss: 37.7374\n",
            "Epoch 5\n",
            "Train accuracy: 0.6671 | Train recall: 0.6786 | Train precision: 0.5468 | Train F1: 0.6056 | Train loss: 167.7543\n",
            "Valid accuracy: 0.6492 | Valid recall: 0.7266 | Valid precision: 0.5248 | Valid F1: 0.6095 | Valid loss: 37.5198\n",
            "Epoch 6\n",
            "Train accuracy: 0.6745 | Train recall: 0.6786 | Train precision: 0.5556 | Train F1: 0.6110 | Train loss: 165.9913\n",
            "Valid accuracy: 0.6392 | Valid recall: 0.7266 | Valid precision: 0.5150 | Valid F1: 0.6028 | Valid loss: 37.2553\n",
            "Epoch 7\n",
            "Train accuracy: 0.6701 | Train recall: 0.6866 | Train precision: 0.5496 | Train F1: 0.6105 | Train loss: 166.2020\n",
            "Valid accuracy: 0.6498 | Valid recall: 0.7037 | Valid precision: 0.5264 | Valid F1: 0.6023 | Valid loss: 37.5348\n",
            "Epoch 8\n",
            "Train accuracy: 0.6726 | Train recall: 0.6824 | Train precision: 0.5530 | Train F1: 0.6109 | Train loss: 166.1581\n",
            "Valid accuracy: 0.6385 | Valid recall: 0.7019 | Valid precision: 0.5149 | Valid F1: 0.5940 | Valid loss: 37.4405\n",
            "Epoch 9\n",
            "Train accuracy: 0.6714 | Train recall: 0.6752 | Train precision: 0.5521 | Train F1: 0.6075 | Train loss: 166.6496\n",
            "Valid accuracy: 0.6332 | Valid recall: 0.7478 | Valid precision: 0.5090 | Valid F1: 0.6057 | Valid loss: 38.0513\n"
          ]
        }
      ],
      "execution_count": 14,
      "source": [
        "epochs = 10\n",
        "mobilenet_train_metrics = []\n",
        "mobilenet_valid_metrics = []\n",
        "\n",
        "for epoch in range(epochs):\n",
        "    print(f\"Epoch {epoch}\")\n",
        "    train_metrics = train(model_mobilenet, mobilenet_optimizer, mobilenet_loss_fn)\n",
        "    print(f\"Train accuracy: {train_metrics['accuracy']:.4f} | Train recall: {train_metrics['recall']:.4f} | \"\n",
        "          f\"Train precision: {train_metrics['precision']:.4f} | Train F1: {train_metrics['f1']:.4f} | \"\n",
        "          f\"Train loss: {train_metrics['loss']:.4f}\")\n",
        "    mobilenet_train_metrics.append(train_metrics)\n",
        "\n",
        "    valid_metrics = validate(model_mobilenet, mobilenet_loss_fn)\n",
        "    print(f\"Valid accuracy: {valid_metrics['accuracy']:.4f} | Valid recall: {valid_metrics['recall']:.4f} | \"\n",
        "          f\"Valid precision: {valid_metrics['precision']:.4f} | Valid F1: {valid_metrics['f1']:.4f} | \"\n",
        "          f\"Valid loss: {valid_metrics['loss']:.4f}\")\n",
        "    mobilenet_valid_metrics.append(valid_metrics)"
      ],
      "id": "de82df30c173f2f9"
    },
    {
      "cell_type": "markdown",
      "source": [
        "## Fine-Tunning"
      ],
      "metadata": {
        "id": "XJqS5F7YaoTR"
      },
      "id": "XJqS5F7YaoTR"
    },
    {
      "cell_type": "markdown",
      "source": [
        "El entrenamiento realizado sólamente actualizó la última capa agregada para realizar la clasificación binaria. Sin embargo, podemos realizar fine-tunning para mejorar aún más el rendimiento de nuestro modelo. Para esto, \"descongelamos\" el modelo base y repetimos el entrenamiento."
      ],
      "metadata": {
        "id": "725MCFUmbjEz"
      },
      "id": "725MCFUmbjEz"
    },
    {
      "cell_type": "code",
      "source": [
        "mobilenet_base_model.requires_grad_(True)\n",
        "mobilenet_optimizer = Adam(model_mobilenet.parameters(), lr=0.000001)"
      ],
      "metadata": {
        "id": "bIV0xbJMbHOw"
      },
      "id": "bIV0xbJMbHOw",
      "execution_count": 42,
      "outputs": []
    },
    {
      "cell_type": "code",
      "source": [
        "epochs = 4\n",
        "\n",
        "for epoch in range(epochs):\n",
        "    print(f\"Epoch {epoch}\")\n",
        "    train_metrics = train(model_mobilenet, mobilenet_optimizer, mobilenet_loss_fn)\n",
        "    print(f\"Train accuracy: {train_metrics['accuracy']:.4f} | Train recall: {train_metrics['recall']:.4f} | \"\n",
        "          f\"Train precision: {train_metrics['precision']:.4f} | Train F1: {train_metrics['f1']:.4f} | \"\n",
        "          f\"Train loss: {train_metrics['loss']:.4f}\")\n",
        "    mobilenet_train_metrics.append(train_metrics)\n",
        "\n",
        "    valid_metrics = validate(model_mobilenet, mobilenet_loss_fn)\n",
        "    print(f\"Valid accuracy: {valid_metrics['accuracy']:.4f} | Valid recall: {valid_metrics['recall']:.4f} | \"\n",
        "          f\"Valid precision: {valid_metrics['precision']:.4f} | Valid F1: {valid_metrics['f1']:.4f} | \"\n",
        "          f\"Valid loss: {valid_metrics['loss']:.4f}\")\n",
        "    mobilenet_valid_metrics.append(valid_metrics)"
      ],
      "metadata": {
        "id": "fNdGCeRObPQp"
      },
      "id": "fNdGCeRObPQp",
      "execution_count": null,
      "outputs": []
    },
    {
      "metadata": {
        "id": "e8c2017ab65eb2ef"
      },
      "cell_type": "markdown",
      "source": [
        "## Evaluación\n"
      ],
      "id": "e8c2017ab65eb2ef"
    },
    {
      "metadata": {
        "id": "3559b9dd176f4167",
        "colab": {
          "base_uri": "https://localhost:8080/"
        },
        "outputId": "ecf86599-f926-410d-c1f3-7c35ee56cbc5"
      },
      "cell_type": "code",
      "outputs": [
        {
          "output_type": "execute_result",
          "data": {
            "text/plain": [
              "Sequential(\n",
              "  (0): MobileNetV3(\n",
              "    (features): Sequential(\n",
              "      (0): Conv2dNormActivation(\n",
              "        (0): Conv2d(3, 16, kernel_size=(3, 3), stride=(2, 2), padding=(1, 1), bias=False)\n",
              "        (1): BatchNorm2d(16, eps=0.001, momentum=0.01, affine=True, track_running_stats=True)\n",
              "        (2): Hardswish()\n",
              "      )\n",
              "      (1): InvertedResidual(\n",
              "        (block): Sequential(\n",
              "          (0): Conv2dNormActivation(\n",
              "            (0): Conv2d(16, 16, kernel_size=(3, 3), stride=(1, 1), padding=(1, 1), groups=16, bias=False)\n",
              "            (1): BatchNorm2d(16, eps=0.001, momentum=0.01, affine=True, track_running_stats=True)\n",
              "            (2): ReLU(inplace=True)\n",
              "          )\n",
              "          (1): Conv2dNormActivation(\n",
              "            (0): Conv2d(16, 16, kernel_size=(1, 1), stride=(1, 1), bias=False)\n",
              "            (1): BatchNorm2d(16, eps=0.001, momentum=0.01, affine=True, track_running_stats=True)\n",
              "          )\n",
              "        )\n",
              "      )\n",
              "      (2): InvertedResidual(\n",
              "        (block): Sequential(\n",
              "          (0): Conv2dNormActivation(\n",
              "            (0): Conv2d(16, 64, kernel_size=(1, 1), stride=(1, 1), bias=False)\n",
              "            (1): BatchNorm2d(64, eps=0.001, momentum=0.01, affine=True, track_running_stats=True)\n",
              "            (2): ReLU(inplace=True)\n",
              "          )\n",
              "          (1): Conv2dNormActivation(\n",
              "            (0): Conv2d(64, 64, kernel_size=(3, 3), stride=(2, 2), padding=(1, 1), groups=64, bias=False)\n",
              "            (1): BatchNorm2d(64, eps=0.001, momentum=0.01, affine=True, track_running_stats=True)\n",
              "            (2): ReLU(inplace=True)\n",
              "          )\n",
              "          (2): Conv2dNormActivation(\n",
              "            (0): Conv2d(64, 24, kernel_size=(1, 1), stride=(1, 1), bias=False)\n",
              "            (1): BatchNorm2d(24, eps=0.001, momentum=0.01, affine=True, track_running_stats=True)\n",
              "          )\n",
              "        )\n",
              "      )\n",
              "      (3): InvertedResidual(\n",
              "        (block): Sequential(\n",
              "          (0): Conv2dNormActivation(\n",
              "            (0): Conv2d(24, 72, kernel_size=(1, 1), stride=(1, 1), bias=False)\n",
              "            (1): BatchNorm2d(72, eps=0.001, momentum=0.01, affine=True, track_running_stats=True)\n",
              "            (2): ReLU(inplace=True)\n",
              "          )\n",
              "          (1): Conv2dNormActivation(\n",
              "            (0): Conv2d(72, 72, kernel_size=(3, 3), stride=(1, 1), padding=(1, 1), groups=72, bias=False)\n",
              "            (1): BatchNorm2d(72, eps=0.001, momentum=0.01, affine=True, track_running_stats=True)\n",
              "            (2): ReLU(inplace=True)\n",
              "          )\n",
              "          (2): Conv2dNormActivation(\n",
              "            (0): Conv2d(72, 24, kernel_size=(1, 1), stride=(1, 1), bias=False)\n",
              "            (1): BatchNorm2d(24, eps=0.001, momentum=0.01, affine=True, track_running_stats=True)\n",
              "          )\n",
              "        )\n",
              "      )\n",
              "      (4): InvertedResidual(\n",
              "        (block): Sequential(\n",
              "          (0): Conv2dNormActivation(\n",
              "            (0): Conv2d(24, 72, kernel_size=(1, 1), stride=(1, 1), bias=False)\n",
              "            (1): BatchNorm2d(72, eps=0.001, momentum=0.01, affine=True, track_running_stats=True)\n",
              "            (2): ReLU(inplace=True)\n",
              "          )\n",
              "          (1): Conv2dNormActivation(\n",
              "            (0): Conv2d(72, 72, kernel_size=(5, 5), stride=(2, 2), padding=(2, 2), groups=72, bias=False)\n",
              "            (1): BatchNorm2d(72, eps=0.001, momentum=0.01, affine=True, track_running_stats=True)\n",
              "            (2): ReLU(inplace=True)\n",
              "          )\n",
              "          (2): SqueezeExcitation(\n",
              "            (avgpool): AdaptiveAvgPool2d(output_size=1)\n",
              "            (fc1): Conv2d(72, 24, kernel_size=(1, 1), stride=(1, 1))\n",
              "            (fc2): Conv2d(24, 72, kernel_size=(1, 1), stride=(1, 1))\n",
              "            (activation): ReLU()\n",
              "            (scale_activation): Hardsigmoid()\n",
              "          )\n",
              "          (3): Conv2dNormActivation(\n",
              "            (0): Conv2d(72, 40, kernel_size=(1, 1), stride=(1, 1), bias=False)\n",
              "            (1): BatchNorm2d(40, eps=0.001, momentum=0.01, affine=True, track_running_stats=True)\n",
              "          )\n",
              "        )\n",
              "      )\n",
              "      (5): InvertedResidual(\n",
              "        (block): Sequential(\n",
              "          (0): Conv2dNormActivation(\n",
              "            (0): Conv2d(40, 120, kernel_size=(1, 1), stride=(1, 1), bias=False)\n",
              "            (1): BatchNorm2d(120, eps=0.001, momentum=0.01, affine=True, track_running_stats=True)\n",
              "            (2): ReLU(inplace=True)\n",
              "          )\n",
              "          (1): Conv2dNormActivation(\n",
              "            (0): Conv2d(120, 120, kernel_size=(5, 5), stride=(1, 1), padding=(2, 2), groups=120, bias=False)\n",
              "            (1): BatchNorm2d(120, eps=0.001, momentum=0.01, affine=True, track_running_stats=True)\n",
              "            (2): ReLU(inplace=True)\n",
              "          )\n",
              "          (2): SqueezeExcitation(\n",
              "            (avgpool): AdaptiveAvgPool2d(output_size=1)\n",
              "            (fc1): Conv2d(120, 32, kernel_size=(1, 1), stride=(1, 1))\n",
              "            (fc2): Conv2d(32, 120, kernel_size=(1, 1), stride=(1, 1))\n",
              "            (activation): ReLU()\n",
              "            (scale_activation): Hardsigmoid()\n",
              "          )\n",
              "          (3): Conv2dNormActivation(\n",
              "            (0): Conv2d(120, 40, kernel_size=(1, 1), stride=(1, 1), bias=False)\n",
              "            (1): BatchNorm2d(40, eps=0.001, momentum=0.01, affine=True, track_running_stats=True)\n",
              "          )\n",
              "        )\n",
              "      )\n",
              "      (6): InvertedResidual(\n",
              "        (block): Sequential(\n",
              "          (0): Conv2dNormActivation(\n",
              "            (0): Conv2d(40, 120, kernel_size=(1, 1), stride=(1, 1), bias=False)\n",
              "            (1): BatchNorm2d(120, eps=0.001, momentum=0.01, affine=True, track_running_stats=True)\n",
              "            (2): ReLU(inplace=True)\n",
              "          )\n",
              "          (1): Conv2dNormActivation(\n",
              "            (0): Conv2d(120, 120, kernel_size=(5, 5), stride=(1, 1), padding=(2, 2), groups=120, bias=False)\n",
              "            (1): BatchNorm2d(120, eps=0.001, momentum=0.01, affine=True, track_running_stats=True)\n",
              "            (2): ReLU(inplace=True)\n",
              "          )\n",
              "          (2): SqueezeExcitation(\n",
              "            (avgpool): AdaptiveAvgPool2d(output_size=1)\n",
              "            (fc1): Conv2d(120, 32, kernel_size=(1, 1), stride=(1, 1))\n",
              "            (fc2): Conv2d(32, 120, kernel_size=(1, 1), stride=(1, 1))\n",
              "            (activation): ReLU()\n",
              "            (scale_activation): Hardsigmoid()\n",
              "          )\n",
              "          (3): Conv2dNormActivation(\n",
              "            (0): Conv2d(120, 40, kernel_size=(1, 1), stride=(1, 1), bias=False)\n",
              "            (1): BatchNorm2d(40, eps=0.001, momentum=0.01, affine=True, track_running_stats=True)\n",
              "          )\n",
              "        )\n",
              "      )\n",
              "      (7): InvertedResidual(\n",
              "        (block): Sequential(\n",
              "          (0): Conv2dNormActivation(\n",
              "            (0): Conv2d(40, 240, kernel_size=(1, 1), stride=(1, 1), bias=False)\n",
              "            (1): BatchNorm2d(240, eps=0.001, momentum=0.01, affine=True, track_running_stats=True)\n",
              "            (2): Hardswish()\n",
              "          )\n",
              "          (1): Conv2dNormActivation(\n",
              "            (0): Conv2d(240, 240, kernel_size=(3, 3), stride=(2, 2), padding=(1, 1), groups=240, bias=False)\n",
              "            (1): BatchNorm2d(240, eps=0.001, momentum=0.01, affine=True, track_running_stats=True)\n",
              "            (2): Hardswish()\n",
              "          )\n",
              "          (2): Conv2dNormActivation(\n",
              "            (0): Conv2d(240, 80, kernel_size=(1, 1), stride=(1, 1), bias=False)\n",
              "            (1): BatchNorm2d(80, eps=0.001, momentum=0.01, affine=True, track_running_stats=True)\n",
              "          )\n",
              "        )\n",
              "      )\n",
              "      (8): InvertedResidual(\n",
              "        (block): Sequential(\n",
              "          (0): Conv2dNormActivation(\n",
              "            (0): Conv2d(80, 200, kernel_size=(1, 1), stride=(1, 1), bias=False)\n",
              "            (1): BatchNorm2d(200, eps=0.001, momentum=0.01, affine=True, track_running_stats=True)\n",
              "            (2): Hardswish()\n",
              "          )\n",
              "          (1): Conv2dNormActivation(\n",
              "            (0): Conv2d(200, 200, kernel_size=(3, 3), stride=(1, 1), padding=(1, 1), groups=200, bias=False)\n",
              "            (1): BatchNorm2d(200, eps=0.001, momentum=0.01, affine=True, track_running_stats=True)\n",
              "            (2): Hardswish()\n",
              "          )\n",
              "          (2): Conv2dNormActivation(\n",
              "            (0): Conv2d(200, 80, kernel_size=(1, 1), stride=(1, 1), bias=False)\n",
              "            (1): BatchNorm2d(80, eps=0.001, momentum=0.01, affine=True, track_running_stats=True)\n",
              "          )\n",
              "        )\n",
              "      )\n",
              "      (9): InvertedResidual(\n",
              "        (block): Sequential(\n",
              "          (0): Conv2dNormActivation(\n",
              "            (0): Conv2d(80, 184, kernel_size=(1, 1), stride=(1, 1), bias=False)\n",
              "            (1): BatchNorm2d(184, eps=0.001, momentum=0.01, affine=True, track_running_stats=True)\n",
              "            (2): Hardswish()\n",
              "          )\n",
              "          (1): Conv2dNormActivation(\n",
              "            (0): Conv2d(184, 184, kernel_size=(3, 3), stride=(1, 1), padding=(1, 1), groups=184, bias=False)\n",
              "            (1): BatchNorm2d(184, eps=0.001, momentum=0.01, affine=True, track_running_stats=True)\n",
              "            (2): Hardswish()\n",
              "          )\n",
              "          (2): Conv2dNormActivation(\n",
              "            (0): Conv2d(184, 80, kernel_size=(1, 1), stride=(1, 1), bias=False)\n",
              "            (1): BatchNorm2d(80, eps=0.001, momentum=0.01, affine=True, track_running_stats=True)\n",
              "          )\n",
              "        )\n",
              "      )\n",
              "      (10): InvertedResidual(\n",
              "        (block): Sequential(\n",
              "          (0): Conv2dNormActivation(\n",
              "            (0): Conv2d(80, 184, kernel_size=(1, 1), stride=(1, 1), bias=False)\n",
              "            (1): BatchNorm2d(184, eps=0.001, momentum=0.01, affine=True, track_running_stats=True)\n",
              "            (2): Hardswish()\n",
              "          )\n",
              "          (1): Conv2dNormActivation(\n",
              "            (0): Conv2d(184, 184, kernel_size=(3, 3), stride=(1, 1), padding=(1, 1), groups=184, bias=False)\n",
              "            (1): BatchNorm2d(184, eps=0.001, momentum=0.01, affine=True, track_running_stats=True)\n",
              "            (2): Hardswish()\n",
              "          )\n",
              "          (2): Conv2dNormActivation(\n",
              "            (0): Conv2d(184, 80, kernel_size=(1, 1), stride=(1, 1), bias=False)\n",
              "            (1): BatchNorm2d(80, eps=0.001, momentum=0.01, affine=True, track_running_stats=True)\n",
              "          )\n",
              "        )\n",
              "      )\n",
              "      (11): InvertedResidual(\n",
              "        (block): Sequential(\n",
              "          (0): Conv2dNormActivation(\n",
              "            (0): Conv2d(80, 480, kernel_size=(1, 1), stride=(1, 1), bias=False)\n",
              "            (1): BatchNorm2d(480, eps=0.001, momentum=0.01, affine=True, track_running_stats=True)\n",
              "            (2): Hardswish()\n",
              "          )\n",
              "          (1): Conv2dNormActivation(\n",
              "            (0): Conv2d(480, 480, kernel_size=(3, 3), stride=(1, 1), padding=(1, 1), groups=480, bias=False)\n",
              "            (1): BatchNorm2d(480, eps=0.001, momentum=0.01, affine=True, track_running_stats=True)\n",
              "            (2): Hardswish()\n",
              "          )\n",
              "          (2): SqueezeExcitation(\n",
              "            (avgpool): AdaptiveAvgPool2d(output_size=1)\n",
              "            (fc1): Conv2d(480, 120, kernel_size=(1, 1), stride=(1, 1))\n",
              "            (fc2): Conv2d(120, 480, kernel_size=(1, 1), stride=(1, 1))\n",
              "            (activation): ReLU()\n",
              "            (scale_activation): Hardsigmoid()\n",
              "          )\n",
              "          (3): Conv2dNormActivation(\n",
              "            (0): Conv2d(480, 112, kernel_size=(1, 1), stride=(1, 1), bias=False)\n",
              "            (1): BatchNorm2d(112, eps=0.001, momentum=0.01, affine=True, track_running_stats=True)\n",
              "          )\n",
              "        )\n",
              "      )\n",
              "      (12): InvertedResidual(\n",
              "        (block): Sequential(\n",
              "          (0): Conv2dNormActivation(\n",
              "            (0): Conv2d(112, 672, kernel_size=(1, 1), stride=(1, 1), bias=False)\n",
              "            (1): BatchNorm2d(672, eps=0.001, momentum=0.01, affine=True, track_running_stats=True)\n",
              "            (2): Hardswish()\n",
              "          )\n",
              "          (1): Conv2dNormActivation(\n",
              "            (0): Conv2d(672, 672, kernel_size=(3, 3), stride=(1, 1), padding=(1, 1), groups=672, bias=False)\n",
              "            (1): BatchNorm2d(672, eps=0.001, momentum=0.01, affine=True, track_running_stats=True)\n",
              "            (2): Hardswish()\n",
              "          )\n",
              "          (2): SqueezeExcitation(\n",
              "            (avgpool): AdaptiveAvgPool2d(output_size=1)\n",
              "            (fc1): Conv2d(672, 168, kernel_size=(1, 1), stride=(1, 1))\n",
              "            (fc2): Conv2d(168, 672, kernel_size=(1, 1), stride=(1, 1))\n",
              "            (activation): ReLU()\n",
              "            (scale_activation): Hardsigmoid()\n",
              "          )\n",
              "          (3): Conv2dNormActivation(\n",
              "            (0): Conv2d(672, 112, kernel_size=(1, 1), stride=(1, 1), bias=False)\n",
              "            (1): BatchNorm2d(112, eps=0.001, momentum=0.01, affine=True, track_running_stats=True)\n",
              "          )\n",
              "        )\n",
              "      )\n",
              "      (13): InvertedResidual(\n",
              "        (block): Sequential(\n",
              "          (0): Conv2dNormActivation(\n",
              "            (0): Conv2d(112, 672, kernel_size=(1, 1), stride=(1, 1), bias=False)\n",
              "            (1): BatchNorm2d(672, eps=0.001, momentum=0.01, affine=True, track_running_stats=True)\n",
              "            (2): Hardswish()\n",
              "          )\n",
              "          (1): Conv2dNormActivation(\n",
              "            (0): Conv2d(672, 672, kernel_size=(5, 5), stride=(2, 2), padding=(2, 2), groups=672, bias=False)\n",
              "            (1): BatchNorm2d(672, eps=0.001, momentum=0.01, affine=True, track_running_stats=True)\n",
              "            (2): Hardswish()\n",
              "          )\n",
              "          (2): SqueezeExcitation(\n",
              "            (avgpool): AdaptiveAvgPool2d(output_size=1)\n",
              "            (fc1): Conv2d(672, 168, kernel_size=(1, 1), stride=(1, 1))\n",
              "            (fc2): Conv2d(168, 672, kernel_size=(1, 1), stride=(1, 1))\n",
              "            (activation): ReLU()\n",
              "            (scale_activation): Hardsigmoid()\n",
              "          )\n",
              "          (3): Conv2dNormActivation(\n",
              "            (0): Conv2d(672, 160, kernel_size=(1, 1), stride=(1, 1), bias=False)\n",
              "            (1): BatchNorm2d(160, eps=0.001, momentum=0.01, affine=True, track_running_stats=True)\n",
              "          )\n",
              "        )\n",
              "      )\n",
              "      (14): InvertedResidual(\n",
              "        (block): Sequential(\n",
              "          (0): Conv2dNormActivation(\n",
              "            (0): Conv2d(160, 960, kernel_size=(1, 1), stride=(1, 1), bias=False)\n",
              "            (1): BatchNorm2d(960, eps=0.001, momentum=0.01, affine=True, track_running_stats=True)\n",
              "            (2): Hardswish()\n",
              "          )\n",
              "          (1): Conv2dNormActivation(\n",
              "            (0): Conv2d(960, 960, kernel_size=(5, 5), stride=(1, 1), padding=(2, 2), groups=960, bias=False)\n",
              "            (1): BatchNorm2d(960, eps=0.001, momentum=0.01, affine=True, track_running_stats=True)\n",
              "            (2): Hardswish()\n",
              "          )\n",
              "          (2): SqueezeExcitation(\n",
              "            (avgpool): AdaptiveAvgPool2d(output_size=1)\n",
              "            (fc1): Conv2d(960, 240, kernel_size=(1, 1), stride=(1, 1))\n",
              "            (fc2): Conv2d(240, 960, kernel_size=(1, 1), stride=(1, 1))\n",
              "            (activation): ReLU()\n",
              "            (scale_activation): Hardsigmoid()\n",
              "          )\n",
              "          (3): Conv2dNormActivation(\n",
              "            (0): Conv2d(960, 160, kernel_size=(1, 1), stride=(1, 1), bias=False)\n",
              "            (1): BatchNorm2d(160, eps=0.001, momentum=0.01, affine=True, track_running_stats=True)\n",
              "          )\n",
              "        )\n",
              "      )\n",
              "      (15): InvertedResidual(\n",
              "        (block): Sequential(\n",
              "          (0): Conv2dNormActivation(\n",
              "            (0): Conv2d(160, 960, kernel_size=(1, 1), stride=(1, 1), bias=False)\n",
              "            (1): BatchNorm2d(960, eps=0.001, momentum=0.01, affine=True, track_running_stats=True)\n",
              "            (2): Hardswish()\n",
              "          )\n",
              "          (1): Conv2dNormActivation(\n",
              "            (0): Conv2d(960, 960, kernel_size=(5, 5), stride=(1, 1), padding=(2, 2), groups=960, bias=False)\n",
              "            (1): BatchNorm2d(960, eps=0.001, momentum=0.01, affine=True, track_running_stats=True)\n",
              "            (2): Hardswish()\n",
              "          )\n",
              "          (2): SqueezeExcitation(\n",
              "            (avgpool): AdaptiveAvgPool2d(output_size=1)\n",
              "            (fc1): Conv2d(960, 240, kernel_size=(1, 1), stride=(1, 1))\n",
              "            (fc2): Conv2d(240, 960, kernel_size=(1, 1), stride=(1, 1))\n",
              "            (activation): ReLU()\n",
              "            (scale_activation): Hardsigmoid()\n",
              "          )\n",
              "          (3): Conv2dNormActivation(\n",
              "            (0): Conv2d(960, 160, kernel_size=(1, 1), stride=(1, 1), bias=False)\n",
              "            (1): BatchNorm2d(160, eps=0.001, momentum=0.01, affine=True, track_running_stats=True)\n",
              "          )\n",
              "        )\n",
              "      )\n",
              "      (16): Conv2dNormActivation(\n",
              "        (0): Conv2d(160, 960, kernel_size=(1, 1), stride=(1, 1), bias=False)\n",
              "        (1): BatchNorm2d(960, eps=0.001, momentum=0.01, affine=True, track_running_stats=True)\n",
              "        (2): Hardswish()\n",
              "      )\n",
              "    )\n",
              "    (avgpool): AdaptiveAvgPool2d(output_size=1)\n",
              "    (classifier): Sequential(\n",
              "      (0): Linear(in_features=960, out_features=1280, bias=True)\n",
              "      (1): Hardswish()\n",
              "      (2): Dropout(p=0.2, inplace=True)\n",
              "      (3): Linear(in_features=1280, out_features=1000, bias=True)\n",
              "    )\n",
              "  )\n",
              "  (1): Linear(in_features=1000, out_features=1, bias=True)\n",
              ")"
            ]
          },
          "metadata": {},
          "execution_count": 45
        }
      ],
      "execution_count": 45,
      "source": [
        "model_mobilenet.requires_grad_(False)\n",
        "model_mobilenet.eval()"
      ],
      "id": "3559b9dd176f4167"
    },
    {
      "metadata": {
        "id": "a16eca5f3dee0ddc"
      },
      "cell_type": "code",
      "outputs": [],
      "execution_count": 47,
      "source": [
        "y_test = []\n",
        "y_pred = []\n",
        "\n",
        "for x, y in test_loader:\n",
        "    y_test += [int(y[i]) for i in range(len(y))]\n",
        "\n",
        "    output = model_mobilenet(x)\n",
        "    predictions = torch.gt(output, torch.tensor([0]).to(device))\n",
        "    y_pred += [int(predictions[i]) for i in range(len(y))]"
      ],
      "id": "a16eca5f3dee0ddc"
    },
    {
      "metadata": {
        "id": "463c5e76be889812",
        "colab": {
          "base_uri": "https://localhost:8080/"
        },
        "outputId": "9a589464-de6f-4e54-dcf2-76c2fd57856d"
      },
      "cell_type": "code",
      "outputs": [
        {
          "output_type": "stream",
          "name": "stdout",
          "text": [
            "Train accuracy: 0.6817\n",
            "Train recall: 0.6861\n",
            "Train precision: 0.5638\n",
            "Train F1: 0.6189\n"
          ]
        }
      ],
      "execution_count": 48,
      "source": [
        "mobilenet_test_metrics = get_classification_metrics(y_pred, y_test)\n",
        "\n",
        "print(f\"Train accuracy: {mobilenet_test_metrics['accuracy']:.4f}\")\n",
        "print(f\"Train recall: {mobilenet_test_metrics['recall']:.4f}\")\n",
        "print(f\"Train precision: {mobilenet_test_metrics['precision']:.4f}\")\n",
        "print(f\"Train F1: {mobilenet_test_metrics['f1']:.4f}\")"
      ],
      "id": "463c5e76be889812"
    },
    {
      "metadata": {
        "id": "e75933138e0c839a",
        "colab": {
          "base_uri": "https://localhost:8080/",
          "height": 410
        },
        "outputId": "bfb0bafa-beaf-478c-9e5d-b46d5f6d18be"
      },
      "cell_type": "code",
      "outputs": [
        {
          "output_type": "display_data",
          "data": {
            "text/plain": [
              "<Figure size 500x400 with 2 Axes>"
            ],
            "image/png": "[encoded data removed]"
          },
          "metadata": {}
        }
      ],
      "execution_count": 49,
      "source": [
        "cm = confusion_matrix(y_test, y_pred)\n",
        "plt.figure(figsize=(5, 4))\n",
        "sns.heatmap(cm, annot=True, fmt=\"d\", cmap=\"Blues\", xticklabels=[\"No Barrada\", \"Barrada\"], yticklabels=[\"No Barrada\", \"Barrada\"])\n",
        "plt.title(\"Matriz de Confusión\")\n",
        "plt.xlabel(\"Predicción\")\n",
        "plt.ylabel(\"Valor Real\")\n",
        "plt.show()"
      ],
      "id": "e75933138e0c839a"
    },
    {
      "metadata": {
        "id": "b7f05de9db130a90",
        "colab": {
          "base_uri": "https://localhost:8080/"
        },
        "outputId": "4cdfc1e6-cff4-4506-a575-526c7ce2c75d"
      },
      "cell_type": "code",
      "outputs": [
        {
          "output_type": "stream",
          "name": "stdout",
          "text": [
            "Reporte de Clasificación\n",
            "              precision    recall  f1-score   support\n",
            "\n",
            "  No Barrada       0.78      0.68      0.73       938\n",
            "     Barrada       0.56      0.69      0.62       567\n",
            "\n",
            "    accuracy                           0.68      1505\n",
            "   macro avg       0.67      0.68      0.67      1505\n",
            "weighted avg       0.70      0.68      0.69      1505\n",
            "\n"
          ]
        }
      ],
      "execution_count": 50,
      "source": [
        "print(\"Reporte de Clasificación\")\n",
        "print(classification_report(y_test, y_pred, target_names=[\"No Barrada\", \"Barrada\"]))"
      ],
      "id": "b7f05de9db130a90"
    },
    {
      "metadata": {
        "id": "e21e9858bb5cc83a"
      },
      "cell_type": "code",
      "outputs": [],
      "execution_count": 51,
      "source": [
        "def plot_metrics_comparison(train_metrics, valid_metrics, test_metrics):\n",
        "    metrics = ['accuracy', 'recall', 'precision', 'f1']\n",
        "    sets = ['Train', 'Validation', 'Test']\n",
        "\n",
        "    # Set up the figure with subplots\n",
        "    fig, axes = plt.subplots(2, 2, figsize=(12, 8))\n",
        "    fig.suptitle('Model Performance Metrics Comparison')\n",
        "\n",
        "    # Get metrics values\n",
        "    values = {\n",
        "        'Train': train_metrics,\n",
        "        'Validation': valid_metrics,\n",
        "        'Test': test_metrics\n",
        "    }\n",
        "\n",
        "    # Plot each metric\n",
        "    for idx, metric in enumerate(metrics):\n",
        "        ax = axes[idx//2, idx%2]\n",
        "        x = np.arange(len(sets))\n",
        "        metric_values = [values[s][metric] for s in sets]\n",
        "\n",
        "        ax.bar(x, metric_values)\n",
        "        ax.set_title(metric.capitalize())\n",
        "        ax.set_xticks(x)\n",
        "        ax.set_xticklabels(sets)\n",
        "        ax.set_ylim(0, 1)\n",
        "        ax.grid(True, alpha=0.3)\n",
        "\n",
        "        # Add value labels on top of bars\n",
        "        for i, v in enumerate(metric_values):\n",
        "            ax.text(i, v, f'{v:.3f}', ha='center', va='bottom')\n",
        "\n",
        "    plt.tight_layout()\n",
        "    plt.show()"
      ],
      "id": "e21e9858bb5cc83a"
    },
    {
      "metadata": {
        "id": "9f37b4f38d2c066d",
        "colab": {
          "base_uri": "https://localhost:8080/",
          "height": 806
        },
        "outputId": "58c6ea86-29a9-4752-e9aa-688b8a9cebdd"
      },
      "cell_type": "code",
      "outputs": [
        {
          "output_type": "display_data",
          "data": {
            "text/plain": [
              "<Figure size 1200x800 with 4 Axes>"
            ],
            "image/png": "[encoded data removed]"
          },
          "metadata": {}
        }
      ],
      "execution_count": 52,
      "source": [
        "plot_metrics_comparison(mobilenet_train_metrics[-1], mobilenet_valid_metrics[-1], mobilenet_test_metrics)"
      ],
      "id": "9f37b4f38d2c066d"
    },
    {
      "cell_type": "code",
      "source": [
        "def plot_learning_curves(test_metrics, valid_metrics, fine_tune_epochs=2):\n",
        "    test_loss = [test_metrics[i]['loss'] for i in range(len(test_metrics))]\n",
        "    valid_loss = [valid_metrics[i]['loss'] for i in range(len(valid_metrics))]\n",
        "\n",
        "    fig, axs = plt.subplots(1, 2, figsize=(12,4))\n",
        "\n",
        "    axs[0].plot(test_loss, label='Test Loss')\n",
        "    axs[0].set_title('Test Loss')\n",
        "    axs[0].set_xlabel('Epochs')\n",
        "    axs[0].set_ylabel('Loss')\n",
        "    axs[0].axvline(x=len(test_metrics) -1 - fine_tune_epochs, color='red', linestyle='--', label='Fine tuning')\n",
        "    axs[0].legend()\n",
        "\n",
        "    axs[1].plot(valid_loss, label='Validation Loss')\n",
        "    axs[1].set_title('Validation Loss')\n",
        "    axs[1].set_xlabel('Epochs')\n",
        "    axs[1].set_ylabel('Loss')\n",
        "    axs[1].axvline(x=len(test_metrics) -1 - fine_tune_epochs, color='red', linestyle='--', label='Fine tuning')\n",
        "    axs[1].legend()\n",
        "\n",
        "    plt.tight_layout()\n",
        "    plt.show()\n",
        "\n",
        "plot_learning_curves(mobilenet_train_metrics, mobilenet_valid_metrics, 4)"
      ],
      "metadata": {
        "colab": {
          "base_uri": "https://localhost:8080/",
          "height": 407
        },
        "id": "2dcCfNZDH4HF",
        "outputId": "395e96e6-ae82-4aec-d8da-92c723189264"
      },
      "id": "2dcCfNZDH4HF",
      "execution_count": 53,
      "outputs": [
        {
          "output_type": "display_data",
          "data": {
            "text/plain": [
              "<Figure size 1200x400 with 2 Axes>"
            ],
            "image/png": "[encoded data removed]"
          },
          "metadata": {}
        }
      ]
    },
    {
      "cell_type": "markdown",
      "source": [
        "## Guardando el modelo"
      ],
      "metadata": {
        "id": "X4xAnk4EWEPW"
      },
      "id": "X4xAnk4EWEPW"
    },
    {
      "cell_type": "code",
      "source": [
        "model_path = '/content/drive/MyDrive/datasets/bargal/model_mobile_netv3.pth'\n",
        "torch.save(model_mobilenet.state_dict(), model_path)"
      ],
      "metadata": {
        "id": "RkznL1FdWGsI"
      },
      "id": "RkznL1FdWGsI",
      "execution_count": 25,
      "outputs": []
    }
  ],
  "metadata": {
    "kernelspec": {
      "display_name": "Python 3",
      "name": "python3"
    },
    "language_info": {
      "codemirror_mode": {
        "name": "ipython",
        "version": 2
      },
      "file_extension": ".py",
      "mimetype": "text/x-python",
      "name": "python",
      "nbconvert_exporter": "python",
      "pygments_lexer": "ipython2",
      "version": "2.7.6"
    },
    "colab": {
      "provenance": [],
      "gpuType": "A100",
      "machine_shape": "hm"
    },
    "accelerator": "GPU"
  },
  "nbformat": 4,
  "nbformat_minor": 5
}