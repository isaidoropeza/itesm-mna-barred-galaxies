{
 "cells": [
  {
   "cell_type": "markdown",
   "id": "b18a1823-b83c-49ae-92c0-8d5ee13687b0",
   "metadata": {},
   "source": [
    "# Preparación del dataset para YOLOv8"
   ]
  },
  {
   "cell_type": "code",
   "execution_count": 3,
   "id": "58ccaa79-d366-4d37-a402-82234a7412ed",
   "metadata": {},
   "outputs": [
    {
     "name": "stderr",
     "output_type": "stream",
     "text": [
      "/var/folders/d2/x4hsqgc96j5gq48f813m7zq40000gn/T/ipykernel_49664/441233348.py:18: DeprecationWarning: DataFrameGroupBy.apply operated on the grouping columns. This behavior is deprecated, and in a future version of pandas the grouping columns will be excluded from the operation. Either pass `include_groups=False` to exclude the groupings or explicitly select the grouping columns after groupby to silence this warning.\n",
      "  sample_df = df.groupby(\"has_bar\", group_keys=False).apply(lambda x: x.sample(n=sample_size, random_state=42))\n"
     ]
    },
    {
     "name": "stdout",
     "output_type": "stream",
     "text": [
      "Dataset balanceado y listo para YOLOv8.\n",
      "Total muestras por clase:\n",
      "has_bar\n",
      "0    1000\n",
      "1    1000\n",
      "Name: count, dtype: int64\n",
      "\n",
      "Train class distribution:\n",
      "has_bar\n",
      "1    800\n",
      "0    800\n",
      "Name: count, dtype: int64\n",
      "has_bar\n",
      "1    0.5\n",
      "0    0.5\n",
      "Name: proportion, dtype: float64\n",
      "\n",
      "Val class distribution:\n",
      "has_bar\n",
      "0    200\n",
      "1    200\n",
      "Name: count, dtype: int64\n",
      "has_bar\n",
      "0    0.5\n",
      "1    0.5\n",
      "Name: proportion, dtype: float64\n"
     ]
    }
   ],
   "source": [
    "import os\n",
    "import pandas as pd\n",
    "import shutil\n",
    "from sklearn.model_selection import train_test_split\n",
    "\n",
    "# 1. Rutas\n",
    "image_base_path = '../data/processed/'   \n",
    "csv_path = '../data/dataset.csv'      \n",
    "\n",
    "# 2. Cargar y preparar datos\n",
    "df = pd.read_csv(csv_path)\n",
    "df = df[df[\"Bars\"] >= 0].copy()\n",
    "df[\"has_bar\"] = df[\"Bars\"].apply(lambda x: 1 if x > 0 else 0)\n",
    "df[\"image_path\"] = df[\"name\"].apply(lambda x: os.path.join(image_base_path, f\"{x}.png\"))\n",
    "\n",
    "# 3. Tomar muestra balanceada pequeña\n",
    "sample_size = 1000  # por clase\n",
    "sample_df = df.groupby(\"has_bar\", group_keys=False).apply(lambda x: x.sample(n=sample_size, random_state=42))\n",
    "\n",
    "# 4. División estratificada\n",
    "train_df, val_df = train_test_split(sample_df, test_size=0.2, stratify=sample_df[\"has_bar\"], random_state=42)\n",
    "\n",
    "# 5. Crear carpetas destino (limpiar si ya existen)\n",
    "for subset in ['train', 'val']:\n",
    "    img_dir = f'galaxy_yolov8/images/{subset}'\n",
    "    lbl_dir = f'galaxy_yolov8/labels/{subset}'\n",
    "    shutil.rmtree(img_dir, ignore_errors=True)\n",
    "    shutil.rmtree(lbl_dir, ignore_errors=True)\n",
    "    os.makedirs(img_dir, exist_ok=True)\n",
    "    os.makedirs(lbl_dir, exist_ok=True)\n",
    "\n",
    "# 6. Copiar imágenes y generar etiquetas\n",
    "def process_subset(subset_df, subset_name):\n",
    "    for _, row in subset_df.iterrows():\n",
    "        img_name = os.path.basename(row['image_path'])\n",
    "        image_dst = f'galaxy_yolov8/images/{subset_name}/{img_name}'\n",
    "        label_dst = f'galaxy_yolov8/labels/{subset_name}/{os.path.splitext(img_name)[0]}.txt'\n",
    "\n",
    "        shutil.copy(row['image_path'], image_dst)\n",
    "\n",
    "        if row['has_bar'] == 1:\n",
    "            with open(label_dst, 'w') as f:\n",
    "                f.write('0 0.5 0.5 1.0 1.0\\n')\n",
    "        else:\n",
    "            open(label_dst, 'w').close()  # etiqueta vacía\n",
    "\n",
    "process_subset(train_df, 'train')\n",
    "process_subset(val_df, 'val')\n",
    "\n",
    "# 7. Crear archivo YAML compatible con YOLOv8\n",
    "yaml_content = \"\"\"train: galaxy_yolov8/images/train\n",
    "val: galaxy_yolov8/images/val\n",
    "nc: 1\n",
    "names: ['bar']\n",
    "\"\"\"\n",
    "with open('galaxy_yolov8/galaxy_dataset.yaml', 'w') as f:\n",
    "    f.write(yaml_content)\n",
    "\n",
    "# 8. Verificación\n",
    "print(\"Dataset balanceado y listo para YOLOv8.\")\n",
    "print(\"Total muestras por clase:\")\n",
    "print(sample_df[\"has_bar\"].value_counts())\n",
    "print(\"\\nTrain class distribution:\")\n",
    "print(train_df[\"has_bar\"].value_counts())\n",
    "print(train_df[\"has_bar\"].value_counts(normalize=True))\n",
    "print(\"\\nVal class distribution:\")\n",
    "print(val_df[\"has_bar\"].value_counts())\n",
    "print(val_df[\"has_bar\"].value_counts(normalize=True))\n"
   ]
  },
  {
   "cell_type": "code",
   "execution_count": 4,
   "id": "e89842bd-c65a-41d4-a680-acc0e924fa72",
   "metadata": {},
   "outputs": [],
   "source": [
    "!pip install ultralytics --quiet\n"
   ]
  },
  {
   "cell_type": "code",
   "execution_count": 9,
   "id": "f47dfbec-c862-40a2-8b48-08eeb5d11bfc",
   "metadata": {},
   "outputs": [
    {
     "name": "stdout",
     "output_type": "stream",
     "text": [
      "New https://pypi.org/project/ultralytics/8.3.142 available 😃 Update with 'pip install -U ultralytics'\n",
      "Ultralytics 8.3.141 🚀 Python-3.10.16 torch-2.7.0 MPS (Apple M2 Max)\n",
      "\u001b[34m\u001b[1mengine/trainer: \u001b[0magnostic_nms=False, amp=True, augment=False, auto_augment=randaugment, batch=64, bgr=0.0, box=7.5, cache=True, cfg=None, classes=None, close_mosaic=10, cls=0.5, conf=None, copy_paste=0.0, copy_paste_mode=flip, cos_lr=False, cutmix=0.0, data=galaxy_yolov8/galaxy_dataset.yaml, degrees=0.0, deterministic=True, device=mps, dfl=1.5, dnn=False, dropout=0.0, dynamic=False, embed=None, epochs=10, erasing=0.4, exist_ok=False, fliplr=0.5, flipud=0.0, format=torchscript, fraction=1.0, freeze=None, half=False, hsv_h=0.015, hsv_s=0.7, hsv_v=0.4, imgsz=416, int8=False, iou=0.7, keras=False, kobj=1.0, line_width=None, lr0=0.01, lrf=0.01, mask_ratio=4, max_det=300, mixup=0.0, mode=train, model=yolov8m.pt, momentum=0.937, mosaic=1.0, multi_scale=False, name=bar_detector_yolov83, nbs=64, nms=False, opset=None, optimize=False, optimizer=auto, overlap_mask=True, patience=100, perspective=0.0, plots=True, pose=12.0, pretrained=True, profile=False, project=None, rect=False, resume=False, retina_masks=False, save=True, save_conf=False, save_crop=False, save_dir=runs/detect/bar_detector_yolov83, save_frames=False, save_json=False, save_period=-1, save_txt=False, scale=0.5, seed=0, shear=0.0, show=False, show_boxes=True, show_conf=True, show_labels=True, simplify=True, single_cls=False, source=None, split=val, stream_buffer=False, task=detect, time=None, tracker=botsort.yaml, translate=0.1, val=True, verbose=True, vid_stride=1, visualize=False, warmup_bias_lr=0.1, warmup_epochs=3.0, warmup_momentum=0.8, weight_decay=0.0005, workers=8, workspace=None\n",
      "Overriding model.yaml nc=80 with nc=1\n",
      "\n",
      "                   from  n    params  module                                       arguments                     \n",
      "  0                  -1  1      1392  ultralytics.nn.modules.conv.Conv             [3, 48, 3, 2]                 \n",
      "  1                  -1  1     41664  ultralytics.nn.modules.conv.Conv             [48, 96, 3, 2]                \n",
      "  2                  -1  2    111360  ultralytics.nn.modules.block.C2f             [96, 96, 2, True]             \n",
      "  3                  -1  1    166272  ultralytics.nn.modules.conv.Conv             [96, 192, 3, 2]               \n",
      "  4                  -1  4    813312  ultralytics.nn.modules.block.C2f             [192, 192, 4, True]           \n",
      "  5                  -1  1    664320  ultralytics.nn.modules.conv.Conv             [192, 384, 3, 2]              \n",
      "  6                  -1  4   3248640  ultralytics.nn.modules.block.C2f             [384, 384, 4, True]           \n",
      "  7                  -1  1   1991808  ultralytics.nn.modules.conv.Conv             [384, 576, 3, 2]              \n",
      "  8                  -1  2   3985920  ultralytics.nn.modules.block.C2f             [576, 576, 2, True]           \n",
      "  9                  -1  1    831168  ultralytics.nn.modules.block.SPPF            [576, 576, 5]                 \n",
      " 10                  -1  1         0  torch.nn.modules.upsampling.Upsample         [None, 2, 'nearest']          \n",
      " 11             [-1, 6]  1         0  ultralytics.nn.modules.conv.Concat           [1]                           \n",
      " 12                  -1  2   1993728  ultralytics.nn.modules.block.C2f             [960, 384, 2]                 \n",
      " 13                  -1  1         0  torch.nn.modules.upsampling.Upsample         [None, 2, 'nearest']          \n",
      " 14             [-1, 4]  1         0  ultralytics.nn.modules.conv.Concat           [1]                           \n",
      " 15                  -1  2    517632  ultralytics.nn.modules.block.C2f             [576, 192, 2]                 \n",
      " 16                  -1  1    332160  ultralytics.nn.modules.conv.Conv             [192, 192, 3, 2]              \n",
      " 17            [-1, 12]  1         0  ultralytics.nn.modules.conv.Concat           [1]                           \n",
      " 18                  -1  2   1846272  ultralytics.nn.modules.block.C2f             [576, 384, 2]                 \n",
      " 19                  -1  1   1327872  ultralytics.nn.modules.conv.Conv             [384, 384, 3, 2]              \n",
      " 20             [-1, 9]  1         0  ultralytics.nn.modules.conv.Concat           [1]                           \n",
      " 21                  -1  2   4207104  ultralytics.nn.modules.block.C2f             [960, 576, 2]                 \n",
      " 22        [15, 18, 21]  1   3776275  ultralytics.nn.modules.head.Detect           [1, [192, 384, 576]]          \n",
      "Model summary: 169 layers, 25,856,899 parameters, 25,856,883 gradients, 79.1 GFLOPs\n",
      "\n",
      "Transferred 469/475 items from pretrained weights\n",
      "Freezing layer 'model.22.dfl.conv.weight'\n",
      "\u001b[34m\u001b[1mtrain: \u001b[0mFast image access ✅ (ping: 0.0±0.0 ms, read: 1096.8±134.2 MB/s, size: 143.7 KB)\n"
     ]
    },
    {
     "name": "stderr",
     "output_type": "stream",
     "text": [
      "\u001b[34m\u001b[1mtrain: \u001b[0mScanning /Users/isaidoropeza/Documents/MNA_Proyecto_Integrador/Baseline/i\u001b[0m"
     ]
    },
    {
     "name": "stdout",
     "output_type": "stream",
     "text": [
      "\u001b[34m\u001b[1mtrain: \u001b[0mNew cache created: /Users/isaidoropeza/Documents/MNA_Proyecto_Integrador/Baseline/itesm-mna-barred-galaxies-main/notebooks/galaxy_yolov8/labels/train.cache\n"
     ]
    },
    {
     "name": "stderr",
     "output_type": "stream",
     "text": [
      "\n"
     ]
    },
    {
     "name": "stdout",
     "output_type": "stream",
     "text": [
      "WARNING ⚠️ cache='ram' may produce non-deterministic training results. Consider cache='disk' as a deterministic alternative if your disk space allows.\n"
     ]
    },
    {
     "name": "stderr",
     "output_type": "stream",
     "text": [
      "\u001b[34m\u001b[1mtrain: \u001b[0mCaching images (0.8GB RAM): 100%|██████████| 1600/1600 [00:00<00:00, 4100\u001b[0m"
     ]
    },
    {
     "name": "stdout",
     "output_type": "stream",
     "text": [
      "\u001b[34m\u001b[1mval: \u001b[0mFast image access ✅ (ping: 0.0±0.0 ms, read: 1260.4±153.0 MB/s, size: 138.2 KB)\n"
     ]
    },
    {
     "name": "stderr",
     "output_type": "stream",
     "text": [
      "\n",
      "\u001b[34m\u001b[1mval: \u001b[0mScanning /Users/isaidoropeza/Documents/MNA_Proyecto_Integrador/Baseline/ite\u001b[0m"
     ]
    },
    {
     "name": "stdout",
     "output_type": "stream",
     "text": [
      "\u001b[34m\u001b[1mval: \u001b[0mNew cache created: /Users/isaidoropeza/Documents/MNA_Proyecto_Integrador/Baseline/itesm-mna-barred-galaxies-main/notebooks/galaxy_yolov8/labels/val.cache\n"
     ]
    },
    {
     "name": "stderr",
     "output_type": "stream",
     "text": [
      "\n"
     ]
    },
    {
     "name": "stdout",
     "output_type": "stream",
     "text": [
      "WARNING ⚠️ cache='ram' may produce non-deterministic training results. Consider cache='disk' as a deterministic alternative if your disk space allows.\n"
     ]
    },
    {
     "name": "stderr",
     "output_type": "stream",
     "text": [
      "\u001b[34m\u001b[1mval: \u001b[0mCaching images (0.2GB RAM): 100%|██████████| 400/400 [00:00<00:00, 4054.99i\u001b[0m\n"
     ]
    },
    {
     "name": "stdout",
     "output_type": "stream",
     "text": [
      "Plotting labels to runs/detect/bar_detector_yolov83/labels.jpg... \n",
      "\u001b[34m\u001b[1moptimizer:\u001b[0m 'optimizer=auto' found, ignoring 'lr0=0.01' and 'momentum=0.937' and determining best 'optimizer', 'lr0' and 'momentum' automatically... \n",
      "\u001b[34m\u001b[1moptimizer:\u001b[0m AdamW(lr=0.002, momentum=0.9) with parameter groups 77 weight(decay=0.0), 84 weight(decay=0.0005), 83 bias(decay=0.0)\n",
      "Image sizes 416 train, 416 val\n",
      "Using 0 dataloader workers\n",
      "Logging results to \u001b[1mruns/detect/bar_detector_yolov83\u001b[0m\n",
      "Starting training for 10 epochs...\n",
      "Closing dataloader mosaic\n",
      "\n",
      "      Epoch    GPU_mem   box_loss   cls_loss   dfl_loss  Instances       Size\n"
     ]
    },
    {
     "name": "stderr",
     "output_type": "stream",
     "text": [
      "       1/10      22.9G     0.2198      1.495       1.01         28        416: 1\n",
      "                 Class     Images  Instances      Box(P          R      mAP50  m"
     ]
    },
    {
     "name": "stdout",
     "output_type": "stream",
     "text": [
      "WARNING ⚠️ NMS time limit 8.400s exceeded\n"
     ]
    },
    {
     "name": "stderr",
     "output_type": "stream",
     "text": [
      "                 Class     Images  Instances      Box(P          R      mAP50  m"
     ]
    },
    {
     "name": "stdout",
     "output_type": "stream",
     "text": [
      "WARNING ⚠️ NMS time limit 8.400s exceeded\n"
     ]
    },
    {
     "name": "stderr",
     "output_type": "stream",
     "text": [
      "                 Class     Images  Instances      Box(P          R      mAP50  m"
     ]
    },
    {
     "name": "stdout",
     "output_type": "stream",
     "text": [
      "                   all        400        200      0.138      0.715      0.387      0.293\n"
     ]
    },
    {
     "name": "stderr",
     "output_type": "stream",
     "text": [
      "\n"
     ]
    },
    {
     "name": "stdout",
     "output_type": "stream",
     "text": [
      "\n",
      "      Epoch    GPU_mem   box_loss   cls_loss   dfl_loss  Instances       Size\n"
     ]
    },
    {
     "name": "stderr",
     "output_type": "stream",
     "text": [
      "       2/10        23G     0.2371     0.9136      0.984         37        416: 1\n",
      "                 Class     Images  Instances      Box(P          R      mAP50  m"
     ]
    },
    {
     "name": "stdout",
     "output_type": "stream",
     "text": [
      "WARNING ⚠️ NMS time limit 8.400s exceeded\n"
     ]
    },
    {
     "name": "stderr",
     "output_type": "stream",
     "text": [
      "                 Class     Images  Instances      Box(P          R      mAP50  m\n"
     ]
    },
    {
     "name": "stdout",
     "output_type": "stream",
     "text": [
      "                   all        400        200          0          0          0          0\n",
      "\n",
      "      Epoch    GPU_mem   box_loss   cls_loss   dfl_loss  Instances       Size\n"
     ]
    },
    {
     "name": "stderr",
     "output_type": "stream",
     "text": [
      "       3/10        23G       0.25     0.9705      1.005         34        416: 1\n",
      "                 Class     Images  Instances      Box(P          R      mAP50  m"
     ]
    },
    {
     "name": "stdout",
     "output_type": "stream",
     "text": [
      "                   all        400        200     0.0334          1     0.0338     0.0207\n"
     ]
    },
    {
     "name": "stderr",
     "output_type": "stream",
     "text": [
      "\n"
     ]
    },
    {
     "name": "stdout",
     "output_type": "stream",
     "text": [
      "\n",
      "      Epoch    GPU_mem   box_loss   cls_loss   dfl_loss  Instances       Size\n"
     ]
    },
    {
     "name": "stderr",
     "output_type": "stream",
     "text": [
      "       4/10        23G     0.2438     0.9032      1.002         31        416: 1\n",
      "                 Class     Images  Instances      Box(P          R      mAP50  m"
     ]
    },
    {
     "name": "stdout",
     "output_type": "stream",
     "text": [
      "WARNING ⚠️ NMS time limit 8.400s exceeded\n"
     ]
    },
    {
     "name": "stderr",
     "output_type": "stream",
     "text": [
      "                 Class     Images  Instances      Box(P          R      mAP50  m\n"
     ]
    },
    {
     "name": "stdout",
     "output_type": "stream",
     "text": [
      "                   all        400        200    0.00545       0.21    0.00323    0.00143\n",
      "\n",
      "      Epoch    GPU_mem   box_loss   cls_loss   dfl_loss  Instances       Size\n"
     ]
    },
    {
     "name": "stderr",
     "output_type": "stream",
     "text": [
      "       5/10        23G     0.1713     0.8272     0.9479         29        416: 1\n",
      "                 Class     Images  Instances      Box(P          R      mAP50  m\n"
     ]
    },
    {
     "name": "stdout",
     "output_type": "stream",
     "text": [
      "                   all        400        200      0.178      0.925      0.375      0.195\n",
      "\n",
      "      Epoch    GPU_mem   box_loss   cls_loss   dfl_loss  Instances       Size\n"
     ]
    },
    {
     "name": "stderr",
     "output_type": "stream",
     "text": [
      "       6/10        23G     0.1263     0.7969     0.9351         36        416: 1\n",
      "                 Class     Images  Instances      Box(P          R      mAP50  m"
     ]
    },
    {
     "name": "stdout",
     "output_type": "stream",
     "text": [
      "                   all        400        200      0.507          1      0.512      0.328\n"
     ]
    },
    {
     "name": "stderr",
     "output_type": "stream",
     "text": [
      "\n"
     ]
    },
    {
     "name": "stdout",
     "output_type": "stream",
     "text": [
      "\n",
      "      Epoch    GPU_mem   box_loss   cls_loss   dfl_loss  Instances       Size\n"
     ]
    },
    {
     "name": "stderr",
     "output_type": "stream",
     "text": [
      "       7/10        23G     0.1177     0.7836     0.9194         32        416: 1\n",
      "                 Class     Images  Instances      Box(P          R      mAP50  m"
     ]
    },
    {
     "name": "stdout",
     "output_type": "stream",
     "text": [
      "                   all        400        200        0.5          1      0.594      0.594\n"
     ]
    },
    {
     "name": "stderr",
     "output_type": "stream",
     "text": [
      "\n"
     ]
    },
    {
     "name": "stdout",
     "output_type": "stream",
     "text": [
      "\n",
      "      Epoch    GPU_mem   box_loss   cls_loss   dfl_loss  Instances       Size\n"
     ]
    },
    {
     "name": "stderr",
     "output_type": "stream",
     "text": [
      "       8/10        23G    0.09663     0.7741     0.9211         36        416: 1\n",
      "                 Class     Images  Instances      Box(P          R      mAP50  m"
     ]
    },
    {
     "name": "stdout",
     "output_type": "stream",
     "text": [
      "                   all        400        200      0.499      0.995      0.583      0.583\n"
     ]
    },
    {
     "name": "stderr",
     "output_type": "stream",
     "text": [
      "\n"
     ]
    },
    {
     "name": "stdout",
     "output_type": "stream",
     "text": [
      "\n",
      "      Epoch    GPU_mem   box_loss   cls_loss   dfl_loss  Instances       Size\n"
     ]
    },
    {
     "name": "stderr",
     "output_type": "stream",
     "text": [
      "       9/10        23G    0.07705     0.7715     0.9022         38        416: 1\n",
      "                 Class     Images  Instances      Box(P          R      mAP50  m"
     ]
    },
    {
     "name": "stdout",
     "output_type": "stream",
     "text": [
      "                   all        400        200        0.5          1      0.604      0.604\n"
     ]
    },
    {
     "name": "stderr",
     "output_type": "stream",
     "text": [
      "\n"
     ]
    },
    {
     "name": "stdout",
     "output_type": "stream",
     "text": [
      "\n",
      "      Epoch    GPU_mem   box_loss   cls_loss   dfl_loss  Instances       Size\n"
     ]
    },
    {
     "name": "stderr",
     "output_type": "stream",
     "text": [
      "      10/10        23G    0.05694     0.7423     0.9131         32        416: 1\n",
      "                 Class     Images  Instances      Box(P          R      mAP50  m"
     ]
    },
    {
     "name": "stdout",
     "output_type": "stream",
     "text": [
      "                   all        400        200      0.542      0.935      0.631      0.631\n"
     ]
    },
    {
     "name": "stderr",
     "output_type": "stream",
     "text": [
      "\n"
     ]
    },
    {
     "name": "stdout",
     "output_type": "stream",
     "text": [
      "\n",
      "10 epochs completed in 0.521 hours.\n",
      "Optimizer stripped from runs/detect/bar_detector_yolov83/weights/last.pt, 52.0MB\n",
      "Optimizer stripped from runs/detect/bar_detector_yolov83/weights/best.pt, 52.0MB\n",
      "\n",
      "Validating runs/detect/bar_detector_yolov83/weights/best.pt...\n",
      "Ultralytics 8.3.141 🚀 Python-3.10.16 torch-2.7.0 MPS (Apple M2 Max)\n",
      "Model summary (fused): 92 layers, 25,840,339 parameters, 0 gradients, 78.7 GFLOPs\n"
     ]
    },
    {
     "name": "stderr",
     "output_type": "stream",
     "text": [
      "                 Class     Images  Instances      Box(P          R      mAP50  m\n"
     ]
    },
    {
     "name": "stdout",
     "output_type": "stream",
     "text": [
      "                   all        400        200        0.5          1      0.617      0.617\n",
      "Speed: 0.6ms preprocess, 14.4ms inference, 0.0ms loss, 12.2ms postprocess per image\n",
      "Results saved to \u001b[1mruns/detect/bar_detector_yolov83\u001b[0m\n"
     ]
    },
    {
     "data": {
      "text/plain": [
       "ultralytics.utils.metrics.DetMetrics object with attributes:\n",
       "\n",
       "ap_class_index: array([0])\n",
       "box: ultralytics.utils.metrics.Metric object\n",
       "confusion_matrix: <ultralytics.utils.metrics.ConfusionMatrix object at 0x32b48cdc0>\n",
       "curves: ['Precision-Recall(B)', 'F1-Confidence(B)', 'Precision-Confidence(B)', 'Recall-Confidence(B)']\n",
       "curves_results: [[array([          0,    0.001001,    0.002002,    0.003003,    0.004004,    0.005005,    0.006006,    0.007007,    0.008008,    0.009009,     0.01001,    0.011011,    0.012012,    0.013013,    0.014014,    0.015015,    0.016016,    0.017017,    0.018018,    0.019019,     0.02002,    0.021021,    0.022022,    0.023023,\n",
       "          0.024024,    0.025025,    0.026026,    0.027027,    0.028028,    0.029029,     0.03003,    0.031031,    0.032032,    0.033033,    0.034034,    0.035035,    0.036036,    0.037037,    0.038038,    0.039039,     0.04004,    0.041041,    0.042042,    0.043043,    0.044044,    0.045045,    0.046046,    0.047047,\n",
       "          0.048048,    0.049049,     0.05005,    0.051051,    0.052052,    0.053053,    0.054054,    0.055055,    0.056056,    0.057057,    0.058058,    0.059059,     0.06006,    0.061061,    0.062062,    0.063063,    0.064064,    0.065065,    0.066066,    0.067067,    0.068068,    0.069069,     0.07007,    0.071071,\n",
       "          0.072072,    0.073073,    0.074074,    0.075075,    0.076076,    0.077077,    0.078078,    0.079079,     0.08008,    0.081081,    0.082082,    0.083083,    0.084084,    0.085085,    0.086086,    0.087087,    0.088088,    0.089089,     0.09009,    0.091091,    0.092092,    0.093093,    0.094094,    0.095095,\n",
       "          0.096096,    0.097097,    0.098098,    0.099099,      0.1001,      0.1011,      0.1021,      0.1031,      0.1041,     0.10511,     0.10611,     0.10711,     0.10811,     0.10911,     0.11011,     0.11111,     0.11211,     0.11311,     0.11411,     0.11512,     0.11612,     0.11712,     0.11812,     0.11912,\n",
       "           0.12012,     0.12112,     0.12212,     0.12312,     0.12412,     0.12513,     0.12613,     0.12713,     0.12813,     0.12913,     0.13013,     0.13113,     0.13213,     0.13313,     0.13413,     0.13514,     0.13614,     0.13714,     0.13814,     0.13914,     0.14014,     0.14114,     0.14214,     0.14314,\n",
       "           0.14414,     0.14515,     0.14615,     0.14715,     0.14815,     0.14915,     0.15015,     0.15115,     0.15215,     0.15315,     0.15415,     0.15516,     0.15616,     0.15716,     0.15816,     0.15916,     0.16016,     0.16116,     0.16216,     0.16316,     0.16416,     0.16517,     0.16617,     0.16717,\n",
       "           0.16817,     0.16917,     0.17017,     0.17117,     0.17217,     0.17317,     0.17417,     0.17518,     0.17618,     0.17718,     0.17818,     0.17918,     0.18018,     0.18118,     0.18218,     0.18318,     0.18418,     0.18519,     0.18619,     0.18719,     0.18819,     0.18919,     0.19019,     0.19119,\n",
       "           0.19219,     0.19319,     0.19419,      0.1952,      0.1962,      0.1972,      0.1982,      0.1992,      0.2002,      0.2012,      0.2022,      0.2032,      0.2042,     0.20521,     0.20621,     0.20721,     0.20821,     0.20921,     0.21021,     0.21121,     0.21221,     0.21321,     0.21421,     0.21522,\n",
       "           0.21622,     0.21722,     0.21822,     0.21922,     0.22022,     0.22122,     0.22222,     0.22322,     0.22422,     0.22523,     0.22623,     0.22723,     0.22823,     0.22923,     0.23023,     0.23123,     0.23223,     0.23323,     0.23423,     0.23524,     0.23624,     0.23724,     0.23824,     0.23924,\n",
       "           0.24024,     0.24124,     0.24224,     0.24324,     0.24424,     0.24525,     0.24625,     0.24725,     0.24825,     0.24925,     0.25025,     0.25125,     0.25225,     0.25325,     0.25425,     0.25526,     0.25626,     0.25726,     0.25826,     0.25926,     0.26026,     0.26126,     0.26226,     0.26326,\n",
       "           0.26426,     0.26527,     0.26627,     0.26727,     0.26827,     0.26927,     0.27027,     0.27127,     0.27227,     0.27327,     0.27427,     0.27528,     0.27628,     0.27728,     0.27828,     0.27928,     0.28028,     0.28128,     0.28228,     0.28328,     0.28428,     0.28529,     0.28629,     0.28729,\n",
       "           0.28829,     0.28929,     0.29029,     0.29129,     0.29229,     0.29329,     0.29429,      0.2953,      0.2963,      0.2973,      0.2983,      0.2993,      0.3003,      0.3013,      0.3023,      0.3033,      0.3043,     0.30531,     0.30631,     0.30731,     0.30831,     0.30931,     0.31031,     0.31131,\n",
       "           0.31231,     0.31331,     0.31431,     0.31532,     0.31632,     0.31732,     0.31832,     0.31932,     0.32032,     0.32132,     0.32232,     0.32332,     0.32432,     0.32533,     0.32633,     0.32733,     0.32833,     0.32933,     0.33033,     0.33133,     0.33233,     0.33333,     0.33433,     0.33534,\n",
       "           0.33634,     0.33734,     0.33834,     0.33934,     0.34034,     0.34134,     0.34234,     0.34334,     0.34434,     0.34535,     0.34635,     0.34735,     0.34835,     0.34935,     0.35035,     0.35135,     0.35235,     0.35335,     0.35435,     0.35536,     0.35636,     0.35736,     0.35836,     0.35936,\n",
       "           0.36036,     0.36136,     0.36236,     0.36336,     0.36436,     0.36537,     0.36637,     0.36737,     0.36837,     0.36937,     0.37037,     0.37137,     0.37237,     0.37337,     0.37437,     0.37538,     0.37638,     0.37738,     0.37838,     0.37938,     0.38038,     0.38138,     0.38238,     0.38338,\n",
       "           0.38438,     0.38539,     0.38639,     0.38739,     0.38839,     0.38939,     0.39039,     0.39139,     0.39239,     0.39339,     0.39439,      0.3954,      0.3964,      0.3974,      0.3984,      0.3994,      0.4004,      0.4014,      0.4024,      0.4034,      0.4044,     0.40541,     0.40641,     0.40741,\n",
       "           0.40841,     0.40941,     0.41041,     0.41141,     0.41241,     0.41341,     0.41441,     0.41542,     0.41642,     0.41742,     0.41842,     0.41942,     0.42042,     0.42142,     0.42242,     0.42342,     0.42442,     0.42543,     0.42643,     0.42743,     0.42843,     0.42943,     0.43043,     0.43143,\n",
       "           0.43243,     0.43343,     0.43443,     0.43544,     0.43644,     0.43744,     0.43844,     0.43944,     0.44044,     0.44144,     0.44244,     0.44344,     0.44444,     0.44545,     0.44645,     0.44745,     0.44845,     0.44945,     0.45045,     0.45145,     0.45245,     0.45345,     0.45445,     0.45546,\n",
       "           0.45646,     0.45746,     0.45846,     0.45946,     0.46046,     0.46146,     0.46246,     0.46346,     0.46446,     0.46547,     0.46647,     0.46747,     0.46847,     0.46947,     0.47047,     0.47147,     0.47247,     0.47347,     0.47447,     0.47548,     0.47648,     0.47748,     0.47848,     0.47948,\n",
       "           0.48048,     0.48148,     0.48248,     0.48348,     0.48448,     0.48549,     0.48649,     0.48749,     0.48849,     0.48949,     0.49049,     0.49149,     0.49249,     0.49349,     0.49449,      0.4955,      0.4965,      0.4975,      0.4985,      0.4995,      0.5005,      0.5015,      0.5025,      0.5035,\n",
       "            0.5045,     0.50551,     0.50651,     0.50751,     0.50851,     0.50951,     0.51051,     0.51151,     0.51251,     0.51351,     0.51451,     0.51552,     0.51652,     0.51752,     0.51852,     0.51952,     0.52052,     0.52152,     0.52252,     0.52352,     0.52452,     0.52553,     0.52653,     0.52753,\n",
       "           0.52853,     0.52953,     0.53053,     0.53153,     0.53253,     0.53353,     0.53453,     0.53554,     0.53654,     0.53754,     0.53854,     0.53954,     0.54054,     0.54154,     0.54254,     0.54354,     0.54454,     0.54555,     0.54655,     0.54755,     0.54855,     0.54955,     0.55055,     0.55155,\n",
       "           0.55255,     0.55355,     0.55455,     0.55556,     0.55656,     0.55756,     0.55856,     0.55956,     0.56056,     0.56156,     0.56256,     0.56356,     0.56456,     0.56557,     0.56657,     0.56757,     0.56857,     0.56957,     0.57057,     0.57157,     0.57257,     0.57357,     0.57457,     0.57558,\n",
       "           0.57658,     0.57758,     0.57858,     0.57958,     0.58058,     0.58158,     0.58258,     0.58358,     0.58458,     0.58559,     0.58659,     0.58759,     0.58859,     0.58959,     0.59059,     0.59159,     0.59259,     0.59359,     0.59459,      0.5956,      0.5966,      0.5976,      0.5986,      0.5996,\n",
       "            0.6006,      0.6016,      0.6026,      0.6036,      0.6046,     0.60561,     0.60661,     0.60761,     0.60861,     0.60961,     0.61061,     0.61161,     0.61261,     0.61361,     0.61461,     0.61562,     0.61662,     0.61762,     0.61862,     0.61962,     0.62062,     0.62162,     0.62262,     0.62362,\n",
       "           0.62462,     0.62563,     0.62663,     0.62763,     0.62863,     0.62963,     0.63063,     0.63163,     0.63263,     0.63363,     0.63463,     0.63564,     0.63664,     0.63764,     0.63864,     0.63964,     0.64064,     0.64164,     0.64264,     0.64364,     0.64464,     0.64565,     0.64665,     0.64765,\n",
       "           0.64865,     0.64965,     0.65065,     0.65165,     0.65265,     0.65365,     0.65465,     0.65566,     0.65666,     0.65766,     0.65866,     0.65966,     0.66066,     0.66166,     0.66266,     0.66366,     0.66466,     0.66567,     0.66667,     0.66767,     0.66867,     0.66967,     0.67067,     0.67167,\n",
       "           0.67267,     0.67367,     0.67467,     0.67568,     0.67668,     0.67768,     0.67868,     0.67968,     0.68068,     0.68168,     0.68268,     0.68368,     0.68468,     0.68569,     0.68669,     0.68769,     0.68869,     0.68969,     0.69069,     0.69169,     0.69269,     0.69369,     0.69469,      0.6957,\n",
       "            0.6967,      0.6977,      0.6987,      0.6997,      0.7007,      0.7017,      0.7027,      0.7037,      0.7047,     0.70571,     0.70671,     0.70771,     0.70871,     0.70971,     0.71071,     0.71171,     0.71271,     0.71371,     0.71471,     0.71572,     0.71672,     0.71772,     0.71872,     0.71972,\n",
       "           0.72072,     0.72172,     0.72272,     0.72372,     0.72472,     0.72573,     0.72673,     0.72773,     0.72873,     0.72973,     0.73073,     0.73173,     0.73273,     0.73373,     0.73473,     0.73574,     0.73674,     0.73774,     0.73874,     0.73974,     0.74074,     0.74174,     0.74274,     0.74374,\n",
       "           0.74474,     0.74575,     0.74675,     0.74775,     0.74875,     0.74975,     0.75075,     0.75175,     0.75275,     0.75375,     0.75475,     0.75576,     0.75676,     0.75776,     0.75876,     0.75976,     0.76076,     0.76176,     0.76276,     0.76376,     0.76476,     0.76577,     0.76677,     0.76777,\n",
       "           0.76877,     0.76977,     0.77077,     0.77177,     0.77277,     0.77377,     0.77477,     0.77578,     0.77678,     0.77778,     0.77878,     0.77978,     0.78078,     0.78178,     0.78278,     0.78378,     0.78478,     0.78579,     0.78679,     0.78779,     0.78879,     0.78979,     0.79079,     0.79179,\n",
       "           0.79279,     0.79379,     0.79479,      0.7958,      0.7968,      0.7978,      0.7988,      0.7998,      0.8008,      0.8018,      0.8028,      0.8038,      0.8048,     0.80581,     0.80681,     0.80781,     0.80881,     0.80981,     0.81081,     0.81181,     0.81281,     0.81381,     0.81481,     0.81582,\n",
       "           0.81682,     0.81782,     0.81882,     0.81982,     0.82082,     0.82182,     0.82282,     0.82382,     0.82482,     0.82583,     0.82683,     0.82783,     0.82883,     0.82983,     0.83083,     0.83183,     0.83283,     0.83383,     0.83483,     0.83584,     0.83684,     0.83784,     0.83884,     0.83984,\n",
       "           0.84084,     0.84184,     0.84284,     0.84384,     0.84484,     0.84585,     0.84685,     0.84785,     0.84885,     0.84985,     0.85085,     0.85185,     0.85285,     0.85385,     0.85485,     0.85586,     0.85686,     0.85786,     0.85886,     0.85986,     0.86086,     0.86186,     0.86286,     0.86386,\n",
       "           0.86486,     0.86587,     0.86687,     0.86787,     0.86887,     0.86987,     0.87087,     0.87187,     0.87287,     0.87387,     0.87487,     0.87588,     0.87688,     0.87788,     0.87888,     0.87988,     0.88088,     0.88188,     0.88288,     0.88388,     0.88488,     0.88589,     0.88689,     0.88789,\n",
       "           0.88889,     0.88989,     0.89089,     0.89189,     0.89289,     0.89389,     0.89489,      0.8959,      0.8969,      0.8979,      0.8989,      0.8999,      0.9009,      0.9019,      0.9029,      0.9039,      0.9049,     0.90591,     0.90691,     0.90791,     0.90891,     0.90991,     0.91091,     0.91191,\n",
       "           0.91291,     0.91391,     0.91491,     0.91592,     0.91692,     0.91792,     0.91892,     0.91992,     0.92092,     0.92192,     0.92292,     0.92392,     0.92492,     0.92593,     0.92693,     0.92793,     0.92893,     0.92993,     0.93093,     0.93193,     0.93293,     0.93393,     0.93493,     0.93594,\n",
       "           0.93694,     0.93794,     0.93894,     0.93994,     0.94094,     0.94194,     0.94294,     0.94394,     0.94494,     0.94595,     0.94695,     0.94795,     0.94895,     0.94995,     0.95095,     0.95195,     0.95295,     0.95395,     0.95495,     0.95596,     0.95696,     0.95796,     0.95896,     0.95996,\n",
       "           0.96096,     0.96196,     0.96296,     0.96396,     0.96496,     0.96597,     0.96697,     0.96797,     0.96897,     0.96997,     0.97097,     0.97197,     0.97297,     0.97397,     0.97497,     0.97598,     0.97698,     0.97798,     0.97898,     0.97998,     0.98098,     0.98198,     0.98298,     0.98398,\n",
       "           0.98498,     0.98599,     0.98699,     0.98799,     0.98899,     0.98999,     0.99099,     0.99199,     0.99299,     0.99399,     0.99499,       0.996,       0.997,       0.998,       0.999,           1]), array([[    0.78261,     0.78261,     0.78261,     0.78261,     0.78261,     0.78261,     0.78261,     0.78261,     0.78261,     0.78261,     0.78261,     0.78261,     0.78261,     0.78261,     0.78261,     0.78261,     0.78261,     0.78261,     0.78261,     0.78261,     0.78261,     0.78261,     0.78261,\n",
       "            0.78261,     0.78261,     0.78261,     0.78261,     0.78261,     0.78261,     0.78261,     0.78261,     0.78261,     0.78261,     0.78261,     0.78261,     0.78261,     0.78261,     0.78261,     0.78261,     0.78261,     0.78261,     0.78261,     0.78261,     0.78261,     0.78261,     0.78261,\n",
       "            0.78261,     0.78261,     0.78261,     0.78261,     0.78261,     0.78261,     0.78261,     0.78261,     0.78261,     0.78261,     0.78261,     0.78261,     0.78261,     0.78261,     0.78261,     0.78261,     0.78261,     0.78261,     0.78261,     0.78261,     0.78261,     0.78261,     0.78261,\n",
       "            0.78261,     0.78261,     0.78261,     0.78261,     0.78261,     0.78261,     0.78261,     0.78261,     0.78261,     0.78261,     0.78261,     0.78261,     0.78261,     0.78261,     0.78261,     0.78261,     0.78261,     0.78261,     0.78261,     0.78261,     0.78261,     0.74194,     0.74194,\n",
       "            0.74194,     0.74194,     0.74194,     0.74194,     0.74194,     0.74194,     0.74194,     0.74194,     0.74194,     0.74194,     0.74194,     0.74194,     0.74194,     0.74194,     0.74194,     0.74194,     0.74194,     0.74194,     0.74194,     0.74194,     0.74194,     0.74194,     0.74194,\n",
       "            0.72727,     0.72727,     0.72727,     0.72727,     0.72727,     0.72222,     0.72222,     0.72222,     0.72222,     0.72222,     0.72222,     0.72222,     0.72222,     0.72222,     0.72222,     0.69444,     0.69444,     0.69444,     0.69444,     0.69444,     0.69444,     0.69444,     0.69444,\n",
       "            0.69444,     0.69444,     0.69444,     0.69444,     0.69444,     0.69444,     0.69444,     0.69444,     0.69444,     0.69444,     0.69444,     0.69444,     0.69444,     0.69444,     0.69444,     0.69444,     0.69444,     0.69444,     0.69444,     0.69444,     0.69444,     0.69444,     0.69444,\n",
       "            0.69444,     0.69444,     0.69444,     0.69444,     0.69444,     0.69444,     0.69444,     0.69444,     0.69444,     0.69444,     0.69444,     0.69444,     0.69444,     0.69444,     0.69444,     0.69444,     0.69444,     0.69444,     0.69444,     0.69444,     0.69444,     0.69444,     0.69444,\n",
       "            0.69444,     0.69444,     0.69444,     0.69444,     0.69444,     0.69444,     0.69444,     0.69444,     0.69444,     0.69444,     0.69444,     0.69444,     0.69444,     0.69444,     0.69444,     0.69444,     0.69444,     0.69444,     0.69444,     0.69444,     0.69444,     0.69444,     0.69444,\n",
       "            0.69444,     0.69444,     0.69444,     0.69444,     0.69444,     0.69444,     0.69444,     0.69444,     0.69444,     0.69444,     0.69444,     0.69444,     0.69444,     0.69444,     0.69444,     0.69444,     0.69444,     0.69444,     0.69444,     0.69444,     0.69444,     0.69444,     0.69444,\n",
       "            0.69444,     0.69444,     0.69444,     0.69444,     0.69444,     0.69444,     0.69444,     0.69444,     0.69444,     0.69444,     0.69444,     0.69444,     0.69444,     0.69444,     0.69444,     0.69444,     0.69444,     0.69444,     0.69444,     0.69444,     0.68831,     0.68831,     0.68831,\n",
       "            0.68831,     0.68831,     0.68831,     0.68831,     0.68831,     0.68831,     0.68831,     0.68831,     0.68831,     0.68831,     0.68831,     0.68831,     0.67901,     0.67901,     0.67901,     0.67901,     0.67901,     0.67901,     0.67901,     0.67901,     0.67901,     0.67901,     0.65909,\n",
       "            0.65909,     0.65909,     0.65909,     0.65909,     0.65909,     0.65909,     0.65909,     0.65909,     0.65909,     0.65909,     0.65909,     0.65909,     0.65909,     0.65909,     0.65217,     0.65217,     0.65217,     0.65217,     0.65217,     0.65217,     0.65217,     0.65217,     0.65217,\n",
       "            0.65217,     0.64211,     0.64211,     0.64211,     0.64211,     0.64211,     0.63918,     0.63918,     0.63918,     0.63918,     0.63918,     0.63889,     0.63889,     0.63889,     0.63889,     0.63889,     0.63889,     0.63889,     0.63889,     0.63889,     0.63889,     0.63889,     0.63889,\n",
       "            0.63889,     0.63889,     0.63889,     0.63889,     0.63889,     0.63889,     0.63889,     0.63889,     0.63889,     0.63889,     0.63889,     0.63889,     0.63889,     0.63889,     0.63889,     0.63889,     0.63889,     0.63889,     0.63889,     0.63889,     0.63889,     0.63889,     0.63889,\n",
       "            0.63492,     0.63492,     0.63492,     0.63492,     0.63492,     0.63492,     0.63492,     0.63492,     0.63492,     0.63492,     0.63492,     0.63492,     0.63492,     0.63492,     0.63492,     0.63492,     0.63492,     0.63492,     0.63492,     0.63492,     0.63492,     0.63492,     0.63492,\n",
       "            0.63492,     0.63492,     0.63492,     0.63492,     0.63492,     0.63492,     0.63492,     0.63492,     0.63492,     0.63492,     0.63492,     0.63492,     0.63492,     0.63492,     0.63492,     0.63492,     0.63492,     0.63492,     0.63492,     0.63492,     0.63492,     0.63492,     0.63492,\n",
       "            0.63492,     0.63492,     0.63492,     0.63492,     0.63492,     0.63492,     0.63492,     0.63492,     0.63492,     0.63281,     0.63281,     0.63281,     0.63281,     0.63281,     0.62857,     0.62857,     0.62857,     0.62857,     0.62857,     0.62857,     0.62857,     0.62857,     0.62857,\n",
       "            0.62857,     0.62857,     0.62857,     0.62857,     0.62857,     0.62857,     0.62857,     0.62857,     0.62857,     0.62857,     0.62857,     0.62857,     0.62857,     0.62857,     0.62857,     0.62857,     0.62857,     0.62857,     0.62857,     0.62857,     0.62857,     0.62857,     0.62857,\n",
       "            0.62857,     0.62857,     0.62857,     0.61745,     0.61745,     0.61745,     0.61745,     0.61745,     0.61745,     0.61745,     0.61745,     0.61745,     0.61745,     0.61745,     0.61745,     0.61745,     0.61745,     0.61745,     0.61745,     0.61745,     0.61745,     0.61745,     0.61745,\n",
       "            0.60714,     0.60714,     0.60714,     0.60714,     0.60714,     0.60714,     0.60714,     0.60714,     0.60714,     0.60714,     0.60714,     0.60714,     0.60714,     0.60714,     0.60714,     0.60714,     0.60714,     0.60714,     0.60714,     0.60714,     0.60714,     0.60714,     0.60714,\n",
       "            0.60714,     0.60714,     0.60714,     0.60714,     0.60714,     0.60714,     0.60714,     0.60714,     0.60714,     0.60714,     0.60714,     0.60714,     0.60714,     0.60714,     0.60714,     0.60714,     0.60714,     0.60714,     0.60714,     0.60714,     0.60714,     0.60714,     0.60714,\n",
       "            0.60714,     0.60714,     0.60714,     0.60714,     0.59551,     0.59551,     0.59551,     0.59551,     0.59551,     0.59551,     0.59551,     0.59551,     0.59551,     0.59551,     0.59551,     0.59551,     0.59551,     0.59551,     0.59551,     0.59551,     0.59551,     0.59551,     0.59551,\n",
       "            0.59551,     0.59314,     0.59314,     0.59314,     0.59314,     0.59314,     0.59314,     0.59314,     0.59314,     0.59314,     0.59314,     0.59314,     0.59314,     0.59314,     0.59314,     0.59314,     0.59314,     0.59314,     0.59314,     0.59314,     0.59314,     0.59314,     0.59314,\n",
       "            0.59314,     0.59314,     0.59314,     0.59314,     0.59314,     0.59314,     0.59314,     0.59314,     0.59314,     0.59314,     0.59314,     0.59314,     0.59314,     0.59314,     0.59314,     0.59314,     0.59314,     0.59314,     0.59314,     0.59314,     0.59314,     0.59314,     0.59314,\n",
       "            0.59314,     0.59314,     0.59314,     0.59314,     0.59314,     0.59314,     0.59314,     0.59314,     0.59314,     0.59314,     0.59314,     0.59314,     0.59314,     0.59314,     0.59314,     0.59314,     0.59314,     0.59314,     0.59314,     0.59314,     0.59314,     0.59314,     0.59314,\n",
       "            0.59314,     0.59314,     0.59314,     0.59314,     0.59314,     0.59314,     0.59314,     0.58654,     0.58654,     0.58654,     0.58654,     0.58654,     0.58065,     0.58065,     0.58065,     0.58065,     0.58065,     0.58065,     0.58065,     0.58065,     0.58065,     0.58065,     0.58065,\n",
       "            0.58065,     0.58065,     0.58065,     0.58065,     0.58065,     0.58065,     0.58065,     0.58065,     0.58065,     0.57919,     0.57919,     0.57919,     0.57919,     0.57919,     0.57919,     0.57919,     0.57919,     0.57919,     0.57919,     0.57778,     0.57778,     0.57778,     0.57778,\n",
       "            0.57778,     0.57778,     0.57778,     0.57778,     0.57778,     0.57778,     0.57456,     0.57456,     0.57456,     0.57456,     0.57456,     0.57317,     0.57317,     0.57317,     0.57317,     0.57317,     0.57317,     0.57317,     0.57317,     0.57317,     0.57317,     0.57317,     0.57317,\n",
       "            0.57317,     0.57317,     0.57317,     0.57317,     0.57317,     0.57317,     0.57317,     0.57317,     0.57317,     0.57317,     0.57317,     0.57317,     0.57317,     0.57317,     0.57317,     0.57317,     0.57317,     0.57317,     0.57317,     0.57317,     0.57317,     0.57317,     0.57317,\n",
       "            0.57317,     0.57317,     0.57317,     0.57317,     0.57317,     0.57317,     0.57317,     0.57317,     0.57317,     0.57317,     0.57317,     0.57317,     0.57317,     0.57317,     0.57317,     0.57258,     0.57258,     0.57258,     0.57258,     0.57258,       0.572,       0.572,       0.572,\n",
       "              0.572,       0.572,     0.57143,     0.57143,     0.57143,     0.57143,     0.57143,     0.56667,     0.56667,     0.56667,     0.56667,     0.56667,     0.56667,     0.56667,     0.56667,     0.56667,     0.56667,     0.56667,     0.56667,     0.56667,     0.56667,     0.56667,     0.56667,\n",
       "            0.56667,     0.56667,     0.56667,     0.56667,     0.56667,     0.56667,     0.56667,     0.56667,     0.56667,     0.56667,     0.56667,     0.56667,     0.56667,     0.56667,     0.56667,     0.56667,     0.56667,     0.56667,     0.56667,     0.56667,     0.56667,     0.56667,     0.56667,\n",
       "            0.56667,     0.56667,     0.56667,     0.56667,     0.56667,     0.56667,      0.5641,      0.5641,      0.5641,      0.5641,      0.5641,     0.56364,     0.56364,     0.56364,     0.56364,     0.56364,     0.56272,     0.56272,     0.56272,     0.56272,     0.56272,     0.56272,     0.56272,\n",
       "            0.56272,     0.56272,     0.56272,     0.56228,     0.56228,     0.56228,     0.56228,     0.56228,     0.55789,     0.55789,     0.55789,     0.55789,     0.55789,     0.55782,     0.55782,     0.55782,     0.55782,     0.55782,     0.55782,     0.55782,     0.55782,     0.55782,     0.55782,\n",
       "            0.55782,     0.55782,     0.55782,     0.55782,     0.55782,     0.55782,     0.55782,     0.55782,     0.55782,     0.55782,     0.55782,     0.55782,     0.55782,     0.55782,     0.55782,     0.55184,     0.55184,     0.55184,     0.55184,     0.55184,     0.54232,     0.54232,     0.54232,\n",
       "            0.54232,     0.54232,     0.54232,     0.54232,     0.54232,     0.54232,     0.54232,     0.54232,     0.54232,     0.54232,     0.54232,     0.54232,     0.54232,     0.54232,     0.54232,     0.54232,     0.54232,     0.54232,     0.54232,     0.54232,     0.54232,     0.54232,     0.54232,\n",
       "            0.54232,     0.54232,     0.54232,     0.54232,     0.54232,     0.54232,     0.54232,     0.54232,     0.54232,     0.54232,     0.54232,     0.54232,     0.54232,     0.54232,     0.53517,     0.53517,     0.53517,     0.53517,     0.53517,     0.53517,     0.53517,     0.53517,     0.53517,\n",
       "            0.53517,     0.53172,     0.53172,     0.53172,     0.53172,     0.53172,     0.52802,     0.52802,     0.52802,     0.52802,     0.52802,     0.52802,     0.52802,     0.52802,     0.52802,     0.52802,     0.52802,     0.52802,     0.52802,     0.52802,     0.52802,     0.52478,     0.52478,\n",
       "            0.52478,     0.52478,     0.52478,     0.51714,     0.51714,     0.51714,     0.51714,     0.51714,     0.51705,     0.51705,     0.51705,     0.51705,     0.51705,     0.51549,     0.51549,     0.51549,     0.51549,     0.51549,     0.51541,     0.51541,     0.51541,     0.51541,     0.51541,\n",
       "            0.51532,     0.51532,     0.51532,     0.51532,     0.51532,     0.51524,     0.51524,     0.51524,     0.51524,     0.51524,     0.51374,     0.51374,     0.51374,     0.51374,     0.51374,     0.51226,     0.51226,     0.51226,     0.51226,     0.51226,         0.5,         0.5,         0.5,\n",
       "                0.5,         0.5,         0.5,         0.5,         0.5,         0.5,         0.5,         0.5,         0.5,         0.5,         0.5,         0.5,         0.5,         0.5,         0.5,         0.5,         0.5,         0.5,         0.5,         0.5,         0.5,         0.5,         0.5,\n",
       "                0.5,         0.5,         0.5,         0.5,         0.5,         0.5,         0.5,         0.5,         0.5,         0.5,         0.5,         0.5,         0.5,         0.5,         0.5,         0.5,         0.5,         0.5,         0.5,         0.5,         0.5,         0.5,         0.5,\n",
       "                0.5,         0.5,         0.5,         0.5,         0.5,         0.5,         0.5,         0.5,         0.5,         0.5,           0]]), 'Recall', 'Precision'], [array([          0,    0.001001,    0.002002,    0.003003,    0.004004,    0.005005,    0.006006,    0.007007,    0.008008,    0.009009,     0.01001,    0.011011,    0.012012,    0.013013,    0.014014,    0.015015,    0.016016,    0.017017,    0.018018,    0.019019,     0.02002,    0.021021,    0.022022,    0.023023,\n",
       "          0.024024,    0.025025,    0.026026,    0.027027,    0.028028,    0.029029,     0.03003,    0.031031,    0.032032,    0.033033,    0.034034,    0.035035,    0.036036,    0.037037,    0.038038,    0.039039,     0.04004,    0.041041,    0.042042,    0.043043,    0.044044,    0.045045,    0.046046,    0.047047,\n",
       "          0.048048,    0.049049,     0.05005,    0.051051,    0.052052,    0.053053,    0.054054,    0.055055,    0.056056,    0.057057,    0.058058,    0.059059,     0.06006,    0.061061,    0.062062,    0.063063,    0.064064,    0.065065,    0.066066,    0.067067,    0.068068,    0.069069,     0.07007,    0.071071,\n",
       "          0.072072,    0.073073,    0.074074,    0.075075,    0.076076,    0.077077,    0.078078,    0.079079,     0.08008,    0.081081,    0.082082,    0.083083,    0.084084,    0.085085,    0.086086,    0.087087,    0.088088,    0.089089,     0.09009,    0.091091,    0.092092,    0.093093,    0.094094,    0.095095,\n",
       "          0.096096,    0.097097,    0.098098,    0.099099,      0.1001,      0.1011,      0.1021,      0.1031,      0.1041,     0.10511,     0.10611,     0.10711,     0.10811,     0.10911,     0.11011,     0.11111,     0.11211,     0.11311,     0.11411,     0.11512,     0.11612,     0.11712,     0.11812,     0.11912,\n",
       "           0.12012,     0.12112,     0.12212,     0.12312,     0.12412,     0.12513,     0.12613,     0.12713,     0.12813,     0.12913,     0.13013,     0.13113,     0.13213,     0.13313,     0.13413,     0.13514,     0.13614,     0.13714,     0.13814,     0.13914,     0.14014,     0.14114,     0.14214,     0.14314,\n",
       "           0.14414,     0.14515,     0.14615,     0.14715,     0.14815,     0.14915,     0.15015,     0.15115,     0.15215,     0.15315,     0.15415,     0.15516,     0.15616,     0.15716,     0.15816,     0.15916,     0.16016,     0.16116,     0.16216,     0.16316,     0.16416,     0.16517,     0.16617,     0.16717,\n",
       "           0.16817,     0.16917,     0.17017,     0.17117,     0.17217,     0.17317,     0.17417,     0.17518,     0.17618,     0.17718,     0.17818,     0.17918,     0.18018,     0.18118,     0.18218,     0.18318,     0.18418,     0.18519,     0.18619,     0.18719,     0.18819,     0.18919,     0.19019,     0.19119,\n",
       "           0.19219,     0.19319,     0.19419,      0.1952,      0.1962,      0.1972,      0.1982,      0.1992,      0.2002,      0.2012,      0.2022,      0.2032,      0.2042,     0.20521,     0.20621,     0.20721,     0.20821,     0.20921,     0.21021,     0.21121,     0.21221,     0.21321,     0.21421,     0.21522,\n",
       "           0.21622,     0.21722,     0.21822,     0.21922,     0.22022,     0.22122,     0.22222,     0.22322,     0.22422,     0.22523,     0.22623,     0.22723,     0.22823,     0.22923,     0.23023,     0.23123,     0.23223,     0.23323,     0.23423,     0.23524,     0.23624,     0.23724,     0.23824,     0.23924,\n",
       "           0.24024,     0.24124,     0.24224,     0.24324,     0.24424,     0.24525,     0.24625,     0.24725,     0.24825,     0.24925,     0.25025,     0.25125,     0.25225,     0.25325,     0.25425,     0.25526,     0.25626,     0.25726,     0.25826,     0.25926,     0.26026,     0.26126,     0.26226,     0.26326,\n",
       "           0.26426,     0.26527,     0.26627,     0.26727,     0.26827,     0.26927,     0.27027,     0.27127,     0.27227,     0.27327,     0.27427,     0.27528,     0.27628,     0.27728,     0.27828,     0.27928,     0.28028,     0.28128,     0.28228,     0.28328,     0.28428,     0.28529,     0.28629,     0.28729,\n",
       "           0.28829,     0.28929,     0.29029,     0.29129,     0.29229,     0.29329,     0.29429,      0.2953,      0.2963,      0.2973,      0.2983,      0.2993,      0.3003,      0.3013,      0.3023,      0.3033,      0.3043,     0.30531,     0.30631,     0.30731,     0.30831,     0.30931,     0.31031,     0.31131,\n",
       "           0.31231,     0.31331,     0.31431,     0.31532,     0.31632,     0.31732,     0.31832,     0.31932,     0.32032,     0.32132,     0.32232,     0.32332,     0.32432,     0.32533,     0.32633,     0.32733,     0.32833,     0.32933,     0.33033,     0.33133,     0.33233,     0.33333,     0.33433,     0.33534,\n",
       "           0.33634,     0.33734,     0.33834,     0.33934,     0.34034,     0.34134,     0.34234,     0.34334,     0.34434,     0.34535,     0.34635,     0.34735,     0.34835,     0.34935,     0.35035,     0.35135,     0.35235,     0.35335,     0.35435,     0.35536,     0.35636,     0.35736,     0.35836,     0.35936,\n",
       "           0.36036,     0.36136,     0.36236,     0.36336,     0.36436,     0.36537,     0.36637,     0.36737,     0.36837,     0.36937,     0.37037,     0.37137,     0.37237,     0.37337,     0.37437,     0.37538,     0.37638,     0.37738,     0.37838,     0.37938,     0.38038,     0.38138,     0.38238,     0.38338,\n",
       "           0.38438,     0.38539,     0.38639,     0.38739,     0.38839,     0.38939,     0.39039,     0.39139,     0.39239,     0.39339,     0.39439,      0.3954,      0.3964,      0.3974,      0.3984,      0.3994,      0.4004,      0.4014,      0.4024,      0.4034,      0.4044,     0.40541,     0.40641,     0.40741,\n",
       "           0.40841,     0.40941,     0.41041,     0.41141,     0.41241,     0.41341,     0.41441,     0.41542,     0.41642,     0.41742,     0.41842,     0.41942,     0.42042,     0.42142,     0.42242,     0.42342,     0.42442,     0.42543,     0.42643,     0.42743,     0.42843,     0.42943,     0.43043,     0.43143,\n",
       "           0.43243,     0.43343,     0.43443,     0.43544,     0.43644,     0.43744,     0.43844,     0.43944,     0.44044,     0.44144,     0.44244,     0.44344,     0.44444,     0.44545,     0.44645,     0.44745,     0.44845,     0.44945,     0.45045,     0.45145,     0.45245,     0.45345,     0.45445,     0.45546,\n",
       "           0.45646,     0.45746,     0.45846,     0.45946,     0.46046,     0.46146,     0.46246,     0.46346,     0.46446,     0.46547,     0.46647,     0.46747,     0.46847,     0.46947,     0.47047,     0.47147,     0.47247,     0.47347,     0.47447,     0.47548,     0.47648,     0.47748,     0.47848,     0.47948,\n",
       "           0.48048,     0.48148,     0.48248,     0.48348,     0.48448,     0.48549,     0.48649,     0.48749,     0.48849,     0.48949,     0.49049,     0.49149,     0.49249,     0.49349,     0.49449,      0.4955,      0.4965,      0.4975,      0.4985,      0.4995,      0.5005,      0.5015,      0.5025,      0.5035,\n",
       "            0.5045,     0.50551,     0.50651,     0.50751,     0.50851,     0.50951,     0.51051,     0.51151,     0.51251,     0.51351,     0.51451,     0.51552,     0.51652,     0.51752,     0.51852,     0.51952,     0.52052,     0.52152,     0.52252,     0.52352,     0.52452,     0.52553,     0.52653,     0.52753,\n",
       "           0.52853,     0.52953,     0.53053,     0.53153,     0.53253,     0.53353,     0.53453,     0.53554,     0.53654,     0.53754,     0.53854,     0.53954,     0.54054,     0.54154,     0.54254,     0.54354,     0.54454,     0.54555,     0.54655,     0.54755,     0.54855,     0.54955,     0.55055,     0.55155,\n",
       "           0.55255,     0.55355,     0.55455,     0.55556,     0.55656,     0.55756,     0.55856,     0.55956,     0.56056,     0.56156,     0.56256,     0.56356,     0.56456,     0.56557,     0.56657,     0.56757,     0.56857,     0.56957,     0.57057,     0.57157,     0.57257,     0.57357,     0.57457,     0.57558,\n",
       "           0.57658,     0.57758,     0.57858,     0.57958,     0.58058,     0.58158,     0.58258,     0.58358,     0.58458,     0.58559,     0.58659,     0.58759,     0.58859,     0.58959,     0.59059,     0.59159,     0.59259,     0.59359,     0.59459,      0.5956,      0.5966,      0.5976,      0.5986,      0.5996,\n",
       "            0.6006,      0.6016,      0.6026,      0.6036,      0.6046,     0.60561,     0.60661,     0.60761,     0.60861,     0.60961,     0.61061,     0.61161,     0.61261,     0.61361,     0.61461,     0.61562,     0.61662,     0.61762,     0.61862,     0.61962,     0.62062,     0.62162,     0.62262,     0.62362,\n",
       "           0.62462,     0.62563,     0.62663,     0.62763,     0.62863,     0.62963,     0.63063,     0.63163,     0.63263,     0.63363,     0.63463,     0.63564,     0.63664,     0.63764,     0.63864,     0.63964,     0.64064,     0.64164,     0.64264,     0.64364,     0.64464,     0.64565,     0.64665,     0.64765,\n",
       "           0.64865,     0.64965,     0.65065,     0.65165,     0.65265,     0.65365,     0.65465,     0.65566,     0.65666,     0.65766,     0.65866,     0.65966,     0.66066,     0.66166,     0.66266,     0.66366,     0.66466,     0.66567,     0.66667,     0.66767,     0.66867,     0.66967,     0.67067,     0.67167,\n",
       "           0.67267,     0.67367,     0.67467,     0.67568,     0.67668,     0.67768,     0.67868,     0.67968,     0.68068,     0.68168,     0.68268,     0.68368,     0.68468,     0.68569,     0.68669,     0.68769,     0.68869,     0.68969,     0.69069,     0.69169,     0.69269,     0.69369,     0.69469,      0.6957,\n",
       "            0.6967,      0.6977,      0.6987,      0.6997,      0.7007,      0.7017,      0.7027,      0.7037,      0.7047,     0.70571,     0.70671,     0.70771,     0.70871,     0.70971,     0.71071,     0.71171,     0.71271,     0.71371,     0.71471,     0.71572,     0.71672,     0.71772,     0.71872,     0.71972,\n",
       "           0.72072,     0.72172,     0.72272,     0.72372,     0.72472,     0.72573,     0.72673,     0.72773,     0.72873,     0.72973,     0.73073,     0.73173,     0.73273,     0.73373,     0.73473,     0.73574,     0.73674,     0.73774,     0.73874,     0.73974,     0.74074,     0.74174,     0.74274,     0.74374,\n",
       "           0.74474,     0.74575,     0.74675,     0.74775,     0.74875,     0.74975,     0.75075,     0.75175,     0.75275,     0.75375,     0.75475,     0.75576,     0.75676,     0.75776,     0.75876,     0.75976,     0.76076,     0.76176,     0.76276,     0.76376,     0.76476,     0.76577,     0.76677,     0.76777,\n",
       "           0.76877,     0.76977,     0.77077,     0.77177,     0.77277,     0.77377,     0.77477,     0.77578,     0.77678,     0.77778,     0.77878,     0.77978,     0.78078,     0.78178,     0.78278,     0.78378,     0.78478,     0.78579,     0.78679,     0.78779,     0.78879,     0.78979,     0.79079,     0.79179,\n",
       "           0.79279,     0.79379,     0.79479,      0.7958,      0.7968,      0.7978,      0.7988,      0.7998,      0.8008,      0.8018,      0.8028,      0.8038,      0.8048,     0.80581,     0.80681,     0.80781,     0.80881,     0.80981,     0.81081,     0.81181,     0.81281,     0.81381,     0.81481,     0.81582,\n",
       "           0.81682,     0.81782,     0.81882,     0.81982,     0.82082,     0.82182,     0.82282,     0.82382,     0.82482,     0.82583,     0.82683,     0.82783,     0.82883,     0.82983,     0.83083,     0.83183,     0.83283,     0.83383,     0.83483,     0.83584,     0.83684,     0.83784,     0.83884,     0.83984,\n",
       "           0.84084,     0.84184,     0.84284,     0.84384,     0.84484,     0.84585,     0.84685,     0.84785,     0.84885,     0.84985,     0.85085,     0.85185,     0.85285,     0.85385,     0.85485,     0.85586,     0.85686,     0.85786,     0.85886,     0.85986,     0.86086,     0.86186,     0.86286,     0.86386,\n",
       "           0.86486,     0.86587,     0.86687,     0.86787,     0.86887,     0.86987,     0.87087,     0.87187,     0.87287,     0.87387,     0.87487,     0.87588,     0.87688,     0.87788,     0.87888,     0.87988,     0.88088,     0.88188,     0.88288,     0.88388,     0.88488,     0.88589,     0.88689,     0.88789,\n",
       "           0.88889,     0.88989,     0.89089,     0.89189,     0.89289,     0.89389,     0.89489,      0.8959,      0.8969,      0.8979,      0.8989,      0.8999,      0.9009,      0.9019,      0.9029,      0.9039,      0.9049,     0.90591,     0.90691,     0.90791,     0.90891,     0.90991,     0.91091,     0.91191,\n",
       "           0.91291,     0.91391,     0.91491,     0.91592,     0.91692,     0.91792,     0.91892,     0.91992,     0.92092,     0.92192,     0.92292,     0.92392,     0.92492,     0.92593,     0.92693,     0.92793,     0.92893,     0.92993,     0.93093,     0.93193,     0.93293,     0.93393,     0.93493,     0.93594,\n",
       "           0.93694,     0.93794,     0.93894,     0.93994,     0.94094,     0.94194,     0.94294,     0.94394,     0.94494,     0.94595,     0.94695,     0.94795,     0.94895,     0.94995,     0.95095,     0.95195,     0.95295,     0.95395,     0.95495,     0.95596,     0.95696,     0.95796,     0.95896,     0.95996,\n",
       "           0.96096,     0.96196,     0.96296,     0.96396,     0.96496,     0.96597,     0.96697,     0.96797,     0.96897,     0.96997,     0.97097,     0.97197,     0.97297,     0.97397,     0.97497,     0.97598,     0.97698,     0.97798,     0.97898,     0.97998,     0.98098,     0.98198,     0.98298,     0.98398,\n",
       "           0.98498,     0.98599,     0.98699,     0.98799,     0.98899,     0.98999,     0.99099,     0.99199,     0.99299,     0.99399,     0.99499,       0.996,       0.997,       0.998,       0.999,           1]), array([[    0.23571,     0.23577,      0.3621,     0.45139,     0.46463,     0.47341,     0.47697,      0.4845,     0.49023,     0.49573,     0.50383,     0.50732,     0.51262,     0.52118,     0.52596,     0.53045,      0.5393,     0.54394,     0.54722,     0.54916,      0.5541,     0.55864,     0.56334,\n",
       "            0.57163,     0.57426,     0.57616,     0.57994,     0.58314,     0.58604,     0.59101,     0.59397,     0.59913,     0.60227,     0.60573,     0.61103,     0.61605,     0.62099,     0.62482,      0.6282,     0.63275,     0.64015,     0.64554,     0.65062,      0.6527,     0.65618,     0.66141,\n",
       "            0.66412,     0.66556,     0.66557,     0.66558,     0.66559,      0.6656,     0.66561,     0.66562,     0.66563,     0.66563,     0.66564,     0.66565,     0.66566,     0.66567,     0.66568,     0.66569,      0.6657,      0.6657,     0.66571,     0.66572,     0.66573,     0.66574,     0.66575,\n",
       "            0.66576,     0.66577,     0.66577,     0.66578,     0.66579,      0.6658,     0.66581,     0.66582,     0.66583,     0.66584,     0.66584,     0.66585,     0.66586,     0.66587,     0.66588,     0.66589,      0.6659,     0.66591,     0.66591,     0.66592,     0.66593,     0.66594,     0.66595,\n",
       "            0.66596,     0.66597,     0.66597,     0.66598,     0.66599,       0.666,     0.66601,     0.66602,     0.66603,     0.66604,     0.66604,     0.66605,     0.66606,     0.66607,     0.66608,     0.66609,      0.6661,     0.66611,     0.66611,     0.66612,     0.66613,     0.66614,     0.66615,\n",
       "            0.66616,     0.66617,     0.66618,     0.66618,     0.66619,      0.6662,     0.66621,     0.66622,     0.66623,     0.66624,     0.66625,     0.66625,     0.66626,     0.66627,     0.66628,     0.66629,      0.6663,     0.66631,     0.66632,     0.66632,     0.66633,     0.66634,     0.66635,\n",
       "            0.66636,     0.66637,     0.66638,     0.66638,     0.66639,      0.6664,     0.66641,     0.66642,     0.66643,     0.66644,     0.66645,     0.66645,     0.66646,     0.66647,     0.66648,     0.66649,      0.6665,     0.66651,     0.66652,     0.66652,     0.66653,     0.66654,     0.66655,\n",
       "            0.66656,     0.66657,     0.66658,     0.66659,     0.66659,      0.6666,     0.66661,     0.66662,     0.66663,     0.66664,     0.66665,     0.66666,     0.66666,     0.66432,     0.66396,      0.6636,     0.66324,     0.66287,     0.66251,     0.66179,     0.65938,     0.65786,     0.65873,\n",
       "             0.6593,     0.65984,     0.66033,     0.66082,     0.66027,     0.65885,     0.65647,     0.65503,     0.65344,     0.65187,     0.65131,     0.65074,     0.65018,     0.65065,     0.65126,     0.65177,     0.65174,     0.65155,     0.65137,     0.65119,     0.65101,     0.65083,     0.65065,\n",
       "            0.65047,     0.65029,     0.65011,     0.64992,     0.64974,     0.64957,     0.64956,     0.64955,     0.64953,     0.64952,     0.64951,      0.6495,     0.64948,     0.64947,     0.64946,     0.64945,     0.64943,     0.64942,     0.64941,      0.6494,     0.64938,     0.64937,     0.64936,\n",
       "            0.64935,     0.64933,     0.64932,     0.64931,      0.6493,     0.64928,     0.64927,     0.64926,     0.64925,     0.64923,     0.64922,     0.64921,      0.6492,     0.64918,     0.64917,     0.64916,     0.64915,     0.64913,     0.64912,     0.64911,      0.6491,     0.64908,     0.64907,\n",
       "            0.64906,     0.64905,     0.64903,     0.64902,     0.64901,       0.649,     0.64898,     0.64897,     0.64896,     0.64895,     0.64893,     0.64892,     0.64891,      0.6489,     0.64888,     0.64887,     0.64886,     0.64885,     0.64883,     0.64882,     0.64881,     0.64879,     0.64878,\n",
       "            0.64877,     0.64876,     0.64874,     0.64873,     0.64872,     0.64871,     0.64869,     0.64868,     0.64867,     0.64866,     0.64864,     0.64863,     0.64862,     0.64861,     0.64859,     0.64858,     0.64857,     0.64856,     0.64854,     0.64853,     0.64852,     0.64851,     0.64849,\n",
       "            0.64848,     0.64847,     0.64846,     0.64844,     0.64843,     0.64842,     0.64841,     0.64839,     0.64838,     0.64837,     0.64836,     0.64834,     0.64833,     0.64832,     0.64831,     0.64829,     0.64828,     0.64827,     0.64826,     0.64824,     0.64823,     0.64822,     0.64821,\n",
       "            0.64819,     0.64818,     0.64817,     0.64816,     0.64814,     0.64813,     0.64812,     0.64811,     0.64809,     0.64808,     0.64807,     0.64806,     0.64804,     0.64803,     0.64802,     0.64801,     0.64799,     0.64798,     0.64797,     0.64795,     0.64794,     0.64793,     0.64792,\n",
       "             0.6479,     0.64789,     0.64788,     0.64787,     0.64785,     0.64784,     0.64783,     0.64782,      0.6478,     0.64779,     0.64778,     0.64777,     0.64775,     0.64774,     0.64773,     0.64772,      0.6477,     0.64769,     0.64768,     0.64767,     0.64765,     0.64764,     0.64763,\n",
       "            0.64762,      0.6476,     0.64759,     0.64758,     0.64757,     0.64755,     0.64754,     0.64753,     0.64752,      0.6475,     0.64749,     0.64748,     0.64747,     0.64745,     0.64744,     0.64743,     0.64742,      0.6474,     0.64739,     0.64738,     0.64737,     0.64735,     0.64734,\n",
       "            0.64733,     0.64732,      0.6473,     0.64729,     0.64728,     0.64727,     0.64791,     0.64667,     0.64746,     0.64788,     0.64894,     0.65151,     0.65327,      0.6551,     0.65596,     0.65884,     0.66129,     0.66256,     0.66259,     0.66142,     0.66305,     0.65862,     0.65817,\n",
       "            0.65762,     0.65788,     0.65597,     0.65692,     0.66115,      0.6638,     0.66044,     0.65992,     0.66224,     0.66218,     0.66313,     0.66379,     0.66074,      0.6644,      0.6649,     0.66553,     0.66244,     0.65955,     0.65639,     0.65355,     0.65019,     0.65162,      0.6526,\n",
       "            0.65481,     0.65398,     0.65628,     0.65683,     0.65744,      0.6592,     0.66015,      0.6613,     0.66071,     0.66292,     0.66249,     0.66053,     0.65849,     0.65686,     0.65467,     0.65381,     0.65199,     0.65207,      0.6526,     0.65458,     0.65404,     0.65425,     0.65544,\n",
       "            0.65443,     0.65525,       0.654,     0.65081,     0.65153,     0.65085,     0.64904,     0.64276,     0.64336,     0.64262,     0.64319,     0.64339,     0.64234,     0.64129,      0.6373,     0.63508,     0.63249,     0.63441,     0.63685,     0.63439,     0.63478,     0.63517,     0.63555,\n",
       "             0.6345,     0.63345,     0.63276,     0.63333,     0.63207,     0.63092,     0.63188,      0.6283,     0.62486,     0.62191,     0.61997,      0.6208,     0.62029,     0.61466,     0.61038,     0.60754,      0.6064,     0.60871,     0.60887,     0.60915,     0.61015,     0.60557,     0.60531,\n",
       "             0.6042,      0.6024,     0.59893,     0.59499,     0.59661,     0.59507,     0.59393,     0.59651,     0.59619,     0.58607,     0.58383,     0.57025,     0.56488,     0.56568,     0.56221,     0.55906,     0.55891,     0.54816,      0.5501,     0.55081,     0.55177,     0.55408,     0.54322,\n",
       "            0.53672,     0.52126,     0.52212,     0.51931,     0.51931,     0.52353,     0.52467,     0.51467,     0.51564,     0.50876,     0.50638,     0.50163,     0.49154,     0.48976,     0.48933,     0.49352,      0.4812,     0.47398,      0.4632,     0.46036,     0.44858,     0.44789,     0.43503,\n",
       "            0.43023,     0.42133,     0.40827,     0.40734,     0.40053,     0.39228,     0.38767,       0.389,     0.38179,     0.37294,     0.36713,     0.35244,     0.34174,     0.32874,     0.32621,      0.3153,     0.31508,     0.30948,     0.29565,     0.28625,     0.27648,     0.26698,     0.25111,\n",
       "            0.25121,     0.23299,     0.22538,     0.22124,     0.21887,      0.2128,       0.197,      0.1834,     0.17053,     0.16059,      0.1611,     0.15771,      0.1293,      0.1019,    0.099885,    0.096371,    0.090624,    0.084804,      0.0741,    0.060841,    0.044436,    0.032863,    0.023303,\n",
       "           0.019548,    0.019596,    0.018441,    0.016816,     0.01519,    0.013563,    0.011935,    0.010305,   0.0077413,   0.0048185,   0.0018956,           0,           0,           0,           0,           0,           0,           0,           0,           0,           0,           0,           0,\n",
       "                  0,           0,           0,           0,           0,           0,           0,           0,           0,           0,           0,           0,           0,           0,           0,           0,           0,           0,           0,           0,           0,           0,           0,\n",
       "                  0,           0,           0,           0,           0,           0,           0,           0,           0,           0,           0,           0,           0,           0,           0,           0,           0,           0,           0,           0,           0,           0,           0,\n",
       "                  0,           0,           0,           0,           0,           0,           0,           0,           0,           0,           0,           0,           0,           0,           0,           0,           0,           0,           0,           0,           0,           0,           0,\n",
       "                  0,           0,           0,           0,           0,           0,           0,           0,           0,           0,           0,           0,           0,           0,           0,           0,           0,           0,           0,           0,           0,           0,           0,\n",
       "                  0,           0,           0,           0,           0,           0,           0,           0,           0,           0,           0,           0,           0,           0,           0,           0,           0,           0,           0,           0,           0,           0,           0,\n",
       "                  0,           0,           0,           0,           0,           0,           0,           0,           0,           0,           0,           0,           0,           0,           0,           0,           0,           0,           0,           0,           0,           0,           0,\n",
       "                  0,           0,           0,           0,           0,           0,           0,           0,           0,           0,           0,           0,           0,           0,           0,           0,           0,           0,           0,           0,           0,           0,           0,\n",
       "                  0,           0,           0,           0,           0,           0,           0,           0,           0,           0,           0,           0,           0,           0,           0,           0,           0,           0,           0,           0,           0,           0,           0,\n",
       "                  0,           0,           0,           0,           0,           0,           0,           0,           0,           0,           0,           0,           0,           0,           0,           0,           0,           0,           0,           0,           0,           0,           0,\n",
       "                  0,           0,           0,           0,           0,           0,           0,           0,           0,           0,           0,           0,           0,           0,           0,           0,           0,           0,           0,           0,           0,           0,           0,\n",
       "                  0,           0,           0,           0,           0,           0,           0,           0,           0,           0,           0,           0,           0,           0,           0,           0,           0,           0,           0,           0,           0,           0,           0,\n",
       "                  0,           0,           0,           0,           0,           0,           0,           0,           0,           0,           0,           0,           0,           0,           0,           0,           0,           0,           0,           0,           0,           0,           0,\n",
       "                  0,           0,           0,           0,           0,           0,           0,           0,           0,           0,           0,           0,           0,           0,           0,           0,           0,           0,           0,           0,           0,           0,           0,\n",
       "                  0,           0,           0,           0,           0,           0,           0,           0,           0,           0,           0,           0,           0,           0,           0,           0,           0,           0,           0,           0,           0,           0,           0,\n",
       "                  0,           0,           0,           0,           0,           0,           0,           0,           0,           0,           0,           0,           0,           0,           0,           0,           0,           0,           0,           0,           0,           0,           0,\n",
       "                  0,           0,           0,           0,           0,           0,           0,           0,           0,           0,           0,           0,           0,           0,           0,           0,           0,           0,           0,           0,           0,           0,           0,\n",
       "                  0,           0,           0,           0,           0,           0,           0,           0,           0,           0,           0]]), 'Confidence', 'F1'], [array([          0,    0.001001,    0.002002,    0.003003,    0.004004,    0.005005,    0.006006,    0.007007,    0.008008,    0.009009,     0.01001,    0.011011,    0.012012,    0.013013,    0.014014,    0.015015,    0.016016,    0.017017,    0.018018,    0.019019,     0.02002,    0.021021,    0.022022,    0.023023,\n",
       "          0.024024,    0.025025,    0.026026,    0.027027,    0.028028,    0.029029,     0.03003,    0.031031,    0.032032,    0.033033,    0.034034,    0.035035,    0.036036,    0.037037,    0.038038,    0.039039,     0.04004,    0.041041,    0.042042,    0.043043,    0.044044,    0.045045,    0.046046,    0.047047,\n",
       "          0.048048,    0.049049,     0.05005,    0.051051,    0.052052,    0.053053,    0.054054,    0.055055,    0.056056,    0.057057,    0.058058,    0.059059,     0.06006,    0.061061,    0.062062,    0.063063,    0.064064,    0.065065,    0.066066,    0.067067,    0.068068,    0.069069,     0.07007,    0.071071,\n",
       "          0.072072,    0.073073,    0.074074,    0.075075,    0.076076,    0.077077,    0.078078,    0.079079,     0.08008,    0.081081,    0.082082,    0.083083,    0.084084,    0.085085,    0.086086,    0.087087,    0.088088,    0.089089,     0.09009,    0.091091,    0.092092,    0.093093,    0.094094,    0.095095,\n",
       "          0.096096,    0.097097,    0.098098,    0.099099,      0.1001,      0.1011,      0.1021,      0.1031,      0.1041,     0.10511,     0.10611,     0.10711,     0.10811,     0.10911,     0.11011,     0.11111,     0.11211,     0.11311,     0.11411,     0.11512,     0.11612,     0.11712,     0.11812,     0.11912,\n",
       "           0.12012,     0.12112,     0.12212,     0.12312,     0.12412,     0.12513,     0.12613,     0.12713,     0.12813,     0.12913,     0.13013,     0.13113,     0.13213,     0.13313,     0.13413,     0.13514,     0.13614,     0.13714,     0.13814,     0.13914,     0.14014,     0.14114,     0.14214,     0.14314,\n",
       "           0.14414,     0.14515,     0.14615,     0.14715,     0.14815,     0.14915,     0.15015,     0.15115,     0.15215,     0.15315,     0.15415,     0.15516,     0.15616,     0.15716,     0.15816,     0.15916,     0.16016,     0.16116,     0.16216,     0.16316,     0.16416,     0.16517,     0.16617,     0.16717,\n",
       "           0.16817,     0.16917,     0.17017,     0.17117,     0.17217,     0.17317,     0.17417,     0.17518,     0.17618,     0.17718,     0.17818,     0.17918,     0.18018,     0.18118,     0.18218,     0.18318,     0.18418,     0.18519,     0.18619,     0.18719,     0.18819,     0.18919,     0.19019,     0.19119,\n",
       "           0.19219,     0.19319,     0.19419,      0.1952,      0.1962,      0.1972,      0.1982,      0.1992,      0.2002,      0.2012,      0.2022,      0.2032,      0.2042,     0.20521,     0.20621,     0.20721,     0.20821,     0.20921,     0.21021,     0.21121,     0.21221,     0.21321,     0.21421,     0.21522,\n",
       "           0.21622,     0.21722,     0.21822,     0.21922,     0.22022,     0.22122,     0.22222,     0.22322,     0.22422,     0.22523,     0.22623,     0.22723,     0.22823,     0.22923,     0.23023,     0.23123,     0.23223,     0.23323,     0.23423,     0.23524,     0.23624,     0.23724,     0.23824,     0.23924,\n",
       "           0.24024,     0.24124,     0.24224,     0.24324,     0.24424,     0.24525,     0.24625,     0.24725,     0.24825,     0.24925,     0.25025,     0.25125,     0.25225,     0.25325,     0.25425,     0.25526,     0.25626,     0.25726,     0.25826,     0.25926,     0.26026,     0.26126,     0.26226,     0.26326,\n",
       "           0.26426,     0.26527,     0.26627,     0.26727,     0.26827,     0.26927,     0.27027,     0.27127,     0.27227,     0.27327,     0.27427,     0.27528,     0.27628,     0.27728,     0.27828,     0.27928,     0.28028,     0.28128,     0.28228,     0.28328,     0.28428,     0.28529,     0.28629,     0.28729,\n",
       "           0.28829,     0.28929,     0.29029,     0.29129,     0.29229,     0.29329,     0.29429,      0.2953,      0.2963,      0.2973,      0.2983,      0.2993,      0.3003,      0.3013,      0.3023,      0.3033,      0.3043,     0.30531,     0.30631,     0.30731,     0.30831,     0.30931,     0.31031,     0.31131,\n",
       "           0.31231,     0.31331,     0.31431,     0.31532,     0.31632,     0.31732,     0.31832,     0.31932,     0.32032,     0.32132,     0.32232,     0.32332,     0.32432,     0.32533,     0.32633,     0.32733,     0.32833,     0.32933,     0.33033,     0.33133,     0.33233,     0.33333,     0.33433,     0.33534,\n",
       "           0.33634,     0.33734,     0.33834,     0.33934,     0.34034,     0.34134,     0.34234,     0.34334,     0.34434,     0.34535,     0.34635,     0.34735,     0.34835,     0.34935,     0.35035,     0.35135,     0.35235,     0.35335,     0.35435,     0.35536,     0.35636,     0.35736,     0.35836,     0.35936,\n",
       "           0.36036,     0.36136,     0.36236,     0.36336,     0.36436,     0.36537,     0.36637,     0.36737,     0.36837,     0.36937,     0.37037,     0.37137,     0.37237,     0.37337,     0.37437,     0.37538,     0.37638,     0.37738,     0.37838,     0.37938,     0.38038,     0.38138,     0.38238,     0.38338,\n",
       "           0.38438,     0.38539,     0.38639,     0.38739,     0.38839,     0.38939,     0.39039,     0.39139,     0.39239,     0.39339,     0.39439,      0.3954,      0.3964,      0.3974,      0.3984,      0.3994,      0.4004,      0.4014,      0.4024,      0.4034,      0.4044,     0.40541,     0.40641,     0.40741,\n",
       "           0.40841,     0.40941,     0.41041,     0.41141,     0.41241,     0.41341,     0.41441,     0.41542,     0.41642,     0.41742,     0.41842,     0.41942,     0.42042,     0.42142,     0.42242,     0.42342,     0.42442,     0.42543,     0.42643,     0.42743,     0.42843,     0.42943,     0.43043,     0.43143,\n",
       "           0.43243,     0.43343,     0.43443,     0.43544,     0.43644,     0.43744,     0.43844,     0.43944,     0.44044,     0.44144,     0.44244,     0.44344,     0.44444,     0.44545,     0.44645,     0.44745,     0.44845,     0.44945,     0.45045,     0.45145,     0.45245,     0.45345,     0.45445,     0.45546,\n",
       "           0.45646,     0.45746,     0.45846,     0.45946,     0.46046,     0.46146,     0.46246,     0.46346,     0.46446,     0.46547,     0.46647,     0.46747,     0.46847,     0.46947,     0.47047,     0.47147,     0.47247,     0.47347,     0.47447,     0.47548,     0.47648,     0.47748,     0.47848,     0.47948,\n",
       "           0.48048,     0.48148,     0.48248,     0.48348,     0.48448,     0.48549,     0.48649,     0.48749,     0.48849,     0.48949,     0.49049,     0.49149,     0.49249,     0.49349,     0.49449,      0.4955,      0.4965,      0.4975,      0.4985,      0.4995,      0.5005,      0.5015,      0.5025,      0.5035,\n",
       "            0.5045,     0.50551,     0.50651,     0.50751,     0.50851,     0.50951,     0.51051,     0.51151,     0.51251,     0.51351,     0.51451,     0.51552,     0.51652,     0.51752,     0.51852,     0.51952,     0.52052,     0.52152,     0.52252,     0.52352,     0.52452,     0.52553,     0.52653,     0.52753,\n",
       "           0.52853,     0.52953,     0.53053,     0.53153,     0.53253,     0.53353,     0.53453,     0.53554,     0.53654,     0.53754,     0.53854,     0.53954,     0.54054,     0.54154,     0.54254,     0.54354,     0.54454,     0.54555,     0.54655,     0.54755,     0.54855,     0.54955,     0.55055,     0.55155,\n",
       "           0.55255,     0.55355,     0.55455,     0.55556,     0.55656,     0.55756,     0.55856,     0.55956,     0.56056,     0.56156,     0.56256,     0.56356,     0.56456,     0.56557,     0.56657,     0.56757,     0.56857,     0.56957,     0.57057,     0.57157,     0.57257,     0.57357,     0.57457,     0.57558,\n",
       "           0.57658,     0.57758,     0.57858,     0.57958,     0.58058,     0.58158,     0.58258,     0.58358,     0.58458,     0.58559,     0.58659,     0.58759,     0.58859,     0.58959,     0.59059,     0.59159,     0.59259,     0.59359,     0.59459,      0.5956,      0.5966,      0.5976,      0.5986,      0.5996,\n",
       "            0.6006,      0.6016,      0.6026,      0.6036,      0.6046,     0.60561,     0.60661,     0.60761,     0.60861,     0.60961,     0.61061,     0.61161,     0.61261,     0.61361,     0.61461,     0.61562,     0.61662,     0.61762,     0.61862,     0.61962,     0.62062,     0.62162,     0.62262,     0.62362,\n",
       "           0.62462,     0.62563,     0.62663,     0.62763,     0.62863,     0.62963,     0.63063,     0.63163,     0.63263,     0.63363,     0.63463,     0.63564,     0.63664,     0.63764,     0.63864,     0.63964,     0.64064,     0.64164,     0.64264,     0.64364,     0.64464,     0.64565,     0.64665,     0.64765,\n",
       "           0.64865,     0.64965,     0.65065,     0.65165,     0.65265,     0.65365,     0.65465,     0.65566,     0.65666,     0.65766,     0.65866,     0.65966,     0.66066,     0.66166,     0.66266,     0.66366,     0.66466,     0.66567,     0.66667,     0.66767,     0.66867,     0.66967,     0.67067,     0.67167,\n",
       "           0.67267,     0.67367,     0.67467,     0.67568,     0.67668,     0.67768,     0.67868,     0.67968,     0.68068,     0.68168,     0.68268,     0.68368,     0.68468,     0.68569,     0.68669,     0.68769,     0.68869,     0.68969,     0.69069,     0.69169,     0.69269,     0.69369,     0.69469,      0.6957,\n",
       "            0.6967,      0.6977,      0.6987,      0.6997,      0.7007,      0.7017,      0.7027,      0.7037,      0.7047,     0.70571,     0.70671,     0.70771,     0.70871,     0.70971,     0.71071,     0.71171,     0.71271,     0.71371,     0.71471,     0.71572,     0.71672,     0.71772,     0.71872,     0.71972,\n",
       "           0.72072,     0.72172,     0.72272,     0.72372,     0.72472,     0.72573,     0.72673,     0.72773,     0.72873,     0.72973,     0.73073,     0.73173,     0.73273,     0.73373,     0.73473,     0.73574,     0.73674,     0.73774,     0.73874,     0.73974,     0.74074,     0.74174,     0.74274,     0.74374,\n",
       "           0.74474,     0.74575,     0.74675,     0.74775,     0.74875,     0.74975,     0.75075,     0.75175,     0.75275,     0.75375,     0.75475,     0.75576,     0.75676,     0.75776,     0.75876,     0.75976,     0.76076,     0.76176,     0.76276,     0.76376,     0.76476,     0.76577,     0.76677,     0.76777,\n",
       "           0.76877,     0.76977,     0.77077,     0.77177,     0.77277,     0.77377,     0.77477,     0.77578,     0.77678,     0.77778,     0.77878,     0.77978,     0.78078,     0.78178,     0.78278,     0.78378,     0.78478,     0.78579,     0.78679,     0.78779,     0.78879,     0.78979,     0.79079,     0.79179,\n",
       "           0.79279,     0.79379,     0.79479,      0.7958,      0.7968,      0.7978,      0.7988,      0.7998,      0.8008,      0.8018,      0.8028,      0.8038,      0.8048,     0.80581,     0.80681,     0.80781,     0.80881,     0.80981,     0.81081,     0.81181,     0.81281,     0.81381,     0.81481,     0.81582,\n",
       "           0.81682,     0.81782,     0.81882,     0.81982,     0.82082,     0.82182,     0.82282,     0.82382,     0.82482,     0.82583,     0.82683,     0.82783,     0.82883,     0.82983,     0.83083,     0.83183,     0.83283,     0.83383,     0.83483,     0.83584,     0.83684,     0.83784,     0.83884,     0.83984,\n",
       "           0.84084,     0.84184,     0.84284,     0.84384,     0.84484,     0.84585,     0.84685,     0.84785,     0.84885,     0.84985,     0.85085,     0.85185,     0.85285,     0.85385,     0.85485,     0.85586,     0.85686,     0.85786,     0.85886,     0.85986,     0.86086,     0.86186,     0.86286,     0.86386,\n",
       "           0.86486,     0.86587,     0.86687,     0.86787,     0.86887,     0.86987,     0.87087,     0.87187,     0.87287,     0.87387,     0.87487,     0.87588,     0.87688,     0.87788,     0.87888,     0.87988,     0.88088,     0.88188,     0.88288,     0.88388,     0.88488,     0.88589,     0.88689,     0.88789,\n",
       "           0.88889,     0.88989,     0.89089,     0.89189,     0.89289,     0.89389,     0.89489,      0.8959,      0.8969,      0.8979,      0.8989,      0.8999,      0.9009,      0.9019,      0.9029,      0.9039,      0.9049,     0.90591,     0.90691,     0.90791,     0.90891,     0.90991,     0.91091,     0.91191,\n",
       "           0.91291,     0.91391,     0.91491,     0.91592,     0.91692,     0.91792,     0.91892,     0.91992,     0.92092,     0.92192,     0.92292,     0.92392,     0.92492,     0.92593,     0.92693,     0.92793,     0.92893,     0.92993,     0.93093,     0.93193,     0.93293,     0.93393,     0.93493,     0.93594,\n",
       "           0.93694,     0.93794,     0.93894,     0.93994,     0.94094,     0.94194,     0.94294,     0.94394,     0.94494,     0.94595,     0.94695,     0.94795,     0.94895,     0.94995,     0.95095,     0.95195,     0.95295,     0.95395,     0.95495,     0.95596,     0.95696,     0.95796,     0.95896,     0.95996,\n",
       "           0.96096,     0.96196,     0.96296,     0.96396,     0.96496,     0.96597,     0.96697,     0.96797,     0.96897,     0.96997,     0.97097,     0.97197,     0.97297,     0.97397,     0.97497,     0.97598,     0.97698,     0.97798,     0.97898,     0.97998,     0.98098,     0.98198,     0.98298,     0.98398,\n",
       "           0.98498,     0.98599,     0.98699,     0.98799,     0.98899,     0.98999,     0.99099,     0.99199,     0.99299,     0.99399,     0.99499,       0.996,       0.997,       0.998,       0.999,           1]), array([[     0.1336,     0.13364,     0.22108,     0.29148,     0.30262,     0.31011,     0.31317,     0.31969,      0.3247,     0.32955,     0.33674,     0.33987,     0.34464,     0.35243,     0.35681,     0.36096,      0.3692,     0.37357,     0.37667,     0.37851,     0.38322,     0.38758,     0.39212,\n",
       "             0.4002,     0.40278,     0.40465,     0.40839,     0.41157,     0.41446,     0.41946,     0.42245,     0.42768,     0.43089,     0.43444,     0.43991,     0.44514,     0.45032,     0.45435,     0.45794,     0.46279,     0.47075,      0.4766,     0.48216,     0.48445,     0.48829,     0.49411,\n",
       "            0.49714,     0.49876,     0.49877,     0.49878,     0.49879,      0.4988,     0.49881,     0.49882,     0.49883,     0.49884,     0.49885,     0.49886,     0.49887,     0.49888,     0.49889,      0.4989,     0.49891,     0.49892,     0.49893,     0.49894,     0.49895,     0.49896,     0.49897,\n",
       "            0.49898,     0.49899,       0.499,     0.49901,     0.49902,     0.49903,     0.49904,     0.49905,     0.49906,     0.49907,     0.49908,     0.49908,     0.49909,      0.4991,     0.49911,     0.49912,     0.49913,     0.49914,     0.49915,     0.49916,     0.49917,     0.49918,     0.49919,\n",
       "             0.4992,     0.49921,     0.49922,     0.49923,     0.49924,     0.49925,     0.49926,     0.49927,     0.49928,     0.49929,      0.4993,     0.49931,     0.49932,     0.49933,     0.49934,     0.49935,     0.49936,     0.49937,     0.49938,     0.49939,      0.4994,     0.49941,     0.49942,\n",
       "            0.49943,     0.49944,     0.49945,     0.49946,     0.49947,     0.49948,     0.49949,      0.4995,     0.49951,     0.49952,     0.49953,     0.49954,     0.49955,     0.49956,     0.49957,     0.49958,     0.49958,     0.49959,      0.4996,     0.49961,     0.49962,     0.49963,     0.49964,\n",
       "            0.49965,     0.49966,     0.49967,     0.49968,     0.49969,      0.4997,     0.49971,     0.49972,     0.49973,     0.49974,     0.49975,     0.49976,     0.49977,     0.49978,     0.49979,      0.4998,     0.49981,     0.49982,     0.49983,     0.49984,     0.49985,     0.49986,     0.49987,\n",
       "            0.49988,     0.49989,      0.4999,     0.49991,     0.49992,     0.49993,     0.49994,     0.49995,     0.49996,     0.49997,     0.49998,     0.49999,         0.5,     0.49868,     0.49848,     0.49827,     0.49807,     0.49786,     0.49766,     0.49725,     0.49589,     0.49511,      0.4961,\n",
       "            0.49675,     0.49735,     0.49792,     0.49848,     0.49829,     0.49749,     0.49614,     0.49532,     0.49442,     0.49353,     0.49321,     0.49289,     0.49256,     0.49341,     0.49411,     0.49469,     0.49474,     0.49464,     0.49453,     0.49443,     0.49433,     0.49422,     0.49412,\n",
       "            0.49402,     0.49391,     0.49381,     0.49371,      0.4936,     0.49351,      0.4935,     0.49349,     0.49348,     0.49348,     0.49347,     0.49346,     0.49346,     0.49345,     0.49344,     0.49343,     0.49343,     0.49342,     0.49341,     0.49341,      0.4934,     0.49339,     0.49338,\n",
       "            0.49338,     0.49337,     0.49336,     0.49336,     0.49335,     0.49334,     0.49333,     0.49333,     0.49332,     0.49331,     0.49331,      0.4933,     0.49329,     0.49328,     0.49328,     0.49327,     0.49326,     0.49326,     0.49325,     0.49324,     0.49323,     0.49323,     0.49322,\n",
       "            0.49321,     0.49321,      0.4932,     0.49319,     0.49318,     0.49318,     0.49317,     0.49316,     0.49316,     0.49315,     0.49314,     0.49313,     0.49313,     0.49312,     0.49311,     0.49311,      0.4931,     0.49309,     0.49308,     0.49308,     0.49307,     0.49306,     0.49306,\n",
       "            0.49305,     0.49304,     0.49303,     0.49303,     0.49302,     0.49301,     0.49301,       0.493,     0.49299,     0.49298,     0.49298,     0.49297,     0.49296,     0.49296,     0.49295,     0.49294,     0.49293,     0.49293,     0.49292,     0.49291,     0.49291,      0.4929,     0.49289,\n",
       "            0.49288,     0.49288,     0.49287,     0.49286,     0.49286,     0.49285,     0.49284,     0.49283,     0.49283,     0.49282,     0.49281,     0.49281,      0.4928,     0.49279,     0.49278,     0.49278,     0.49277,     0.49276,     0.49276,     0.49275,     0.49274,     0.49273,     0.49273,\n",
       "            0.49272,     0.49271,     0.49271,      0.4927,     0.49269,     0.49268,     0.49268,     0.49267,     0.49266,     0.49266,     0.49265,     0.49264,     0.49263,     0.49263,     0.49262,     0.49261,     0.49261,      0.4926,     0.49259,     0.49258,     0.49258,     0.49257,     0.49256,\n",
       "            0.49256,     0.49255,     0.49254,     0.49253,     0.49253,     0.49252,     0.49251,      0.4925,      0.4925,     0.49249,     0.49248,     0.49248,     0.49247,     0.49246,     0.49245,     0.49245,     0.49244,     0.49243,     0.49243,     0.49242,     0.49241,      0.4924,      0.4924,\n",
       "            0.49239,     0.49238,     0.49238,     0.49237,     0.49236,     0.49235,     0.49235,     0.49234,     0.49233,     0.49233,     0.49232,     0.49231,      0.4923,      0.4923,     0.49229,     0.49228,     0.49228,     0.49227,     0.49226,     0.49225,     0.49225,     0.49224,     0.49223,\n",
       "            0.49223,     0.49222,     0.49221,      0.4922,      0.4922,     0.49219,     0.49294,     0.49287,     0.49378,     0.49428,     0.49551,     0.49851,     0.50057,     0.50273,     0.50374,     0.50715,     0.51006,     0.51158,      0.5131,     0.51277,     0.51518,     0.51447,     0.51634,\n",
       "            0.51644,     0.51697,     0.51589,     0.51722,     0.52249,     0.52753,     0.52678,     0.52789,     0.53135,     0.53263,     0.53386,     0.53472,     0.53452,     0.53933,     0.53998,     0.54082,     0.54068,     0.53932,     0.53754,     0.53594,     0.53441,     0.53635,     0.53768,\n",
       "            0.54071,     0.54168,     0.54486,     0.54562,     0.54645,     0.54888,     0.55021,     0.55181,     0.55324,     0.55634,       0.557,     0.55591,     0.55477,     0.55385,     0.55263,      0.5533,     0.55228,      0.5527,     0.55346,     0.55631,     0.55698,     0.55832,     0.56005,\n",
       "             0.5611,     0.56231,     0.56186,     0.56092,     0.56302,     0.56393,     0.56554,       0.562,     0.56502,     0.56498,     0.56586,     0.56641,     0.56581,     0.56522,     0.56296,      0.5617,     0.56162,     0.56701,     0.57092,     0.57011,     0.57074,     0.57137,     0.57199,\n",
       "             0.5714,     0.57081,     0.57067,     0.57224,     0.57153,     0.57093,      0.5725,     0.57091,     0.56895,     0.56726,     0.56615,      0.5676,     0.56788,     0.56464,     0.56216,     0.56051,     0.56085,     0.56758,     0.56881,     0.57313,      0.5749,     0.57466,     0.57759,\n",
       "            0.58058,     0.57954,     0.57752,     0.57623,     0.57991,     0.57901,     0.57869,     0.58826,     0.59151,     0.58563,     0.58639,     0.58635,     0.58627,     0.58799,     0.58678,     0.58539,     0.59115,      0.5925,     0.59705,     0.59872,     0.60099,      0.6065,     0.60185,\n",
       "            0.60207,     0.59301,     0.59593,     0.59418,     0.59618,     0.60743,     0.61589,     0.60973,      0.6227,     0.62312,     0.62164,     0.61867,     0.61356,     0.61479,       0.618,     0.63156,     0.62885,      0.6242,     0.61713,     0.62319,     0.62957,     0.63823,     0.63011,\n",
       "            0.63624,     0.63603,     0.63882,     0.64964,     0.64482,     0.65164,     0.65673,     0.66445,     0.68263,     0.68145,     0.69407,     0.68339,     0.67527,     0.66497,     0.67577,     0.67305,     0.68052,     0.67846,     0.66661,     0.65813,     0.64899,     0.65102,     0.66087,\n",
       "            0.67308,     0.66835,     0.69169,      0.6872,     0.69181,     0.71432,     0.73959,     0.72414,     0.70782,     0.74471,     0.76718,     0.77815,     0.73908,     0.69236,     0.72808,     0.72053,     0.70731,     0.73452,     0.72211,     0.67898,     0.60428,     0.52799,     0.43938,\n",
       "            0.43252,     0.48517,     0.48003,     0.45224,     0.42444,     0.39665,     0.36885,     0.34105,     0.26191,     0.16302,    0.064135,           0,           0,           0,           0,           0,           0,           0,           0,           0,           0,           0,           0,\n",
       "                  0,           0,           0,           0,           0,           0,           0,           0,           0,           0,           0,           0,           0,           0,           0,           0,           0,           0,           0,           1,           1,           1,           1,\n",
       "                  1,           1,           1,           1,           1,           1,           1,           1,           1,           1,           1,           1,           1,           1,           1,           1,           1,           1,           1,           1,           1,           1,           1,\n",
       "                  1,           1,           1,           1,           1,           1,           1,           1,           1,           1,           1,           1,           1,           1,           1,           1,           1,           1,           1,           1,           1,           1,           1,\n",
       "                  1,           1,           1,           1,           1,           1,           1,           1,           1,           1,           1,           1,           1,           1,           1,           1,           1,           1,           1,           1,           1,           1,           1,\n",
       "                  1,           1,           1,           1,           1,           1,           1,           1,           1,           1,           1,           1,           1,           1,           1,           1,           1,           1,           1,           1,           1,           1,           1,\n",
       "                  1,           1,           1,           1,           1,           1,           1,           1,           1,           1,           1,           1,           1,           1,           1,           1,           1,           1,           1,           1,           1,           1,           1,\n",
       "                  1,           1,           1,           1,           1,           1,           1,           1,           1,           1,           1,           1,           1,           1,           1,           1,           1,           1,           1,           1,           1,           1,           1,\n",
       "                  1,           1,           1,           1,           1,           1,           1,           1,           1,           1,           1,           1,           1,           1,           1,           1,           1,           1,           1,           1,           1,           1,           1,\n",
       "                  1,           1,           1,           1,           1,           1,           1,           1,           1,           1,           1,           1,           1,           1,           1,           1,           1,           1,           1,           1,           1,           1,           1,\n",
       "                  1,           1,           1,           1,           1,           1,           1,           1,           1,           1,           1,           1,           1,           1,           1,           1,           1,           1,           1,           1,           1,           1,           1,\n",
       "                  1,           1,           1,           1,           1,           1,           1,           1,           1,           1,           1,           1,           1,           1,           1,           1,           1,           1,           1,           1,           1,           1,           1,\n",
       "                  1,           1,           1,           1,           1,           1,           1,           1,           1,           1,           1,           1,           1,           1,           1,           1,           1,           1,           1,           1,           1,           1,           1,\n",
       "                  1,           1,           1,           1,           1,           1,           1,           1,           1,           1,           1,           1,           1,           1,           1,           1,           1,           1,           1,           1,           1,           1,           1,\n",
       "                  1,           1,           1,           1,           1,           1,           1,           1,           1,           1,           1,           1,           1,           1,           1,           1,           1,           1,           1,           1,           1,           1,           1,\n",
       "                  1,           1,           1,           1,           1,           1,           1,           1,           1,           1,           1,           1,           1,           1,           1,           1,           1,           1,           1,           1,           1,           1,           1,\n",
       "                  1,           1,           1,           1,           1,           1,           1,           1,           1,           1,           1,           1,           1,           1,           1,           1,           1,           1,           1,           1,           1,           1,           1,\n",
       "                  1,           1,           1,           1,           1,           1,           1,           1,           1,           1,           1]]), 'Confidence', 'Precision'], [array([          0,    0.001001,    0.002002,    0.003003,    0.004004,    0.005005,    0.006006,    0.007007,    0.008008,    0.009009,     0.01001,    0.011011,    0.012012,    0.013013,    0.014014,    0.015015,    0.016016,    0.017017,    0.018018,    0.019019,     0.02002,    0.021021,    0.022022,    0.023023,\n",
       "          0.024024,    0.025025,    0.026026,    0.027027,    0.028028,    0.029029,     0.03003,    0.031031,    0.032032,    0.033033,    0.034034,    0.035035,    0.036036,    0.037037,    0.038038,    0.039039,     0.04004,    0.041041,    0.042042,    0.043043,    0.044044,    0.045045,    0.046046,    0.047047,\n",
       "          0.048048,    0.049049,     0.05005,    0.051051,    0.052052,    0.053053,    0.054054,    0.055055,    0.056056,    0.057057,    0.058058,    0.059059,     0.06006,    0.061061,    0.062062,    0.063063,    0.064064,    0.065065,    0.066066,    0.067067,    0.068068,    0.069069,     0.07007,    0.071071,\n",
       "          0.072072,    0.073073,    0.074074,    0.075075,    0.076076,    0.077077,    0.078078,    0.079079,     0.08008,    0.081081,    0.082082,    0.083083,    0.084084,    0.085085,    0.086086,    0.087087,    0.088088,    0.089089,     0.09009,    0.091091,    0.092092,    0.093093,    0.094094,    0.095095,\n",
       "          0.096096,    0.097097,    0.098098,    0.099099,      0.1001,      0.1011,      0.1021,      0.1031,      0.1041,     0.10511,     0.10611,     0.10711,     0.10811,     0.10911,     0.11011,     0.11111,     0.11211,     0.11311,     0.11411,     0.11512,     0.11612,     0.11712,     0.11812,     0.11912,\n",
       "           0.12012,     0.12112,     0.12212,     0.12312,     0.12412,     0.12513,     0.12613,     0.12713,     0.12813,     0.12913,     0.13013,     0.13113,     0.13213,     0.13313,     0.13413,     0.13514,     0.13614,     0.13714,     0.13814,     0.13914,     0.14014,     0.14114,     0.14214,     0.14314,\n",
       "           0.14414,     0.14515,     0.14615,     0.14715,     0.14815,     0.14915,     0.15015,     0.15115,     0.15215,     0.15315,     0.15415,     0.15516,     0.15616,     0.15716,     0.15816,     0.15916,     0.16016,     0.16116,     0.16216,     0.16316,     0.16416,     0.16517,     0.16617,     0.16717,\n",
       "           0.16817,     0.16917,     0.17017,     0.17117,     0.17217,     0.17317,     0.17417,     0.17518,     0.17618,     0.17718,     0.17818,     0.17918,     0.18018,     0.18118,     0.18218,     0.18318,     0.18418,     0.18519,     0.18619,     0.18719,     0.18819,     0.18919,     0.19019,     0.19119,\n",
       "           0.19219,     0.19319,     0.19419,      0.1952,      0.1962,      0.1972,      0.1982,      0.1992,      0.2002,      0.2012,      0.2022,      0.2032,      0.2042,     0.20521,     0.20621,     0.20721,     0.20821,     0.20921,     0.21021,     0.21121,     0.21221,     0.21321,     0.21421,     0.21522,\n",
       "           0.21622,     0.21722,     0.21822,     0.21922,     0.22022,     0.22122,     0.22222,     0.22322,     0.22422,     0.22523,     0.22623,     0.22723,     0.22823,     0.22923,     0.23023,     0.23123,     0.23223,     0.23323,     0.23423,     0.23524,     0.23624,     0.23724,     0.23824,     0.23924,\n",
       "           0.24024,     0.24124,     0.24224,     0.24324,     0.24424,     0.24525,     0.24625,     0.24725,     0.24825,     0.24925,     0.25025,     0.25125,     0.25225,     0.25325,     0.25425,     0.25526,     0.25626,     0.25726,     0.25826,     0.25926,     0.26026,     0.26126,     0.26226,     0.26326,\n",
       "           0.26426,     0.26527,     0.26627,     0.26727,     0.26827,     0.26927,     0.27027,     0.27127,     0.27227,     0.27327,     0.27427,     0.27528,     0.27628,     0.27728,     0.27828,     0.27928,     0.28028,     0.28128,     0.28228,     0.28328,     0.28428,     0.28529,     0.28629,     0.28729,\n",
       "           0.28829,     0.28929,     0.29029,     0.29129,     0.29229,     0.29329,     0.29429,      0.2953,      0.2963,      0.2973,      0.2983,      0.2993,      0.3003,      0.3013,      0.3023,      0.3033,      0.3043,     0.30531,     0.30631,     0.30731,     0.30831,     0.30931,     0.31031,     0.31131,\n",
       "           0.31231,     0.31331,     0.31431,     0.31532,     0.31632,     0.31732,     0.31832,     0.31932,     0.32032,     0.32132,     0.32232,     0.32332,     0.32432,     0.32533,     0.32633,     0.32733,     0.32833,     0.32933,     0.33033,     0.33133,     0.33233,     0.33333,     0.33433,     0.33534,\n",
       "           0.33634,     0.33734,     0.33834,     0.33934,     0.34034,     0.34134,     0.34234,     0.34334,     0.34434,     0.34535,     0.34635,     0.34735,     0.34835,     0.34935,     0.35035,     0.35135,     0.35235,     0.35335,     0.35435,     0.35536,     0.35636,     0.35736,     0.35836,     0.35936,\n",
       "           0.36036,     0.36136,     0.36236,     0.36336,     0.36436,     0.36537,     0.36637,     0.36737,     0.36837,     0.36937,     0.37037,     0.37137,     0.37237,     0.37337,     0.37437,     0.37538,     0.37638,     0.37738,     0.37838,     0.37938,     0.38038,     0.38138,     0.38238,     0.38338,\n",
       "           0.38438,     0.38539,     0.38639,     0.38739,     0.38839,     0.38939,     0.39039,     0.39139,     0.39239,     0.39339,     0.39439,      0.3954,      0.3964,      0.3974,      0.3984,      0.3994,      0.4004,      0.4014,      0.4024,      0.4034,      0.4044,     0.40541,     0.40641,     0.40741,\n",
       "           0.40841,     0.40941,     0.41041,     0.41141,     0.41241,     0.41341,     0.41441,     0.41542,     0.41642,     0.41742,     0.41842,     0.41942,     0.42042,     0.42142,     0.42242,     0.42342,     0.42442,     0.42543,     0.42643,     0.42743,     0.42843,     0.42943,     0.43043,     0.43143,\n",
       "           0.43243,     0.43343,     0.43443,     0.43544,     0.43644,     0.43744,     0.43844,     0.43944,     0.44044,     0.44144,     0.44244,     0.44344,     0.44444,     0.44545,     0.44645,     0.44745,     0.44845,     0.44945,     0.45045,     0.45145,     0.45245,     0.45345,     0.45445,     0.45546,\n",
       "           0.45646,     0.45746,     0.45846,     0.45946,     0.46046,     0.46146,     0.46246,     0.46346,     0.46446,     0.46547,     0.46647,     0.46747,     0.46847,     0.46947,     0.47047,     0.47147,     0.47247,     0.47347,     0.47447,     0.47548,     0.47648,     0.47748,     0.47848,     0.47948,\n",
       "           0.48048,     0.48148,     0.48248,     0.48348,     0.48448,     0.48549,     0.48649,     0.48749,     0.48849,     0.48949,     0.49049,     0.49149,     0.49249,     0.49349,     0.49449,      0.4955,      0.4965,      0.4975,      0.4985,      0.4995,      0.5005,      0.5015,      0.5025,      0.5035,\n",
       "            0.5045,     0.50551,     0.50651,     0.50751,     0.50851,     0.50951,     0.51051,     0.51151,     0.51251,     0.51351,     0.51451,     0.51552,     0.51652,     0.51752,     0.51852,     0.51952,     0.52052,     0.52152,     0.52252,     0.52352,     0.52452,     0.52553,     0.52653,     0.52753,\n",
       "           0.52853,     0.52953,     0.53053,     0.53153,     0.53253,     0.53353,     0.53453,     0.53554,     0.53654,     0.53754,     0.53854,     0.53954,     0.54054,     0.54154,     0.54254,     0.54354,     0.54454,     0.54555,     0.54655,     0.54755,     0.54855,     0.54955,     0.55055,     0.55155,\n",
       "           0.55255,     0.55355,     0.55455,     0.55556,     0.55656,     0.55756,     0.55856,     0.55956,     0.56056,     0.56156,     0.56256,     0.56356,     0.56456,     0.56557,     0.56657,     0.56757,     0.56857,     0.56957,     0.57057,     0.57157,     0.57257,     0.57357,     0.57457,     0.57558,\n",
       "           0.57658,     0.57758,     0.57858,     0.57958,     0.58058,     0.58158,     0.58258,     0.58358,     0.58458,     0.58559,     0.58659,     0.58759,     0.58859,     0.58959,     0.59059,     0.59159,     0.59259,     0.59359,     0.59459,      0.5956,      0.5966,      0.5976,      0.5986,      0.5996,\n",
       "            0.6006,      0.6016,      0.6026,      0.6036,      0.6046,     0.60561,     0.60661,     0.60761,     0.60861,     0.60961,     0.61061,     0.61161,     0.61261,     0.61361,     0.61461,     0.61562,     0.61662,     0.61762,     0.61862,     0.61962,     0.62062,     0.62162,     0.62262,     0.62362,\n",
       "           0.62462,     0.62563,     0.62663,     0.62763,     0.62863,     0.62963,     0.63063,     0.63163,     0.63263,     0.63363,     0.63463,     0.63564,     0.63664,     0.63764,     0.63864,     0.63964,     0.64064,     0.64164,     0.64264,     0.64364,     0.64464,     0.64565,     0.64665,     0.64765,\n",
       "           0.64865,     0.64965,     0.65065,     0.65165,     0.65265,     0.65365,     0.65465,     0.65566,     0.65666,     0.65766,     0.65866,     0.65966,     0.66066,     0.66166,     0.66266,     0.66366,     0.66466,     0.66567,     0.66667,     0.66767,     0.66867,     0.66967,     0.67067,     0.67167,\n",
       "           0.67267,     0.67367,     0.67467,     0.67568,     0.67668,     0.67768,     0.67868,     0.67968,     0.68068,     0.68168,     0.68268,     0.68368,     0.68468,     0.68569,     0.68669,     0.68769,     0.68869,     0.68969,     0.69069,     0.69169,     0.69269,     0.69369,     0.69469,      0.6957,\n",
       "            0.6967,      0.6977,      0.6987,      0.6997,      0.7007,      0.7017,      0.7027,      0.7037,      0.7047,     0.70571,     0.70671,     0.70771,     0.70871,     0.70971,     0.71071,     0.71171,     0.71271,     0.71371,     0.71471,     0.71572,     0.71672,     0.71772,     0.71872,     0.71972,\n",
       "           0.72072,     0.72172,     0.72272,     0.72372,     0.72472,     0.72573,     0.72673,     0.72773,     0.72873,     0.72973,     0.73073,     0.73173,     0.73273,     0.73373,     0.73473,     0.73574,     0.73674,     0.73774,     0.73874,     0.73974,     0.74074,     0.74174,     0.74274,     0.74374,\n",
       "           0.74474,     0.74575,     0.74675,     0.74775,     0.74875,     0.74975,     0.75075,     0.75175,     0.75275,     0.75375,     0.75475,     0.75576,     0.75676,     0.75776,     0.75876,     0.75976,     0.76076,     0.76176,     0.76276,     0.76376,     0.76476,     0.76577,     0.76677,     0.76777,\n",
       "           0.76877,     0.76977,     0.77077,     0.77177,     0.77277,     0.77377,     0.77477,     0.77578,     0.77678,     0.77778,     0.77878,     0.77978,     0.78078,     0.78178,     0.78278,     0.78378,     0.78478,     0.78579,     0.78679,     0.78779,     0.78879,     0.78979,     0.79079,     0.79179,\n",
       "           0.79279,     0.79379,     0.79479,      0.7958,      0.7968,      0.7978,      0.7988,      0.7998,      0.8008,      0.8018,      0.8028,      0.8038,      0.8048,     0.80581,     0.80681,     0.80781,     0.80881,     0.80981,     0.81081,     0.81181,     0.81281,     0.81381,     0.81481,     0.81582,\n",
       "           0.81682,     0.81782,     0.81882,     0.81982,     0.82082,     0.82182,     0.82282,     0.82382,     0.82482,     0.82583,     0.82683,     0.82783,     0.82883,     0.82983,     0.83083,     0.83183,     0.83283,     0.83383,     0.83483,     0.83584,     0.83684,     0.83784,     0.83884,     0.83984,\n",
       "           0.84084,     0.84184,     0.84284,     0.84384,     0.84484,     0.84585,     0.84685,     0.84785,     0.84885,     0.84985,     0.85085,     0.85185,     0.85285,     0.85385,     0.85485,     0.85586,     0.85686,     0.85786,     0.85886,     0.85986,     0.86086,     0.86186,     0.86286,     0.86386,\n",
       "           0.86486,     0.86587,     0.86687,     0.86787,     0.86887,     0.86987,     0.87087,     0.87187,     0.87287,     0.87387,     0.87487,     0.87588,     0.87688,     0.87788,     0.87888,     0.87988,     0.88088,     0.88188,     0.88288,     0.88388,     0.88488,     0.88589,     0.88689,     0.88789,\n",
       "           0.88889,     0.88989,     0.89089,     0.89189,     0.89289,     0.89389,     0.89489,      0.8959,      0.8969,      0.8979,      0.8989,      0.8999,      0.9009,      0.9019,      0.9029,      0.9039,      0.9049,     0.90591,     0.90691,     0.90791,     0.90891,     0.90991,     0.91091,     0.91191,\n",
       "           0.91291,     0.91391,     0.91491,     0.91592,     0.91692,     0.91792,     0.91892,     0.91992,     0.92092,     0.92192,     0.92292,     0.92392,     0.92492,     0.92593,     0.92693,     0.92793,     0.92893,     0.92993,     0.93093,     0.93193,     0.93293,     0.93393,     0.93493,     0.93594,\n",
       "           0.93694,     0.93794,     0.93894,     0.93994,     0.94094,     0.94194,     0.94294,     0.94394,     0.94494,     0.94595,     0.94695,     0.94795,     0.94895,     0.94995,     0.95095,     0.95195,     0.95295,     0.95395,     0.95495,     0.95596,     0.95696,     0.95796,     0.95896,     0.95996,\n",
       "           0.96096,     0.96196,     0.96296,     0.96396,     0.96496,     0.96597,     0.96697,     0.96797,     0.96897,     0.96997,     0.97097,     0.97197,     0.97297,     0.97397,     0.97497,     0.97598,     0.97698,     0.97798,     0.97898,     0.97998,     0.98098,     0.98198,     0.98298,     0.98398,\n",
       "           0.98498,     0.98599,     0.98699,     0.98799,     0.98899,     0.98999,     0.99099,     0.99199,     0.99299,     0.99399,     0.99499,       0.996,       0.997,       0.998,       0.999,           1]), array([[          1,           1,           1,           1,           1,           1,           1,           1,           1,           1,           1,           1,           1,           1,           1,           1,           1,           1,           1,           1,           1,           1,           1,\n",
       "                  1,           1,           1,           1,           1,           1,           1,           1,           1,           1,           1,           1,           1,           1,           1,           1,           1,           1,           1,           1,           1,           1,           1,\n",
       "                  1,           1,           1,           1,           1,           1,           1,           1,           1,           1,           1,           1,           1,           1,           1,           1,           1,           1,           1,           1,           1,           1,           1,\n",
       "                  1,           1,           1,           1,           1,           1,           1,           1,           1,           1,           1,           1,           1,           1,           1,           1,           1,           1,           1,           1,           1,           1,           1,\n",
       "                  1,           1,           1,           1,           1,           1,           1,           1,           1,           1,           1,           1,           1,           1,           1,           1,           1,           1,           1,           1,           1,           1,           1,\n",
       "                  1,           1,           1,           1,           1,           1,           1,           1,           1,           1,           1,           1,           1,           1,           1,           1,           1,           1,           1,           1,           1,           1,           1,\n",
       "                  1,           1,           1,           1,           1,           1,           1,           1,           1,           1,           1,           1,           1,           1,           1,           1,           1,           1,           1,           1,           1,           1,           1,\n",
       "                  1,           1,           1,           1,           1,           1,           1,           1,           1,           1,           1,           1,           1,     0.99473,     0.99392,     0.99311,      0.9923,     0.99149,     0.99068,     0.98908,     0.98369,        0.98,        0.98,\n",
       "               0.98,        0.98,        0.98,        0.98,     0.97828,     0.97514,      0.9699,     0.96673,     0.96326,     0.95982,     0.95859,     0.95736,     0.95614,       0.955,       0.955,       0.955,     0.95469,      0.9543,     0.95391,     0.95351,     0.95312,     0.95273,     0.95233,\n",
       "            0.95194,     0.95155,     0.95116,     0.95076,     0.95037,        0.95,     0.94997,     0.94994,     0.94992,     0.94989,     0.94986,     0.94984,     0.94981,     0.94978,     0.94975,     0.94973,      0.9497,     0.94967,     0.94965,     0.94962,     0.94959,     0.94956,     0.94954,\n",
       "            0.94951,     0.94948,     0.94946,     0.94943,      0.9494,     0.94937,     0.94935,     0.94932,     0.94929,     0.94927,     0.94924,     0.94921,     0.94919,     0.94916,     0.94913,      0.9491,     0.94908,     0.94905,     0.94902,       0.949,     0.94897,     0.94894,     0.94891,\n",
       "            0.94889,     0.94886,     0.94883,     0.94881,     0.94878,     0.94875,     0.94872,      0.9487,     0.94867,     0.94864,     0.94862,     0.94859,     0.94856,     0.94853,     0.94851,     0.94848,     0.94845,     0.94843,      0.9484,     0.94837,     0.94834,     0.94832,     0.94829,\n",
       "            0.94826,     0.94824,     0.94821,     0.94818,     0.94816,     0.94813,      0.9481,     0.94807,     0.94805,     0.94802,     0.94799,     0.94797,     0.94794,     0.94791,     0.94788,     0.94786,     0.94783,      0.9478,     0.94778,     0.94775,     0.94772,     0.94769,     0.94767,\n",
       "            0.94764,     0.94761,     0.94759,     0.94756,     0.94753,      0.9475,     0.94748,     0.94745,     0.94742,      0.9474,     0.94737,     0.94734,     0.94731,     0.94729,     0.94726,     0.94723,     0.94721,     0.94718,     0.94715,     0.94713,      0.9471,     0.94707,     0.94704,\n",
       "            0.94702,     0.94699,     0.94696,     0.94694,     0.94691,     0.94688,     0.94685,     0.94683,      0.9468,     0.94677,     0.94675,     0.94672,     0.94669,     0.94666,     0.94664,     0.94661,     0.94658,     0.94656,     0.94653,      0.9465,     0.94647,     0.94645,     0.94642,\n",
       "            0.94639,     0.94637,     0.94634,     0.94631,     0.94628,     0.94626,     0.94623,      0.9462,     0.94618,     0.94615,     0.94612,      0.9461,     0.94607,     0.94604,     0.94601,     0.94599,     0.94596,     0.94593,     0.94591,     0.94588,     0.94585,     0.94582,      0.9458,\n",
       "            0.94577,     0.94574,     0.94572,     0.94569,     0.94566,     0.94563,     0.94561,     0.94558,     0.94555,     0.94553,      0.9455,     0.94547,     0.94544,     0.94542,     0.94539,     0.94536,     0.94534,     0.94531,     0.94528,     0.94525,     0.94523,      0.9452,     0.94517,\n",
       "            0.94515,     0.94512,     0.94509,     0.94507,     0.94504,     0.94501,       0.945,        0.94,        0.94,        0.94,        0.94,        0.94,        0.94,        0.94,        0.94,        0.94,        0.94,        0.94,       0.935,     0.93141,        0.93,       0.915,     0.90744,\n",
       "              0.905,     0.90438,     0.90048,         0.9,         0.9,       0.895,     0.88498,        0.88,     0.87868,       0.875,       0.875,       0.875,       0.865,       0.865,       0.865,       0.865,       0.855,     0.84876,     0.84272,      0.8373,        0.83,        0.83,        0.83,\n",
       "            0.82997,       0.825,       0.825,       0.825,       0.825,       0.825,       0.825,       0.825,        0.82,        0.82,     0.81727,     0.81365,     0.80991,     0.80693,     0.80293,     0.79894,     0.79564,       0.795,       0.795,       0.795,     0.79206,        0.79,        0.79,\n",
       "              0.785,       0.785,     0.78227,       0.775,     0.77305,     0.76945,     0.76149,     0.75062,     0.74692,       0.745,       0.745,      0.7446,     0.74281,     0.74102,     0.73424,     0.73049,     0.72383,        0.72,        0.72,       0.715,       0.715,       0.715,     0.71498,\n",
       "            0.71326,     0.71154,        0.71,     0.70902,     0.70696,       0.705,       0.705,     0.69852,     0.69295,      0.6882,      0.6851,       0.685,     0.68337,     0.67441,     0.66765,     0.66319,        0.66,     0.65628,       0.655,        0.65,        0.65,        0.64,     0.63583,\n",
       "            0.62982,     0.62715,     0.62199,       0.615,     0.61429,     0.61204,        0.61,       0.605,     0.60094,     0.58652,     0.58128,       0.555,       0.545,       0.545,     0.53961,       0.535,        0.53,        0.51,        0.51,        0.51,        0.51,        0.51,       0.495,\n",
       "            0.48417,       0.465,     0.46458,     0.46121,        0.46,        0.46,     0.45699,     0.44526,        0.44,     0.42987,     0.42718,     0.42183,        0.41,     0.40699,       0.405,       0.405,     0.38971,     0.38204,     0.37073,       0.365,     0.34842,       0.345,     0.33219,\n",
       "              0.325,       0.315,         0.3,     0.29669,     0.29048,      0.2806,       0.275,       0.275,       0.265,     0.25672,     0.24957,     0.23745,     0.22875,     0.21834,       0.215,     0.20587,       0.205,     0.20046,     0.18995,      0.1829,     0.17566,     0.16792,       0.155,\n",
       "            0.15442,     0.14109,     0.13462,     0.13185,        0.13,     0.12502,     0.11363,       0.105,    0.096944,        0.09,        0.09,    0.087745,     0.07085,       0.055,    0.053621,    0.051639,    0.048414,       0.045,    0.039054,    0.031848,    0.023066,    0.016959,    0.011969,\n",
       "               0.01,        0.01,   0.0094009,   0.0085671,   0.0077332,   0.0068994,   0.0060655,   0.0052316,   0.0039287,   0.0024454,  0.00096203,           0,           0,           0,           0,           0,           0,           0,           0,           0,           0,           0,           0,\n",
       "                  0,           0,           0,           0,           0,           0,           0,           0,           0,           0,           0,           0,           0,           0,           0,           0,           0,           0,           0,           0,           0,           0,           0,\n",
       "                  0,           0,           0,           0,           0,           0,           0,           0,           0,           0,           0,           0,           0,           0,           0,           0,           0,           0,           0,           0,           0,           0,           0,\n",
       "                  0,           0,           0,           0,           0,           0,           0,           0,           0,           0,           0,           0,           0,           0,           0,           0,           0,           0,           0,           0,           0,           0,           0,\n",
       "                  0,           0,           0,           0,           0,           0,           0,           0,           0,           0,           0,           0,           0,           0,           0,           0,           0,           0,           0,           0,           0,           0,           0,\n",
       "                  0,           0,           0,           0,           0,           0,           0,           0,           0,           0,           0,           0,           0,           0,           0,           0,           0,           0,           0,           0,           0,           0,           0,\n",
       "                  0,           0,           0,           0,           0,           0,           0,           0,           0,           0,           0,           0,           0,           0,           0,           0,           0,           0,           0,           0,           0,           0,           0,\n",
       "                  0,           0,           0,           0,           0,           0,           0,           0,           0,           0,           0,           0,           0,           0,           0,           0,           0,           0,           0,           0,           0,           0,           0,\n",
       "                  0,           0,           0,           0,           0,           0,           0,           0,           0,           0,           0,           0,           0,           0,           0,           0,           0,           0,           0,           0,           0,           0,           0,\n",
       "                  0,           0,           0,           0,           0,           0,           0,           0,           0,           0,           0,           0,           0,           0,           0,           0,           0,           0,           0,           0,           0,           0,           0,\n",
       "                  0,           0,           0,           0,           0,           0,           0,           0,           0,           0,           0,           0,           0,           0,           0,           0,           0,           0,           0,           0,           0,           0,           0,\n",
       "                  0,           0,           0,           0,           0,           0,           0,           0,           0,           0,           0,           0,           0,           0,           0,           0,           0,           0,           0,           0,           0,           0,           0,\n",
       "                  0,           0,           0,           0,           0,           0,           0,           0,           0,           0,           0,           0,           0,           0,           0,           0,           0,           0,           0,           0,           0,           0,           0,\n",
       "                  0,           0,           0,           0,           0,           0,           0,           0,           0,           0,           0,           0,           0,           0,           0,           0,           0,           0,           0,           0,           0,           0,           0,\n",
       "                  0,           0,           0,           0,           0,           0,           0,           0,           0,           0,           0,           0,           0,           0,           0,           0,           0,           0,           0,           0,           0,           0,           0,\n",
       "                  0,           0,           0,           0,           0,           0,           0,           0,           0,           0,           0,           0,           0,           0,           0,           0,           0,           0,           0,           0,           0,           0,           0,\n",
       "                  0,           0,           0,           0,           0,           0,           0,           0,           0,           0,           0,           0,           0,           0,           0,           0,           0,           0,           0,           0,           0,           0,           0,\n",
       "                  0,           0,           0,           0,           0,           0,           0,           0,           0,           0,           0]]), 'Confidence', 'Recall']]\n",
       "fitness: np.float64(0.6173587979083596)\n",
       "keys: ['metrics/precision(B)', 'metrics/recall(B)', 'metrics/mAP50(B)', 'metrics/mAP50-95(B)']\n",
       "maps: array([    0.61736])\n",
       "names: {0: 'bar'}\n",
       "plot: True\n",
       "results_dict: {'metrics/precision(B)': np.float64(0.4995065288289818), 'metrics/recall(B)': np.float64(1.0), 'metrics/mAP50(B)': np.float64(0.6173587979083597), 'metrics/mAP50-95(B)': np.float64(0.6173587979083596), 'fitness': np.float64(0.6173587979083596)}\n",
       "save_dir: PosixPath('runs/detect/bar_detector_yolov83')\n",
       "speed: {'preprocess': 0.5688296875086962, 'inference': 14.409099582480849, 'loss': 1.9475010049063712e-05, 'postprocess': 12.187110102495353}\n",
       "task: 'detect'"
      ]
     },
     "execution_count": 9,
     "metadata": {},
     "output_type": "execute_result"
    }
   ],
   "source": [
    "from ultralytics import YOLO\n",
    "\n",
    "model = YOLO('yolov8m.pt')\n",
    "\n",
    "model.train(\n",
    "    data='galaxy_yolov8/galaxy_dataset.yaml',\n",
    "    imgsz=416,\n",
    "    epochs=10,\n",
    "    batch=64,\n",
    "    device='mps',  # ← para usar tu GPU Apple Silicon\n",
    "    name='bar_detector_yolov8',\n",
    "    cache=True\n",
    ")\n"
   ]
  },
  {
   "cell_type": "code",
   "execution_count": null,
   "id": "31329400-619d-4735-9f75-4b6eab302a29",
   "metadata": {},
   "outputs": [],
   "source": []
  }
 ],
 "metadata": {
  "kernelspec": {
   "display_name": "Python 3 (ipykernel)",
   "language": "python",
   "name": "python3"
  },
  "language_info": {
   "codemirror_mode": {
    "name": "ipython",
    "version": 3
   },
   "file_extension": ".py",
   "mimetype": "text/x-python",
   "name": "python",
   "nbconvert_exporter": "python",
   "pygments_lexer": "ipython3",
   "version": "3.10.16"
  }
 },
 "nbformat": 4,
 "nbformat_minor": 5
}
